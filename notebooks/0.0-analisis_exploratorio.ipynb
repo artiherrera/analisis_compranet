{
 "cells": [
  {
   "cell_type": "code",
   "execution_count": 1,
   "metadata": {
    "collapsed": true,
    "ExecuteTime": {
     "end_time": "2023-08-22T01:29:08.169991Z",
     "start_time": "2023-08-22T01:29:08.088508Z"
    }
   },
   "outputs": [
    {
     "ename": "TypeError",
     "evalue": "join() got an unexpected keyword argument 'encoding'",
     "output_type": "error",
     "traceback": [
      "\u001B[0;31m---------------------------------------------------------------------------\u001B[0m",
      "\u001B[0;31mTypeError\u001B[0m                                 Traceback (most recent call last)",
      "Input \u001B[0;32mIn [1]\u001B[0m, in \u001B[0;36m<cell line: 5>\u001B[0;34m()\u001B[0m\n\u001B[1;32m      2\u001B[0m \u001B[38;5;28;01mimport\u001B[39;00m \u001B[38;5;21;01mpandas\u001B[39;00m \u001B[38;5;28;01mas\u001B[39;00m \u001B[38;5;21;01mpd\u001B[39;00m\n\u001B[1;32m      3\u001B[0m \u001B[38;5;28;01mimport\u001B[39;00m \u001B[38;5;21;01mjanitor\u001B[39;00m\n\u001B[0;32m----> 5\u001B[0m delitos \u001B[38;5;241m=\u001B[39m \u001B[43mos\u001B[49m\u001B[38;5;241;43m.\u001B[39;49m\u001B[43mpath\u001B[49m\u001B[38;5;241;43m.\u001B[39;49m\u001B[43mjoin\u001B[49m\u001B[43m(\u001B[49m\u001B[38;5;124;43m'\u001B[39;49m\u001B[38;5;124;43m..\u001B[39;49m\u001B[38;5;124;43m'\u001B[39;49m\u001B[43m,\u001B[49m\u001B[43m \u001B[49m\u001B[38;5;124;43m'\u001B[39;49m\u001B[38;5;124;43mdata\u001B[39;49m\u001B[38;5;124;43m'\u001B[39;49m\u001B[43m,\u001B[49m\u001B[43m \u001B[49m\u001B[38;5;124;43m'\u001B[39;49m\u001B[38;5;124;43mIDEFC_NM_jun23.csv\u001B[39;49m\u001B[38;5;124;43m'\u001B[39;49m\u001B[43m,\u001B[49m\u001B[43m \u001B[49m\u001B[43mencoding\u001B[49m\u001B[38;5;241;43m=\u001B[39;49m\u001B[38;5;124;43m'\u001B[39;49m\u001B[38;5;124;43mISO-8859-1\u001B[39;49m\u001B[38;5;124;43m'\u001B[39;49m\u001B[43m)\u001B[49m\n",
      "\u001B[0;31mTypeError\u001B[0m: join() got an unexpected keyword argument 'encoding'"
     ]
    }
   ],
   "source": [
    "import os\n",
    "import pandas as pd\n",
    "import janitor\n",
    "\n",
    "contratos = os.path.join('..', 'data', '2023.xlsx')\n",
    "\n",
    "contratos_df=pd.read_excel(contratos)\n",
    "contratos_df= contratos_df.clean_names()\n"
   ]
  },
  {
   "cell_type": "code",
   "execution_count": 20,
   "outputs": [
    {
     "name": "stdout",
     "output_type": "stream",
     "text": [
      "El número de contratos es de 12567\n"
     ]
    }
   ],
   "source": [
    "print(\n",
    "    'El número de contratos es de',\n",
    "    contratos_df.shape[0]\n",
    ")"
   ],
   "metadata": {
    "collapsed": false,
    "ExecuteTime": {
     "end_time": "2023-08-03T00:53:06.153179Z",
     "start_time": "2023-08-03T00:53:06.151209Z"
    }
   }
  },
  {
   "cell_type": "code",
   "execution_count": 16,
   "outputs": [
    {
     "data": {
      "text/plain": "                                     0\norden_de_gobierno               object\nsiglas_de_la_institucion        object\ninstitucion                     object\nclave_de_la_uc                  object\nnombre_de_la_uc                 object\nresponsable_de_la_uc            object\ncodigo_del_expediente            int64\nreferencia_del_expediente       object\nclave_cucop                     object\ntitulo_del_expediente           object\nplantilla_del_expediente        object\nfundamento_legal                object\nnumero_del_procedimiento        object\nfecha_de_fallo                  object\nfecha_de_publicacion            object\nfecha_de_apertura               object\ncaracter_del_procedimiento      object\ntipo_de_contratacion            object\ntipo_de_procedimiento           object\nforma_de_participacion          object\ncodigo_del_contrato              int64\nnum_de_control_del_contrato     object\ntitulo_del_contrato             object\ndescripcion_del_contrato        object\nfecha_de_inicio_del_contrato    object\nfecha_de_fin_del_contrato       object\nimporte_del_contrato           float64\nmoneda_del_contrato             object\nestatus_del_contrato            object\nconvenio_modificatorio         float64\nclave_del_programa_federal      object\nfecha_de_firma_del_contrato     object\ncontrato_marco                  object\ncompra_consolidada             float64\ncontrato_plurianual            float64\nclave_de_cartera_shcp           object\nfolio_en_el_rupc               float64\nrfc                             object\nproveedor_o_contratista         object\nestratificacion_de_la_empresa  float64\nclave_del_pais_de_la_empresa    object\nrfc_verificado_en_el_sat        object\ncredito_externo                float64\norganismo_financiero           float64\ndireccion_del_anuncio           object",
      "text/html": "<div>\n<style scoped>\n    .dataframe tbody tr th:only-of-type {\n        vertical-align: middle;\n    }\n\n    .dataframe tbody tr th {\n        vertical-align: top;\n    }\n\n    .dataframe thead th {\n        text-align: right;\n    }\n</style>\n<table border=\"1\" class=\"dataframe\">\n  <thead>\n    <tr style=\"text-align: right;\">\n      <th></th>\n      <th>0</th>\n    </tr>\n  </thead>\n  <tbody>\n    <tr>\n      <th>orden_de_gobierno</th>\n      <td>object</td>\n    </tr>\n    <tr>\n      <th>siglas_de_la_institucion</th>\n      <td>object</td>\n    </tr>\n    <tr>\n      <th>institucion</th>\n      <td>object</td>\n    </tr>\n    <tr>\n      <th>clave_de_la_uc</th>\n      <td>object</td>\n    </tr>\n    <tr>\n      <th>nombre_de_la_uc</th>\n      <td>object</td>\n    </tr>\n    <tr>\n      <th>responsable_de_la_uc</th>\n      <td>object</td>\n    </tr>\n    <tr>\n      <th>codigo_del_expediente</th>\n      <td>int64</td>\n    </tr>\n    <tr>\n      <th>referencia_del_expediente</th>\n      <td>object</td>\n    </tr>\n    <tr>\n      <th>clave_cucop</th>\n      <td>object</td>\n    </tr>\n    <tr>\n      <th>titulo_del_expediente</th>\n      <td>object</td>\n    </tr>\n    <tr>\n      <th>plantilla_del_expediente</th>\n      <td>object</td>\n    </tr>\n    <tr>\n      <th>fundamento_legal</th>\n      <td>object</td>\n    </tr>\n    <tr>\n      <th>numero_del_procedimiento</th>\n      <td>object</td>\n    </tr>\n    <tr>\n      <th>fecha_de_fallo</th>\n      <td>object</td>\n    </tr>\n    <tr>\n      <th>fecha_de_publicacion</th>\n      <td>object</td>\n    </tr>\n    <tr>\n      <th>fecha_de_apertura</th>\n      <td>object</td>\n    </tr>\n    <tr>\n      <th>caracter_del_procedimiento</th>\n      <td>object</td>\n    </tr>\n    <tr>\n      <th>tipo_de_contratacion</th>\n      <td>object</td>\n    </tr>\n    <tr>\n      <th>tipo_de_procedimiento</th>\n      <td>object</td>\n    </tr>\n    <tr>\n      <th>forma_de_participacion</th>\n      <td>object</td>\n    </tr>\n    <tr>\n      <th>codigo_del_contrato</th>\n      <td>int64</td>\n    </tr>\n    <tr>\n      <th>num_de_control_del_contrato</th>\n      <td>object</td>\n    </tr>\n    <tr>\n      <th>titulo_del_contrato</th>\n      <td>object</td>\n    </tr>\n    <tr>\n      <th>descripcion_del_contrato</th>\n      <td>object</td>\n    </tr>\n    <tr>\n      <th>fecha_de_inicio_del_contrato</th>\n      <td>object</td>\n    </tr>\n    <tr>\n      <th>fecha_de_fin_del_contrato</th>\n      <td>object</td>\n    </tr>\n    <tr>\n      <th>importe_del_contrato</th>\n      <td>float64</td>\n    </tr>\n    <tr>\n      <th>moneda_del_contrato</th>\n      <td>object</td>\n    </tr>\n    <tr>\n      <th>estatus_del_contrato</th>\n      <td>object</td>\n    </tr>\n    <tr>\n      <th>convenio_modificatorio</th>\n      <td>float64</td>\n    </tr>\n    <tr>\n      <th>clave_del_programa_federal</th>\n      <td>object</td>\n    </tr>\n    <tr>\n      <th>fecha_de_firma_del_contrato</th>\n      <td>object</td>\n    </tr>\n    <tr>\n      <th>contrato_marco</th>\n      <td>object</td>\n    </tr>\n    <tr>\n      <th>compra_consolidada</th>\n      <td>float64</td>\n    </tr>\n    <tr>\n      <th>contrato_plurianual</th>\n      <td>float64</td>\n    </tr>\n    <tr>\n      <th>clave_de_cartera_shcp</th>\n      <td>object</td>\n    </tr>\n    <tr>\n      <th>folio_en_el_rupc</th>\n      <td>float64</td>\n    </tr>\n    <tr>\n      <th>rfc</th>\n      <td>object</td>\n    </tr>\n    <tr>\n      <th>proveedor_o_contratista</th>\n      <td>object</td>\n    </tr>\n    <tr>\n      <th>estratificacion_de_la_empresa</th>\n      <td>float64</td>\n    </tr>\n    <tr>\n      <th>clave_del_pais_de_la_empresa</th>\n      <td>object</td>\n    </tr>\n    <tr>\n      <th>rfc_verificado_en_el_sat</th>\n      <td>object</td>\n    </tr>\n    <tr>\n      <th>credito_externo</th>\n      <td>float64</td>\n    </tr>\n    <tr>\n      <th>organismo_financiero</th>\n      <td>float64</td>\n    </tr>\n    <tr>\n      <th>direccion_del_anuncio</th>\n      <td>object</td>\n    </tr>\n  </tbody>\n</table>\n</div>"
     },
     "execution_count": 16,
     "metadata": {},
     "output_type": "execute_result"
    }
   ],
   "source": [
    "pd.DataFrame(contratos_df.dtypes)"
   ],
   "metadata": {
    "collapsed": false,
    "ExecuteTime": {
     "end_time": "2023-08-03T00:10:48.905111Z",
     "start_time": "2023-08-03T00:10:48.900221Z"
    }
   }
  },
  {
   "cell_type": "code",
   "execution_count": 17,
   "outputs": [
    {
     "name": "stdout",
     "output_type": "stream",
     "text": [
      "orden_de_gobierno\n",
      "siglas_de_la_institucion\n",
      "institucion\n",
      "clave_de_la_uc\n",
      "nombre_de_la_uc\n",
      "responsable_de_la_uc\n",
      "codigo_del_expediente\n",
      "referencia_del_expediente\n",
      "clave_cucop\n",
      "titulo_del_expediente\n",
      "plantilla_del_expediente\n",
      "fundamento_legal\n",
      "numero_del_procedimiento\n",
      "fecha_de_fallo\n",
      "fecha_de_publicacion\n",
      "fecha_de_apertura\n",
      "caracter_del_procedimiento\n",
      "tipo_de_contratacion\n",
      "tipo_de_procedimiento\n",
      "forma_de_participacion\n",
      "codigo_del_contrato\n",
      "num_de_control_del_contrato\n",
      "titulo_del_contrato\n",
      "descripcion_del_contrato\n",
      "fecha_de_inicio_del_contrato\n",
      "fecha_de_fin_del_contrato\n",
      "importe_del_contrato\n",
      "moneda_del_contrato\n",
      "estatus_del_contrato\n",
      "convenio_modificatorio\n",
      "clave_del_programa_federal\n",
      "fecha_de_firma_del_contrato\n",
      "contrato_marco\n",
      "compra_consolidada\n",
      "contrato_plurianual\n",
      "clave_de_cartera_shcp\n",
      "folio_en_el_rupc\n",
      "rfc\n",
      "proveedor_o_contratista\n",
      "estratificacion_de_la_empresa\n",
      "clave_del_pais_de_la_empresa\n",
      "rfc_verificado_en_el_sat\n",
      "credito_externo\n",
      "organismo_financiero\n",
      "direccion_del_anuncio\n"
     ]
    }
   ],
   "source": [
    "for _ in contratos_df.columns:\n",
    "    print(_)"
   ],
   "metadata": {
    "collapsed": false,
    "ExecuteTime": {
     "end_time": "2023-08-03T00:11:10.762565Z",
     "start_time": "2023-08-03T00:11:10.688002Z"
    }
   }
  },
  {
   "cell_type": "markdown",
   "source": [
    "### Limpiando datos"
   ],
   "metadata": {
    "collapsed": false
   }
  },
  {
   "cell_type": "code",
   "execution_count": 19,
   "outputs": [],
   "source": [
    "def correct_swap(df):\n",
    "    mask = df['rfc'].str.len() != 12  # identifica las filas donde 'rfc' tiene una longitud distinta a 13\n",
    "    df.loc[mask, ['proveedor_o_contratista', 'rfc']] = df.loc[mask, ['rfc', 'proveedor_o_contratista']].values  # intercambia los valores\n",
    "    return df\n",
    "\n",
    "contratos_df = correct_swap(contratos_df)\n",
    "\n",
    "contratos_df = contratos_df.dropna(subset=['rfc'])  # elimina las filas donde 'rfc' es nulo\n",
    "\n",
    "ruta = os.path.join('..', 'data')\n",
    "\n",
    "file_path = os.path.join(ruta, '2023clean.csv')  # crea la ruta al archivo corregido\n",
    "\n",
    "contratos_df.to_csv(file_path, index=False)  # guarda el DataFrame corregido"
   ],
   "metadata": {
    "collapsed": false,
    "ExecuteTime": {
     "end_time": "2023-08-03T00:12:58.922467Z",
     "start_time": "2023-08-03T00:12:58.675723Z"
    }
   }
  },
  {
   "cell_type": "code",
   "execution_count": 5,
   "outputs": [
    {
     "name": "stdout",
     "output_type": "stream",
     "text": [
      "1 USD = 17.115130976369297 MXN\n",
      "1 CAD = 13.018183084854396 MXN\n",
      "1 EUR = 18.6863 MXN\n",
      "1 GBP = 21.75912340762477 MXN\n",
      "1 JPY = 0.11946998273767662 MXN\n",
      "Done\n"
     ]
    }
   ],
   "source": [
    "from currency_converter import CurrencyConverter\n",
    "\n",
    "\n",
    "for column in contratos_df.columns:\n",
    "    if contratos_df[column].dtype == 'object':\n",
    "        contratos_df[column] = contratos_df[column].str.upper()\n",
    "\n",
    "\n",
    "for column in contratos_df.columns:\n",
    "    if contratos_df[column].dtype == 'string':\n",
    "        contratos_df[column] = contratos_df[column].str.upper()\n",
    "\n",
    "c = CurrencyConverter()\n",
    "currencies=['USD', 'CAD', 'EUR', 'GBP', 'JPY']\n",
    "\n",
    "# Create a dictionary to store conversion rates\n",
    "conversion_rates = {}\n",
    "\n",
    "for m in currencies:\n",
    "    conversion_rate = c.convert(1, m, 'MXN')\n",
    "    print(1, m, \"=\", conversion_rate, 'MXN')\n",
    "    conversion_rates[m] = conversion_rate\n",
    "\n",
    "# Apply conversion rates\n",
    "contratos_df[\"importe\"] = contratos_df[\"importe_del_contrato\"]\n",
    "\n",
    "for currency, conversion_rate in conversion_rates.items():\n",
    "    contratos_df.loc[contratos_df['moneda_del_contrato'] == currency , 'importe'] = contratos_df.loc[contratos_df['moneda_del_contrato'] == currency , \"importe_del_contrato\"] * conversion_rate\n",
    "\n",
    "print('Done')\n"
   ],
   "metadata": {
    "collapsed": false,
    "ExecuteTime": {
     "end_time": "2023-07-31T21:50:41.449185Z",
     "start_time": "2023-07-31T21:50:41.184333Z"
    }
   }
  },
  {
   "cell_type": "markdown",
   "source": [
    "### Contratos acumulados por instituciones"
   ],
   "metadata": {
    "collapsed": false
   }
  },
  {
   "cell_type": "code",
   "execution_count": 6,
   "outputs": [
    {
     "data": {
      "text/plain": "    siglas_de_la_institucion  \\\n156                     IMSS   \n0                      AEFCM   \n123                   FIDENA   \n200                   ISSSTE   \n193                   INSABI   \n..                       ...   \n275                      VER   \n243                    SESNA   \n77                      CNTS   \n92                   CONADIS   \n34                      CAAD   \n\n                                           institucion              importe  \n156               INSTITUTO MEXICANO DEL SEGURO SOCIAL 128,606,012,474.8178  \n0    AUTORIDAD EDUCATIVA FEDERAL EN LA CIUDAD DE MÉ...   104,040,581,677.53  \n123  FIDEICOMISO DE FORMACIÓN Y CAPACITACIÓN PARA E...    77,259,373,114.01  \n200  INSTITUTO DE SEGURIDAD Y SERVICIOS SOCIALES DE...   32,185,592,525.299  \n193               INSTITUTO DE SALUD PARA EL BIENESTAR 21,571,169,082.55295  \n..                                                 ...                  ...  \n275  _GOBIERNO MUNICIPAL DEL ESTADO DE VERACRUZ DE ...             62,500.0  \n243  SECRETARÍA EJECUTIVA DEL SISTEMA NACIONAL ANTI...             33,687.0  \n77         CENTRO NACIONAL DE LA TRANSFUSIÓN SANGUÍNEA             20,700.0  \n92   CONSEJO NACIONAL PARA EL DESARROLLO Y LA INCLU...            11,945.99  \n34       COMISIÓN DE APELACIÓN Y ARBITRAJE DEL DEPORTE             3,587.27  \n\n[278 rows x 3 columns]",
      "text/html": "<div>\n<style scoped>\n    .dataframe tbody tr th:only-of-type {\n        vertical-align: middle;\n    }\n\n    .dataframe tbody tr th {\n        vertical-align: top;\n    }\n\n    .dataframe thead th {\n        text-align: right;\n    }\n</style>\n<table border=\"1\" class=\"dataframe\">\n  <thead>\n    <tr style=\"text-align: right;\">\n      <th></th>\n      <th>siglas_de_la_institucion</th>\n      <th>institucion</th>\n      <th>importe</th>\n    </tr>\n  </thead>\n  <tbody>\n    <tr>\n      <th>156</th>\n      <td>IMSS</td>\n      <td>INSTITUTO MEXICANO DEL SEGURO SOCIAL</td>\n      <td>128,606,012,474.8178</td>\n    </tr>\n    <tr>\n      <th>0</th>\n      <td>AEFCM</td>\n      <td>AUTORIDAD EDUCATIVA FEDERAL EN LA CIUDAD DE MÉ...</td>\n      <td>104,040,581,677.53</td>\n    </tr>\n    <tr>\n      <th>123</th>\n      <td>FIDENA</td>\n      <td>FIDEICOMISO DE FORMACIÓN Y CAPACITACIÓN PARA E...</td>\n      <td>77,259,373,114.01</td>\n    </tr>\n    <tr>\n      <th>200</th>\n      <td>ISSSTE</td>\n      <td>INSTITUTO DE SEGURIDAD Y SERVICIOS SOCIALES DE...</td>\n      <td>32,185,592,525.299</td>\n    </tr>\n    <tr>\n      <th>193</th>\n      <td>INSABI</td>\n      <td>INSTITUTO DE SALUD PARA EL BIENESTAR</td>\n      <td>21,571,169,082.55295</td>\n    </tr>\n    <tr>\n      <th>...</th>\n      <td>...</td>\n      <td>...</td>\n      <td>...</td>\n    </tr>\n    <tr>\n      <th>275</th>\n      <td>VER</td>\n      <td>_GOBIERNO MUNICIPAL DEL ESTADO DE VERACRUZ DE ...</td>\n      <td>62,500.0</td>\n    </tr>\n    <tr>\n      <th>243</th>\n      <td>SESNA</td>\n      <td>SECRETARÍA EJECUTIVA DEL SISTEMA NACIONAL ANTI...</td>\n      <td>33,687.0</td>\n    </tr>\n    <tr>\n      <th>77</th>\n      <td>CNTS</td>\n      <td>CENTRO NACIONAL DE LA TRANSFUSIÓN SANGUÍNEA</td>\n      <td>20,700.0</td>\n    </tr>\n    <tr>\n      <th>92</th>\n      <td>CONADIS</td>\n      <td>CONSEJO NACIONAL PARA EL DESARROLLO Y LA INCLU...</td>\n      <td>11,945.99</td>\n    </tr>\n    <tr>\n      <th>34</th>\n      <td>CAAD</td>\n      <td>COMISIÓN DE APELACIÓN Y ARBITRAJE DEL DEPORTE</td>\n      <td>3,587.27</td>\n    </tr>\n  </tbody>\n</table>\n<p>278 rows × 3 columns</p>\n</div>"
     },
     "execution_count": 6,
     "metadata": {},
     "output_type": "execute_result"
    }
   ],
   "source": [
    "pd.options.display.float_format = '{:,}'.format\n",
    "\n",
    "ins_df=contratos_df.groupby(['siglas_de_la_institucion', 'institucion']).agg({'importe':'sum'}).reset_index()\n",
    "\n",
    "ins_df.sort_values(by='importe', ascending=False, inplace=True)\n",
    "#institucion.set_index('Institución', inplace=True)\n",
    "\n",
    "ints_df"
   ],
   "metadata": {
    "collapsed": false,
    "ExecuteTime": {
     "end_time": "2023-07-31T21:50:41.461819Z",
     "start_time": "2023-07-31T21:50:41.451232Z"
    }
   }
  },
  {
   "cell_type": "markdown",
   "source": [
    "### Contratos acumulados por empresas"
   ],
   "metadata": {
    "collapsed": false
   }
  },
  {
   "cell_type": "code",
   "execution_count": 7,
   "outputs": [
    {
     "data": {
      "text/plain": "                                proveedor_o_contratista           rfc  \\\n2097                 WYNNMEX TECHNOLOGIES S DE RL DE CV  WTE1307027J7   \n90                                    AM CENIT SA DE CV  ACE120723464   \n1314                                  LMR GRUP SA DE CV  LGR061118PA1   \n2016                              TOPO TACTICO SA DE CV  TTA210305S83   \n2007              TEXTILERA Y PROVEEDORA ATZIN SA DE CV  TPA171026R10   \n...                                                 ...           ...   \n1459                              MUNICIPIO DE CULIACAN  MCU9710067R9   \n124               ASEGURADORA PATRIMONIAL VIDA SA DE CV  APV040521RP0   \n1807  SERVICIOS ADMINISTRATIVOS Y EMPRESARIALES DEL ...  SAE120524LE3   \n1754                                SAYSE S DE RL DE CV  SAY080911R82   \n1877                           SICARU LIMPIEZA SA DE CV  SLI160930UZ9   \n\n                   importe año_constitucion  \n2097      77,259,004,011.0             2013  \n90    27,976,369,404.31927             2012  \n1314  21,479,991,573.59491             2006  \n2016     15,522,751,396.59             2021  \n2007 12,533,685,717.119999             2017  \n...                    ...              ...  \n1459                50.968             1997  \n124                    0.0             2004  \n1807                   0.0             2012  \n1754                   0.0             2008  \n1877                   0.0             2016  \n\n[2105 rows x 4 columns]",
      "text/html": "<div>\n<style scoped>\n    .dataframe tbody tr th:only-of-type {\n        vertical-align: middle;\n    }\n\n    .dataframe tbody tr th {\n        vertical-align: top;\n    }\n\n    .dataframe thead th {\n        text-align: right;\n    }\n</style>\n<table border=\"1\" class=\"dataframe\">\n  <thead>\n    <tr style=\"text-align: right;\">\n      <th></th>\n      <th>proveedor_o_contratista</th>\n      <th>rfc</th>\n      <th>importe</th>\n      <th>año_constitucion</th>\n    </tr>\n  </thead>\n  <tbody>\n    <tr>\n      <th>2097</th>\n      <td>WYNNMEX TECHNOLOGIES S DE RL DE CV</td>\n      <td>WTE1307027J7</td>\n      <td>77,259,004,011.0</td>\n      <td>2013</td>\n    </tr>\n    <tr>\n      <th>90</th>\n      <td>AM CENIT SA DE CV</td>\n      <td>ACE120723464</td>\n      <td>27,976,369,404.31927</td>\n      <td>2012</td>\n    </tr>\n    <tr>\n      <th>1314</th>\n      <td>LMR GRUP SA DE CV</td>\n      <td>LGR061118PA1</td>\n      <td>21,479,991,573.59491</td>\n      <td>2006</td>\n    </tr>\n    <tr>\n      <th>2016</th>\n      <td>TOPO TACTICO SA DE CV</td>\n      <td>TTA210305S83</td>\n      <td>15,522,751,396.59</td>\n      <td>2021</td>\n    </tr>\n    <tr>\n      <th>2007</th>\n      <td>TEXTILERA Y PROVEEDORA ATZIN SA DE CV</td>\n      <td>TPA171026R10</td>\n      <td>12,533,685,717.119999</td>\n      <td>2017</td>\n    </tr>\n    <tr>\n      <th>...</th>\n      <td>...</td>\n      <td>...</td>\n      <td>...</td>\n      <td>...</td>\n    </tr>\n    <tr>\n      <th>1459</th>\n      <td>MUNICIPIO DE CULIACAN</td>\n      <td>MCU9710067R9</td>\n      <td>50.968</td>\n      <td>1997</td>\n    </tr>\n    <tr>\n      <th>124</th>\n      <td>ASEGURADORA PATRIMONIAL VIDA SA DE CV</td>\n      <td>APV040521RP0</td>\n      <td>0.0</td>\n      <td>2004</td>\n    </tr>\n    <tr>\n      <th>1807</th>\n      <td>SERVICIOS ADMINISTRATIVOS Y EMPRESARIALES DEL ...</td>\n      <td>SAE120524LE3</td>\n      <td>0.0</td>\n      <td>2012</td>\n    </tr>\n    <tr>\n      <th>1754</th>\n      <td>SAYSE S DE RL DE CV</td>\n      <td>SAY080911R82</td>\n      <td>0.0</td>\n      <td>2008</td>\n    </tr>\n    <tr>\n      <th>1877</th>\n      <td>SICARU LIMPIEZA SA DE CV</td>\n      <td>SLI160930UZ9</td>\n      <td>0.0</td>\n      <td>2016</td>\n    </tr>\n  </tbody>\n</table>\n<p>2105 rows × 4 columns</p>\n</div>"
     },
     "execution_count": 7,
     "metadata": {},
     "output_type": "execute_result"
    }
   ],
   "source": [
    "pd.options.display.float_format = '{:,}'.format\n",
    "\n",
    "prov_df=contratos_df.groupby(['proveedor_o_contratista', 'rfc']).agg({'importe':'sum'}).reset_index()\n",
    "\n",
    "prov_df.sort_values(by='importe', ascending=False, inplace=True)\n",
    "\n",
    "def convert_year(two_digit_year):\n",
    "    if int(two_digit_year) > 23:\n",
    "        return \"19\" + two_digit_year\n",
    "    else:\n",
    "        return \"20\" + two_digit_year\n",
    "\n",
    "prov_df['año_constitucion'] = prov_df['rfc'].astype(str).str[3:5].apply(lambda x: convert_year(x))\n",
    "\n",
    "#institucion.set_index('Institución', inplace=True)\n",
    "prov_df"
   ],
   "metadata": {
    "collapsed": false,
    "ExecuteTime": {
     "end_time": "2023-07-31T21:50:41.493728Z",
     "start_time": "2023-07-31T21:50:41.465334Z"
    }
   }
  },
  {
   "cell_type": "code",
   "execution_count": 8,
   "outputs": [
    {
     "data": {
      "text/plain": "siglas_de_la_institucion  index  \\\n0                          2097   \n1                            90   \n2                          1314   \n3                          2016   \n4                          2007   \n...                         ...   \n2100                       1459   \n2101                        124   \n2102                       1807   \n2103                       1754   \n2104                       1877   \n\nsiglas_de_la_institucion                            proveedor_o_contratista  \\\n0                                        WYNNMEX TECHNOLOGIES S DE RL DE CV   \n1                                                         AM CENIT SA DE CV   \n2                                                         LMR GRUP SA DE CV   \n3                                                     TOPO TACTICO SA DE CV   \n4                                     TEXTILERA Y PROVEEDORA ATZIN SA DE CV   \n...                                                                     ...   \n2100                                                  MUNICIPIO DE CULIACAN   \n2101                                  ASEGURADORA PATRIMONIAL VIDA SA DE CV   \n2102                      SERVICIOS ADMINISTRATIVOS Y EMPRESARIALES DEL ...   \n2103                                                    SAYSE S DE RL DE CV   \n2104                                               SICARU LIMPIEZA SA DE CV   \n\nsiglas_de_la_institucion           rfc         importe_total año_constitucion  \\\n0                         WTE1307027J7      77,259,004,011.0             2013   \n1                         ACE120723464 27,976,369,404.319267             2012   \n2                         LGR061118PA1 21,479,991,573.594906             2006   \n3                         TTA210305S83 15,522,751,396.589996             2021   \n4                         TPA171026R10 12,533,685,717.119995             2017   \n...                                ...                   ...              ...   \n2100                      MCU9710067R9                50.968             1997   \n2101                      APV040521RP0                   0.0             2004   \n2102                      SAE120524LE3                   0.0             2012   \n2103                      SAY080911R82                   0.0             2008   \n2104                      SLI160930UZ9                   0.0             2016   \n\nsiglas_de_la_institucion            AEFCM     AFAC      AGN  AGROASEMEX  AGS  \\\n0                                     0.0      0.0      0.0         0.0  0.0   \n1                        27,910,160,440.0 39,183.0  7,362.3         0.0  0.0   \n2                        21,336,359,000.0 40,898.0 75,389.2         0.0  0.0   \n3                        15,492,162,400.0      0.0      0.0         0.0  0.0   \n4                        12,529,221,020.0      0.0      0.0         0.0  0.0   \n...                                   ...      ...      ...         ...  ...   \n2100                                  0.0      0.0      0.0         0.0  0.0   \n2101                                  0.0      0.0      0.0         0.0  0.0   \n2102                                  0.0      0.0      0.0         0.0  0.0   \n2103                                  0.0      0.0      0.0         0.0  0.0   \n2104                                  0.0      0.0      0.0         0.0  0.0   \n\nsiglas_de_la_institucion  ...  TECNM  TFJA  TLAX  TRIBUNALES AGRARIOS  \\\n0                         ...    0.0   0.0   0.0                  0.0   \n1                         ...    0.0   0.0   0.0                  0.0   \n2                         ...    0.0   0.0   0.0                  0.0   \n3                         ...    0.0   0.0   0.0                  0.0   \n4                         ...    0.0   0.0   0.0                  0.0   \n...                       ...    ...   ...   ...                  ...   \n2100                      ...    0.0   0.0   0.0                  0.0   \n2101                      ...    0.0   0.0   0.0                  0.0   \n2102                      ...    0.0   0.0   0.0                  0.0   \n2103                      ...    0.0   0.0   0.0                  0.0   \n2104                      ...    0.0   0.0   0.0                  0.0   \n\nsiglas_de_la_institucion   TVMETRO     UNADM  UPN      USCMM  VER  ZAC  \n0                              0.0       0.0  0.0        0.0  0.0  0.0  \n1                        45,889.75  3,873.15  0.0        0.0  0.0  0.0  \n2                         29,765.1 20,033.88  0.0 128,945.44  0.0  0.0  \n3                              0.0       0.0  0.0        0.0  0.0  0.0  \n4                              0.0  5,175.76  0.0        0.0  0.0  0.0  \n...                            ...       ...  ...        ...  ...  ...  \n2100                           0.0       0.0  0.0        0.0  0.0  0.0  \n2101                           0.0       0.0  0.0        0.0  0.0  0.0  \n2102                           0.0       0.0  0.0        0.0  0.0  0.0  \n2103                           0.0       0.0  0.0        0.0  0.0  0.0  \n2104                           0.0       0.0  0.0        0.0  0.0  0.0  \n\n[2105 rows x 268 columns]",
      "text/html": "<div>\n<style scoped>\n    .dataframe tbody tr th:only-of-type {\n        vertical-align: middle;\n    }\n\n    .dataframe tbody tr th {\n        vertical-align: top;\n    }\n\n    .dataframe thead th {\n        text-align: right;\n    }\n</style>\n<table border=\"1\" class=\"dataframe\">\n  <thead>\n    <tr style=\"text-align: right;\">\n      <th>siglas_de_la_institucion</th>\n      <th>index</th>\n      <th>proveedor_o_contratista</th>\n      <th>rfc</th>\n      <th>importe_total</th>\n      <th>año_constitucion</th>\n      <th>AEFCM</th>\n      <th>AFAC</th>\n      <th>AGN</th>\n      <th>AGROASEMEX</th>\n      <th>AGS</th>\n      <th>...</th>\n      <th>TECNM</th>\n      <th>TFJA</th>\n      <th>TLAX</th>\n      <th>TRIBUNALES AGRARIOS</th>\n      <th>TVMETRO</th>\n      <th>UNADM</th>\n      <th>UPN</th>\n      <th>USCMM</th>\n      <th>VER</th>\n      <th>ZAC</th>\n    </tr>\n  </thead>\n  <tbody>\n    <tr>\n      <th>0</th>\n      <td>2097</td>\n      <td>WYNNMEX TECHNOLOGIES S DE RL DE CV</td>\n      <td>WTE1307027J7</td>\n      <td>77,259,004,011.0</td>\n      <td>2013</td>\n      <td>0.0</td>\n      <td>0.0</td>\n      <td>0.0</td>\n      <td>0.0</td>\n      <td>0.0</td>\n      <td>...</td>\n      <td>0.0</td>\n      <td>0.0</td>\n      <td>0.0</td>\n      <td>0.0</td>\n      <td>0.0</td>\n      <td>0.0</td>\n      <td>0.0</td>\n      <td>0.0</td>\n      <td>0.0</td>\n      <td>0.0</td>\n    </tr>\n    <tr>\n      <th>1</th>\n      <td>90</td>\n      <td>AM CENIT SA DE CV</td>\n      <td>ACE120723464</td>\n      <td>27,976,369,404.319267</td>\n      <td>2012</td>\n      <td>27,910,160,440.0</td>\n      <td>39,183.0</td>\n      <td>7,362.3</td>\n      <td>0.0</td>\n      <td>0.0</td>\n      <td>...</td>\n      <td>0.0</td>\n      <td>0.0</td>\n      <td>0.0</td>\n      <td>0.0</td>\n      <td>45,889.75</td>\n      <td>3,873.15</td>\n      <td>0.0</td>\n      <td>0.0</td>\n      <td>0.0</td>\n      <td>0.0</td>\n    </tr>\n    <tr>\n      <th>2</th>\n      <td>1314</td>\n      <td>LMR GRUP SA DE CV</td>\n      <td>LGR061118PA1</td>\n      <td>21,479,991,573.594906</td>\n      <td>2006</td>\n      <td>21,336,359,000.0</td>\n      <td>40,898.0</td>\n      <td>75,389.2</td>\n      <td>0.0</td>\n      <td>0.0</td>\n      <td>...</td>\n      <td>0.0</td>\n      <td>0.0</td>\n      <td>0.0</td>\n      <td>0.0</td>\n      <td>29,765.1</td>\n      <td>20,033.88</td>\n      <td>0.0</td>\n      <td>128,945.44</td>\n      <td>0.0</td>\n      <td>0.0</td>\n    </tr>\n    <tr>\n      <th>3</th>\n      <td>2016</td>\n      <td>TOPO TACTICO SA DE CV</td>\n      <td>TTA210305S83</td>\n      <td>15,522,751,396.589996</td>\n      <td>2021</td>\n      <td>15,492,162,400.0</td>\n      <td>0.0</td>\n      <td>0.0</td>\n      <td>0.0</td>\n      <td>0.0</td>\n      <td>...</td>\n      <td>0.0</td>\n      <td>0.0</td>\n      <td>0.0</td>\n      <td>0.0</td>\n      <td>0.0</td>\n      <td>0.0</td>\n      <td>0.0</td>\n      <td>0.0</td>\n      <td>0.0</td>\n      <td>0.0</td>\n    </tr>\n    <tr>\n      <th>4</th>\n      <td>2007</td>\n      <td>TEXTILERA Y PROVEEDORA ATZIN SA DE CV</td>\n      <td>TPA171026R10</td>\n      <td>12,533,685,717.119995</td>\n      <td>2017</td>\n      <td>12,529,221,020.0</td>\n      <td>0.0</td>\n      <td>0.0</td>\n      <td>0.0</td>\n      <td>0.0</td>\n      <td>...</td>\n      <td>0.0</td>\n      <td>0.0</td>\n      <td>0.0</td>\n      <td>0.0</td>\n      <td>0.0</td>\n      <td>5,175.76</td>\n      <td>0.0</td>\n      <td>0.0</td>\n      <td>0.0</td>\n      <td>0.0</td>\n    </tr>\n    <tr>\n      <th>...</th>\n      <td>...</td>\n      <td>...</td>\n      <td>...</td>\n      <td>...</td>\n      <td>...</td>\n      <td>...</td>\n      <td>...</td>\n      <td>...</td>\n      <td>...</td>\n      <td>...</td>\n      <td>...</td>\n      <td>...</td>\n      <td>...</td>\n      <td>...</td>\n      <td>...</td>\n      <td>...</td>\n      <td>...</td>\n      <td>...</td>\n      <td>...</td>\n      <td>...</td>\n      <td>...</td>\n    </tr>\n    <tr>\n      <th>2100</th>\n      <td>1459</td>\n      <td>MUNICIPIO DE CULIACAN</td>\n      <td>MCU9710067R9</td>\n      <td>50.968</td>\n      <td>1997</td>\n      <td>0.0</td>\n      <td>0.0</td>\n      <td>0.0</td>\n      <td>0.0</td>\n      <td>0.0</td>\n      <td>...</td>\n      <td>0.0</td>\n      <td>0.0</td>\n      <td>0.0</td>\n      <td>0.0</td>\n      <td>0.0</td>\n      <td>0.0</td>\n      <td>0.0</td>\n      <td>0.0</td>\n      <td>0.0</td>\n      <td>0.0</td>\n    </tr>\n    <tr>\n      <th>2101</th>\n      <td>124</td>\n      <td>ASEGURADORA PATRIMONIAL VIDA SA DE CV</td>\n      <td>APV040521RP0</td>\n      <td>0.0</td>\n      <td>2004</td>\n      <td>0.0</td>\n      <td>0.0</td>\n      <td>0.0</td>\n      <td>0.0</td>\n      <td>0.0</td>\n      <td>...</td>\n      <td>0.0</td>\n      <td>0.0</td>\n      <td>0.0</td>\n      <td>0.0</td>\n      <td>0.0</td>\n      <td>0.0</td>\n      <td>0.0</td>\n      <td>0.0</td>\n      <td>0.0</td>\n      <td>0.0</td>\n    </tr>\n    <tr>\n      <th>2102</th>\n      <td>1807</td>\n      <td>SERVICIOS ADMINISTRATIVOS Y EMPRESARIALES DEL ...</td>\n      <td>SAE120524LE3</td>\n      <td>0.0</td>\n      <td>2012</td>\n      <td>0.0</td>\n      <td>0.0</td>\n      <td>0.0</td>\n      <td>0.0</td>\n      <td>0.0</td>\n      <td>...</td>\n      <td>0.0</td>\n      <td>0.0</td>\n      <td>0.0</td>\n      <td>0.0</td>\n      <td>0.0</td>\n      <td>0.0</td>\n      <td>0.0</td>\n      <td>0.0</td>\n      <td>0.0</td>\n      <td>0.0</td>\n    </tr>\n    <tr>\n      <th>2103</th>\n      <td>1754</td>\n      <td>SAYSE S DE RL DE CV</td>\n      <td>SAY080911R82</td>\n      <td>0.0</td>\n      <td>2008</td>\n      <td>0.0</td>\n      <td>0.0</td>\n      <td>0.0</td>\n      <td>0.0</td>\n      <td>0.0</td>\n      <td>...</td>\n      <td>0.0</td>\n      <td>0.0</td>\n      <td>0.0</td>\n      <td>0.0</td>\n      <td>0.0</td>\n      <td>0.0</td>\n      <td>0.0</td>\n      <td>0.0</td>\n      <td>0.0</td>\n      <td>0.0</td>\n    </tr>\n    <tr>\n      <th>2104</th>\n      <td>1877</td>\n      <td>SICARU LIMPIEZA SA DE CV</td>\n      <td>SLI160930UZ9</td>\n      <td>0.0</td>\n      <td>2016</td>\n      <td>0.0</td>\n      <td>0.0</td>\n      <td>0.0</td>\n      <td>0.0</td>\n      <td>0.0</td>\n      <td>...</td>\n      <td>0.0</td>\n      <td>0.0</td>\n      <td>0.0</td>\n      <td>0.0</td>\n      <td>0.0</td>\n      <td>0.0</td>\n      <td>0.0</td>\n      <td>0.0</td>\n      <td>0.0</td>\n      <td>0.0</td>\n    </tr>\n  </tbody>\n</table>\n<p>2105 rows × 268 columns</p>\n</div>"
     },
     "execution_count": 8,
     "metadata": {},
     "output_type": "execute_result"
    }
   ],
   "source": [
    "\n",
    "# Primero agrupamos por 'proveedor_o_contratista', 'rfc', y 'siglas_de_la_institucion'\n",
    "grouped_df = contratos_df.groupby(['proveedor_o_contratista', 'rfc', 'siglas_de_la_institucion']).agg({'importe':'sum'}).reset_index()\n",
    "\n",
    "# Luego hacemos pivot sobre el dataframe agrupado\n",
    "pivot_df = pd.pivot_table(grouped_df, values='importe', index=['proveedor_o_contratista', 'rfc'], columns='siglas_de_la_institucion', fill_value=0)\n",
    "\n",
    "# Finalmente reseteamos el índice\n",
    "prov_df = pivot_df.reset_index()\n",
    "\n",
    "# Agregar columna de importe total\n",
    "prov_df['importe_total'] = prov_df.loc[:, prov_df.columns != 'rfc'].sum(axis=1, numeric_only=True)\n",
    "\n",
    "prov_df.loc[:, 'año_constitucion'] = prov_df['rfc'].astype(str).str[3:5].apply(lambda x: convert_year(x))\n",
    "\n",
    "\n",
    "# Reordenar las columnas para que 'importe_total' aparezca primero\n",
    "column_order = ['proveedor_o_contratista', 'rfc', 'importe_total', 'año_constitucion'] + [col for col in prov_df.columns if col not in ['proveedor_o_contratista', 'rfc', 'importe_total', 'año_constitucion']]\n",
    "prov_df = prov_df[column_order]\n",
    "\n",
    "# Añadir año_constitucion\n",
    "\n",
    "# Ordenar por importe_total\n",
    "prov_df.sort_values(by='importe_total', ascending=False, inplace=True)\n",
    "prov_df = prov_df.reset_index()\n",
    "\n",
    "\n",
    "#prov_df.drop(columns='siglas_de_la_institucion', inplace=True)\n",
    "\n",
    "prov_df\n"
   ],
   "metadata": {
    "collapsed": false,
    "ExecuteTime": {
     "end_time": "2023-07-31T21:50:41.561433Z",
     "start_time": "2023-07-31T21:50:41.475607Z"
    }
   }
  },
  {
   "cell_type": "markdown",
   "source": [
    "### Funcion de búsqueda"
   ],
   "metadata": {
    "collapsed": false
   }
  },
  {
   "cell_type": "code",
   "execution_count": 9,
   "outputs": [],
   "source": [
    "def filter_contratos(contratos_df):\n",
    "    # Solicita al usuario un proveedor o contratista o RFC\n",
    "    search_term = input(\"Por favor, ingresa el nombre del proveedor o contratista o el RFC (déjalo en blanco para mostrar todos): \").lower()\n",
    "\n",
    "    # Solicita al usuario las siglas de la institución o \"todas\" para buscar en todas\n",
    "    institution = input(\"Por favor, ingresa las siglas de la institución (déjalo en blanco para mostrar todas) o 'todas' para buscar en todas: \").upper()\n",
    "\n",
    "    # Solicita al usuario las palabras clave en la descripción del contrato\n",
    "    keywords = input(\"Por favor, ingresa las palabras clave en la descripción del contrato (separa múltiples palabras con comas, déjalo en blanco para buscar todas): \").upper()\n",
    "\n",
    "    # Solicita al usuario las palabras a excluir en la descripción del contrato\n",
    "    exclude_words = input(\"Por favor, ingresa las palabras a excluir en la descripción del contrato (separa múltiples palabras con comas, déjalo en blanco para no excluir ninguna): \").upper()\n",
    "\n",
    "    # Inicialmente asumimos todos los contratos\n",
    "    filtered_df = contratos_df.copy()  # Creamos una copia del DataFrame\n",
    "\n",
    "    # Convierte las columnas de texto a minúsculas\n",
    "    filtered_df['proveedor_o_contratista'] = filtered_df['proveedor_o_contratista'].str.upper()\n",
    "    filtered_df['siglas_de_la_institucion'] = filtered_df['siglas_de_la_institucion'].str.upper()\n",
    "    filtered_df['descripcion_del_contrato'] = filtered_df['descripcion_del_contrato'].str.upper()\n",
    "\n",
    "    # Filtra por proveedor o contratista o RFC si se proporciona\n",
    "    if search_term:\n",
    "        if len(search_term) == 12 and search_term.isalnum(): # RFC en México tiene 13 caracteres y sólo contiene letras y números\n",
    "            filtered_df = filtered_df.loc[filtered_df['rfc'] == search_term]\n",
    "        else:\n",
    "            filtered_df = filtered_df.loc[filtered_df['proveedor_o_contratista'].str.contains(search_term, case=False)]\n",
    "\n",
    "    # Filtra por institución si se proporciona\n",
    "    if institution != 'todas' and institution:\n",
    "        filtered_df = filtered_df.loc[filtered_df['siglas_de_la_institucion'] == institution]\n",
    "\n",
    "    # Reemplaza los NaN en la descripción del contrato por cadenas vacías\n",
    "    filtered_df['descripcion_del_contrato'] = filtered_df['descripcion_del_contrato'].fillna('')\n",
    "\n",
    "    # Filtra por palabras clave en la descripción del contrato si se proporcionan\n",
    "    if keywords:\n",
    "        for keyword in keywords.split(','):\n",
    "            keyword = keyword.strip()  # Remueve los espacios adicionales al principio y al final de la palabra\n",
    "            filtered_df = filtered_df.loc[filtered_df['descripcion_del_contrato'].str.contains(keyword, case=False)]\n",
    "\n",
    "    # Excluye contratos que contienen ciertas palabras en la descripción del contrato si se proporcionan\n",
    "    if exclude_words:\n",
    "        for word in exclude_words.split(','):\n",
    "            word = word.strip()  # Remueve los espacios adicionales al principio y al final de la palabra\n",
    "            filtered_df = filtered_df.loc[~filtered_df['descripcion_del_contrato'].str.contains(word, case=False)]\n",
    "\n",
    "    # Ordena el DataFrame filtrado por importe en orden descendente\n",
    "    filtered_df = filtered_df.sort_values(by='importe', ascending=False)\n",
    "\n",
    "    # Muestra el DataFrame filtrado\n",
    "    return filtered_df\n",
    "\n",
    "# Usa la función:\n"
   ],
   "metadata": {
    "collapsed": false,
    "ExecuteTime": {
     "end_time": "2023-07-31T21:50:41.561654Z",
     "start_time": "2023-07-31T21:50:41.539303Z"
    }
   }
  },
  {
   "cell_type": "markdown",
   "source": [
    "### BÚSQUEDA"
   ],
   "metadata": {
    "collapsed": false
   }
  },
  {
   "cell_type": "code",
   "execution_count": 19,
   "outputs": [
    {
     "data": {
      "text/plain": "      siglas_de_la_institucion  \\\n4321                    FIDENA   \n12037                    AEFCM   \n12102                    AEFCM   \n12031                    AEFCM   \n12098                    AEFCM   \n...                        ...   \n5508                       IPN   \n913                        HJM   \n8304                       IPN   \n8291                       IPN   \n11299                      INP   \n\n                                     titulo_del_contrato  \\\n4321   SERVICIO DE VIDEOVIGILANCIA PARA LAS ESCUELAS ...   \n12037  ADQUISICIÓN CONSOLIDADA DE VESTUARIO, UNIFORME...   \n12102  ADQUISICIÓN CONSOLIDADA DE VESTUARIO, UNIFORME...   \n12031  ADQUISICIÓN CONSOLIDADA DE VESTUARIO, UNIFORME...   \n12098  ADQUISICIÓN CONSOLIDADA DE VESTUARIO, UNIFORME...   \n...                                                  ...   \n5508                             AQUISICION DE PERSIANAS   \n913    DH3-000077 MATERIALES, ACCESORIOS Y SUMINISTRO...   \n8304   SERVICIOS PROFESIONALES PARA LA DIRECCIÓN DE C...   \n8291   SERVICIOS PROFESIONALES PARA LA DIRECCIÓN DE C...   \n11299                                          CANCELADO   \n\n                                descripcion_del_contrato           rfc  \\\n4321   SERVICIO DE VIDEOVIGILANCIA PARA LAS ESCUELAS ...  WTE1307027J7   \n12037  ADQUISICIÓN CONSOLIDADA DE VESTUARIO, UNIFORME...  ACE120723464   \n12102  ADQUISICIÓN CONSOLIDADA DE VESTUARIO, UNIFORME...  ACE120723464   \n12031  ADQUISICIÓN CONSOLIDADA DE VESTUARIO, UNIFORME...  LGR061118PA1   \n12098  ADQUISICIÓN CONSOLIDADA DE VESTUARIO, UNIFORME...  LGR061118PA1   \n...                                                  ...           ...   \n5508                             AQUISICION DE PERSIANAS           NaN   \n913    DH3-000077 MATERIALES, ACCESORIOS Y SUMINISTRO...  QUI040525KW7   \n8304   SERVICIOS PROFESIONALES PARA LA DIRECCIÓN DE C...           NaN   \n8291   SERVICIOS PROFESIONALES PARA LA DIRECCIÓN DE C...           NaN   \n11299                                          CANCELADO  TPA171026R10   \n\n                     proveedor_o_contratista          importe  \\\n4321      WYNNMEX TECHNOLOGIES S DE RL DE CV 77,259,004,011.0   \n12037                      AM CENIT SA DE CV 13,955,080,220.0   \n12102                      AM CENIT SA DE CV 13,955,080,220.0   \n12031                      LMR GRUP SA DE CV 10,668,179,500.0   \n12098                      LMR GRUP SA DE CV 10,668,179,500.0   \n...                                      ...              ...   \n5508           YAZMIN BERENICE RAMOS BENITEZ              0.0   \n913                     QUIRMEX S.A. DE C.V.              0.0   \n8304                 JENIFFER VERGARA ALEMAN              0.0   \n8291                  IRENE DENI LUNA JURADO              0.0   \n11299  TEXTILERA Y PROVEEDORA ATZIN SA DE CV              0.0   \n\n                                   direccion_del_anuncio  \n4321   HTTPS://COMPRANET.HACIENDA.GOB.MX/ESOP/GUEST/G...  \n12037  HTTPS://COMPRANET.HACIENDA.GOB.MX/ESOP/GUEST/G...  \n12102  HTTPS://COMPRANET.HACIENDA.GOB.MX/ESOP/GUEST/G...  \n12031  HTTPS://COMPRANET.HACIENDA.GOB.MX/ESOP/GUEST/G...  \n12098  HTTPS://COMPRANET.HACIENDA.GOB.MX/ESOP/GUEST/G...  \n...                                                  ...  \n5508   HTTPS://COMPRANET.HACIENDA.GOB.MX/ESOP/GUEST/G...  \n913    HTTPS://COMPRANET.HACIENDA.GOB.MX/ESOP/GUEST/G...  \n8304   HTTPS://COMPRANET.HACIENDA.GOB.MX/ESOP/GUEST/G...  \n8291   HTTPS://COMPRANET.HACIENDA.GOB.MX/ESOP/GUEST/G...  \n11299  HTTPS://COMPRANET.HACIENDA.GOB.MX/ESOP/GUEST/G...  \n\n[12567 rows x 7 columns]",
      "text/html": "<div>\n<style scoped>\n    .dataframe tbody tr th:only-of-type {\n        vertical-align: middle;\n    }\n\n    .dataframe tbody tr th {\n        vertical-align: top;\n    }\n\n    .dataframe thead th {\n        text-align: right;\n    }\n</style>\n<table border=\"1\" class=\"dataframe\">\n  <thead>\n    <tr style=\"text-align: right;\">\n      <th></th>\n      <th>siglas_de_la_institucion</th>\n      <th>titulo_del_contrato</th>\n      <th>descripcion_del_contrato</th>\n      <th>rfc</th>\n      <th>proveedor_o_contratista</th>\n      <th>importe</th>\n      <th>direccion_del_anuncio</th>\n    </tr>\n  </thead>\n  <tbody>\n    <tr>\n      <th>4321</th>\n      <td>FIDENA</td>\n      <td>SERVICIO DE VIDEOVIGILANCIA PARA LAS ESCUELAS ...</td>\n      <td>SERVICIO DE VIDEOVIGILANCIA PARA LAS ESCUELAS ...</td>\n      <td>WTE1307027J7</td>\n      <td>WYNNMEX TECHNOLOGIES S DE RL DE CV</td>\n      <td>77,259,004,011.0</td>\n      <td>HTTPS://COMPRANET.HACIENDA.GOB.MX/ESOP/GUEST/G...</td>\n    </tr>\n    <tr>\n      <th>12037</th>\n      <td>AEFCM</td>\n      <td>ADQUISICIÓN CONSOLIDADA DE VESTUARIO, UNIFORME...</td>\n      <td>ADQUISICIÓN CONSOLIDADA DE VESTUARIO, UNIFORME...</td>\n      <td>ACE120723464</td>\n      <td>AM CENIT SA DE CV</td>\n      <td>13,955,080,220.0</td>\n      <td>HTTPS://COMPRANET.HACIENDA.GOB.MX/ESOP/GUEST/G...</td>\n    </tr>\n    <tr>\n      <th>12102</th>\n      <td>AEFCM</td>\n      <td>ADQUISICIÓN CONSOLIDADA DE VESTUARIO, UNIFORME...</td>\n      <td>ADQUISICIÓN CONSOLIDADA DE VESTUARIO, UNIFORME...</td>\n      <td>ACE120723464</td>\n      <td>AM CENIT SA DE CV</td>\n      <td>13,955,080,220.0</td>\n      <td>HTTPS://COMPRANET.HACIENDA.GOB.MX/ESOP/GUEST/G...</td>\n    </tr>\n    <tr>\n      <th>12031</th>\n      <td>AEFCM</td>\n      <td>ADQUISICIÓN CONSOLIDADA DE VESTUARIO, UNIFORME...</td>\n      <td>ADQUISICIÓN CONSOLIDADA DE VESTUARIO, UNIFORME...</td>\n      <td>LGR061118PA1</td>\n      <td>LMR GRUP SA DE CV</td>\n      <td>10,668,179,500.0</td>\n      <td>HTTPS://COMPRANET.HACIENDA.GOB.MX/ESOP/GUEST/G...</td>\n    </tr>\n    <tr>\n      <th>12098</th>\n      <td>AEFCM</td>\n      <td>ADQUISICIÓN CONSOLIDADA DE VESTUARIO, UNIFORME...</td>\n      <td>ADQUISICIÓN CONSOLIDADA DE VESTUARIO, UNIFORME...</td>\n      <td>LGR061118PA1</td>\n      <td>LMR GRUP SA DE CV</td>\n      <td>10,668,179,500.0</td>\n      <td>HTTPS://COMPRANET.HACIENDA.GOB.MX/ESOP/GUEST/G...</td>\n    </tr>\n    <tr>\n      <th>...</th>\n      <td>...</td>\n      <td>...</td>\n      <td>...</td>\n      <td>...</td>\n      <td>...</td>\n      <td>...</td>\n      <td>...</td>\n    </tr>\n    <tr>\n      <th>5508</th>\n      <td>IPN</td>\n      <td>AQUISICION DE PERSIANAS</td>\n      <td>AQUISICION DE PERSIANAS</td>\n      <td>NaN</td>\n      <td>YAZMIN BERENICE RAMOS BENITEZ</td>\n      <td>0.0</td>\n      <td>HTTPS://COMPRANET.HACIENDA.GOB.MX/ESOP/GUEST/G...</td>\n    </tr>\n    <tr>\n      <th>913</th>\n      <td>HJM</td>\n      <td>DH3-000077 MATERIALES, ACCESORIOS Y SUMINISTRO...</td>\n      <td>DH3-000077 MATERIALES, ACCESORIOS Y SUMINISTRO...</td>\n      <td>QUI040525KW7</td>\n      <td>QUIRMEX S.A. DE C.V.</td>\n      <td>0.0</td>\n      <td>HTTPS://COMPRANET.HACIENDA.GOB.MX/ESOP/GUEST/G...</td>\n    </tr>\n    <tr>\n      <th>8304</th>\n      <td>IPN</td>\n      <td>SERVICIOS PROFESIONALES PARA LA DIRECCIÓN DE C...</td>\n      <td>SERVICIOS PROFESIONALES PARA LA DIRECCIÓN DE C...</td>\n      <td>NaN</td>\n      <td>JENIFFER VERGARA ALEMAN</td>\n      <td>0.0</td>\n      <td>HTTPS://COMPRANET.HACIENDA.GOB.MX/ESOP/GUEST/G...</td>\n    </tr>\n    <tr>\n      <th>8291</th>\n      <td>IPN</td>\n      <td>SERVICIOS PROFESIONALES PARA LA DIRECCIÓN DE C...</td>\n      <td>SERVICIOS PROFESIONALES PARA LA DIRECCIÓN DE C...</td>\n      <td>NaN</td>\n      <td>IRENE DENI LUNA JURADO</td>\n      <td>0.0</td>\n      <td>HTTPS://COMPRANET.HACIENDA.GOB.MX/ESOP/GUEST/G...</td>\n    </tr>\n    <tr>\n      <th>11299</th>\n      <td>INP</td>\n      <td>CANCELADO</td>\n      <td>CANCELADO</td>\n      <td>TPA171026R10</td>\n      <td>TEXTILERA Y PROVEEDORA ATZIN SA DE CV</td>\n      <td>0.0</td>\n      <td>HTTPS://COMPRANET.HACIENDA.GOB.MX/ESOP/GUEST/G...</td>\n    </tr>\n  </tbody>\n</table>\n<p>12567 rows × 7 columns</p>\n</div>"
     },
     "execution_count": 19,
     "metadata": {},
     "output_type": "execute_result"
    }
   ],
   "source": [
    "# Usa la función:\n",
    "buscar = filter_contratos(contratos_df)\n",
    "buscar[['siglas_de_la_institucion', 'titulo_del_contrato', 'descripcion_del_contrato','rfc','proveedor_o_contratista', 'importe', 'direccion_del_anuncio' ]]"
   ],
   "metadata": {
    "collapsed": false,
    "ExecuteTime": {
     "end_time": "2023-07-31T22:00:50.286063Z",
     "start_time": "2023-07-31T22:00:37.329323Z"
    }
   }
  },
  {
   "cell_type": "markdown",
   "source": [
    "\n",
    "\n",
    "## Próximas mejoras:"
   ],
   "metadata": {
    "collapsed": false
   }
  },
  {
   "cell_type": "markdown",
   "source": [
    "* Agregar un sistema de búsqueda global.\n",
    "* Agregar contratos de años pasados.\n",
    "* Agregar una variable de año."
   ],
   "metadata": {
    "collapsed": false
   }
  }
 ],
 "metadata": {
  "kernelspec": {
   "display_name": "Python 3",
   "language": "python",
   "name": "python3"
  },
  "language_info": {
   "codemirror_mode": {
    "name": "ipython",
    "version": 2
   },
   "file_extension": ".py",
   "mimetype": "text/x-python",
   "name": "python",
   "nbconvert_exporter": "python",
   "pygments_lexer": "ipython2",
   "version": "2.7.6"
  }
 },
 "nbformat": 4,
 "nbformat_minor": 0
}
