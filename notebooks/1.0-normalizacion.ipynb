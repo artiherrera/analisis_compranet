{
 "cells": [
  {
   "cell_type": "code",
   "execution_count": 6,
   "metadata": {
    "collapsed": true,
    "ExecuteTime": {
     "end_time": "2023-08-02T01:56:42.599375Z",
     "start_time": "2023-08-02T01:56:35.172775Z"
    }
   },
   "outputs": [
    {
     "name": "stderr",
     "output_type": "stream",
     "text": [
      "/var/folders/n1/5l3l1c6x5xd7lfxmx1cmr21c0000gn/T/ipykernel_37862/487760034.py:13: DtypeWarning: Columns (6,20,42,43) have mixed types. Specify dtype option on import or set low_memory=False.\n",
      "  dfs[f'df{year}'] = pd.read_csv(file_path)  # lee el archivo CSV y lo almacena en el diccionario\n",
      "/var/folders/n1/5l3l1c6x5xd7lfxmx1cmr21c0000gn/T/ipykernel_37862/487760034.py:13: DtypeWarning: Columns (6,20,42,43) have mixed types. Specify dtype option on import or set low_memory=False.\n",
      "  dfs[f'df{year}'] = pd.read_csv(file_path)  # lee el archivo CSV y lo almacena en el diccionario\n",
      "/var/folders/n1/5l3l1c6x5xd7lfxmx1cmr21c0000gn/T/ipykernel_37862/487760034.py:13: DtypeWarning: Columns (6,7,20,42,43) have mixed types. Specify dtype option on import or set low_memory=False.\n",
      "  dfs[f'df{year}'] = pd.read_csv(file_path)  # lee el archivo CSV y lo almacena en el diccionario\n",
      "/var/folders/n1/5l3l1c6x5xd7lfxmx1cmr21c0000gn/T/ipykernel_37862/487760034.py:13: DtypeWarning: Columns (6,20,42) have mixed types. Specify dtype option on import or set low_memory=False.\n",
      "  dfs[f'df{year}'] = pd.read_csv(file_path)  # lee el archivo CSV y lo almacena en el diccionario\n"
     ]
    }
   ],
   "source": [
    "import os\n",
    "import pandas as pd\n",
    "import janitor\n",
    "\n",
    "dfs = {}\n",
    "\n",
    "ruta = os.path.join('..', 'data')\n",
    "\n",
    "years = range(2019, 2023)\n",
    "\n",
    "for year in years:\n",
    "    file_path = os.path.join(ruta, f'{year}raw.csv')  # crea la ruta al archivo\n",
    "    dfs[f'df{year}'] = pd.read_csv(file_path)  # lee el archivo CSV y lo almacena en el diccionario\n",
    "\n",
    "df2019 = dfs['df2019']\n",
    "df2020 = dfs['df2020']\n",
    "df2021 = dfs['df2021']\n",
    "df2022 = dfs['df2022']\n",
    "\n",
    "for name, df in dfs.items():\n",
    "    dfs[name] = df.clean_names()"
   ]
  },
  {
   "cell_type": "code",
   "execution_count": 8,
   "outputs": [
    {
     "data": {
      "text/plain": "                              df2019_dtype df2020_dtype df2021_dtype  \\\norden_de_gobierno                   object       object       object   \nsiglas_de_la_institucion            object       object       object   \ninstitucion                         object       object       object   \nclave_de_la_uc                      object       object       object   \nnombre_de_la_uc                     object       object       object   \nresponsable_de_la_uc                object       object       object   \ncodigo_del_expediente               object       object       object   \nreferencia_del_expediente           object       object       object   \nclave_cucop                         object       object       object   \ntitulo_del_expediente               object       object       object   \nplantilla_del_expediente            object       object       object   \nfundamento_legal                    object       object       object   \nnumero_del_procedimiento            object       object       object   \nfecha_de_fallo                      object       object       object   \nfecha_de_publicacion                object       object       object   \nfecha_de_apertura                   object       object       object   \ncaracter_del_procedimiento          object       object       object   \ntipo_de_contratacion                object       object       object   \ntipo_de_procedimiento               object       object       object   \nforma_de_participacion              object       object       object   \ncodigo_del_contrato                 object       object       object   \nnum_de_control_del_contrato         object       object       object   \ntitulo_del_contrato                 object       object       object   \ndescripcion_del_contrato            object       object       object   \nfecha_de_inicio_del_contrato        object       object       object   \nfecha_de_fin_del_contrato           object       object       object   \nimporte_del_contrato               float64      float64      float64   \nmoneda_del_contrato                 object       object       object   \nestatus_del_contrato                object       object       object   \nconvenio_modificatorio               int64        int64        int64   \nclave_del_programa_federal          object       object       object   \nfecha_de_firma_del_contrato         object       object       object   \ncontrato_marco                      object       object       object   \ncompra_consolidada                   int64        int64        int64   \ncontrato_plurianual                  int64        int64        int64   \nclave_de_cartera_shcp               object       object       object   \nfolio_en_el_rupc                   float64      float64      float64   \nrfc                                 object       object       object   \nproveedor_o_contratista             object       object       object   \nestratificacion_de_la_empresa       object       object       object   \nclave_del_pais_de_la_empresa        object       object       object   \nrfc_verificado_en_el_sat             int64        int64        int64   \ncredito_externo                     object       object       object   \norganismo_financiero                object       object       object   \ndireccion_del_anuncio               object       object       object   \n\n                              df2022_dtype  \norden_de_gobierno                   object  \nsiglas_de_la_institucion            object  \ninstitucion                         object  \nclave_de_la_uc                      object  \nnombre_de_la_uc                     object  \nresponsable_de_la_uc                object  \ncodigo_del_expediente               object  \nreferencia_del_expediente           object  \nclave_cucop                         object  \ntitulo_del_expediente               object  \nplantilla_del_expediente            object  \nfundamento_legal                    object  \nnumero_del_procedimiento            object  \nfecha_de_fallo                      object  \nfecha_de_publicacion                object  \nfecha_de_apertura                   object  \ncaracter_del_procedimiento          object  \ntipo_de_contratacion                object  \ntipo_de_procedimiento               object  \nforma_de_participacion              object  \ncodigo_del_contrato                 object  \nnum_de_control_del_contrato         object  \ntitulo_del_contrato                 object  \ndescripcion_del_contrato            object  \nfecha_de_inicio_del_contrato        object  \nfecha_de_fin_del_contrato           object  \nimporte_del_contrato               float64  \nmoneda_del_contrato                 object  \nestatus_del_contrato                object  \nconvenio_modificatorio             float64  \nclave_del_programa_federal          object  \nfecha_de_firma_del_contrato         object  \ncontrato_marco                      object  \ncompra_consolidada                 float64  \ncontrato_plurianual                float64  \nclave_de_cartera_shcp               object  \nfolio_en_el_rupc                   float64  \nrfc                                 object  \nproveedor_o_contratista             object  \nestratificacion_de_la_empresa       object  \nclave_del_pais_de_la_empresa        object  \nrfc_verificado_en_el_sat             int64  \ncredito_externo                     object  \norganismo_financiero                object  \ndireccion_del_anuncio               object  ",
      "text/html": "<div>\n<style scoped>\n    .dataframe tbody tr th:only-of-type {\n        vertical-align: middle;\n    }\n\n    .dataframe tbody tr th {\n        vertical-align: top;\n    }\n\n    .dataframe thead th {\n        text-align: right;\n    }\n</style>\n<table border=\"1\" class=\"dataframe\">\n  <thead>\n    <tr style=\"text-align: right;\">\n      <th></th>\n      <th>df2019_dtype</th>\n      <th>df2020_dtype</th>\n      <th>df2021_dtype</th>\n      <th>df2022_dtype</th>\n    </tr>\n  </thead>\n  <tbody>\n    <tr>\n      <th>orden_de_gobierno</th>\n      <td>object</td>\n      <td>object</td>\n      <td>object</td>\n      <td>object</td>\n    </tr>\n    <tr>\n      <th>siglas_de_la_institucion</th>\n      <td>object</td>\n      <td>object</td>\n      <td>object</td>\n      <td>object</td>\n    </tr>\n    <tr>\n      <th>institucion</th>\n      <td>object</td>\n      <td>object</td>\n      <td>object</td>\n      <td>object</td>\n    </tr>\n    <tr>\n      <th>clave_de_la_uc</th>\n      <td>object</td>\n      <td>object</td>\n      <td>object</td>\n      <td>object</td>\n    </tr>\n    <tr>\n      <th>nombre_de_la_uc</th>\n      <td>object</td>\n      <td>object</td>\n      <td>object</td>\n      <td>object</td>\n    </tr>\n    <tr>\n      <th>responsable_de_la_uc</th>\n      <td>object</td>\n      <td>object</td>\n      <td>object</td>\n      <td>object</td>\n    </tr>\n    <tr>\n      <th>codigo_del_expediente</th>\n      <td>object</td>\n      <td>object</td>\n      <td>object</td>\n      <td>object</td>\n    </tr>\n    <tr>\n      <th>referencia_del_expediente</th>\n      <td>object</td>\n      <td>object</td>\n      <td>object</td>\n      <td>object</td>\n    </tr>\n    <tr>\n      <th>clave_cucop</th>\n      <td>object</td>\n      <td>object</td>\n      <td>object</td>\n      <td>object</td>\n    </tr>\n    <tr>\n      <th>titulo_del_expediente</th>\n      <td>object</td>\n      <td>object</td>\n      <td>object</td>\n      <td>object</td>\n    </tr>\n    <tr>\n      <th>plantilla_del_expediente</th>\n      <td>object</td>\n      <td>object</td>\n      <td>object</td>\n      <td>object</td>\n    </tr>\n    <tr>\n      <th>fundamento_legal</th>\n      <td>object</td>\n      <td>object</td>\n      <td>object</td>\n      <td>object</td>\n    </tr>\n    <tr>\n      <th>numero_del_procedimiento</th>\n      <td>object</td>\n      <td>object</td>\n      <td>object</td>\n      <td>object</td>\n    </tr>\n    <tr>\n      <th>fecha_de_fallo</th>\n      <td>object</td>\n      <td>object</td>\n      <td>object</td>\n      <td>object</td>\n    </tr>\n    <tr>\n      <th>fecha_de_publicacion</th>\n      <td>object</td>\n      <td>object</td>\n      <td>object</td>\n      <td>object</td>\n    </tr>\n    <tr>\n      <th>fecha_de_apertura</th>\n      <td>object</td>\n      <td>object</td>\n      <td>object</td>\n      <td>object</td>\n    </tr>\n    <tr>\n      <th>caracter_del_procedimiento</th>\n      <td>object</td>\n      <td>object</td>\n      <td>object</td>\n      <td>object</td>\n    </tr>\n    <tr>\n      <th>tipo_de_contratacion</th>\n      <td>object</td>\n      <td>object</td>\n      <td>object</td>\n      <td>object</td>\n    </tr>\n    <tr>\n      <th>tipo_de_procedimiento</th>\n      <td>object</td>\n      <td>object</td>\n      <td>object</td>\n      <td>object</td>\n    </tr>\n    <tr>\n      <th>forma_de_participacion</th>\n      <td>object</td>\n      <td>object</td>\n      <td>object</td>\n      <td>object</td>\n    </tr>\n    <tr>\n      <th>codigo_del_contrato</th>\n      <td>object</td>\n      <td>object</td>\n      <td>object</td>\n      <td>object</td>\n    </tr>\n    <tr>\n      <th>num_de_control_del_contrato</th>\n      <td>object</td>\n      <td>object</td>\n      <td>object</td>\n      <td>object</td>\n    </tr>\n    <tr>\n      <th>titulo_del_contrato</th>\n      <td>object</td>\n      <td>object</td>\n      <td>object</td>\n      <td>object</td>\n    </tr>\n    <tr>\n      <th>descripcion_del_contrato</th>\n      <td>object</td>\n      <td>object</td>\n      <td>object</td>\n      <td>object</td>\n    </tr>\n    <tr>\n      <th>fecha_de_inicio_del_contrato</th>\n      <td>object</td>\n      <td>object</td>\n      <td>object</td>\n      <td>object</td>\n    </tr>\n    <tr>\n      <th>fecha_de_fin_del_contrato</th>\n      <td>object</td>\n      <td>object</td>\n      <td>object</td>\n      <td>object</td>\n    </tr>\n    <tr>\n      <th>importe_del_contrato</th>\n      <td>float64</td>\n      <td>float64</td>\n      <td>float64</td>\n      <td>float64</td>\n    </tr>\n    <tr>\n      <th>moneda_del_contrato</th>\n      <td>object</td>\n      <td>object</td>\n      <td>object</td>\n      <td>object</td>\n    </tr>\n    <tr>\n      <th>estatus_del_contrato</th>\n      <td>object</td>\n      <td>object</td>\n      <td>object</td>\n      <td>object</td>\n    </tr>\n    <tr>\n      <th>convenio_modificatorio</th>\n      <td>int64</td>\n      <td>int64</td>\n      <td>int64</td>\n      <td>float64</td>\n    </tr>\n    <tr>\n      <th>clave_del_programa_federal</th>\n      <td>object</td>\n      <td>object</td>\n      <td>object</td>\n      <td>object</td>\n    </tr>\n    <tr>\n      <th>fecha_de_firma_del_contrato</th>\n      <td>object</td>\n      <td>object</td>\n      <td>object</td>\n      <td>object</td>\n    </tr>\n    <tr>\n      <th>contrato_marco</th>\n      <td>object</td>\n      <td>object</td>\n      <td>object</td>\n      <td>object</td>\n    </tr>\n    <tr>\n      <th>compra_consolidada</th>\n      <td>int64</td>\n      <td>int64</td>\n      <td>int64</td>\n      <td>float64</td>\n    </tr>\n    <tr>\n      <th>contrato_plurianual</th>\n      <td>int64</td>\n      <td>int64</td>\n      <td>int64</td>\n      <td>float64</td>\n    </tr>\n    <tr>\n      <th>clave_de_cartera_shcp</th>\n      <td>object</td>\n      <td>object</td>\n      <td>object</td>\n      <td>object</td>\n    </tr>\n    <tr>\n      <th>folio_en_el_rupc</th>\n      <td>float64</td>\n      <td>float64</td>\n      <td>float64</td>\n      <td>float64</td>\n    </tr>\n    <tr>\n      <th>rfc</th>\n      <td>object</td>\n      <td>object</td>\n      <td>object</td>\n      <td>object</td>\n    </tr>\n    <tr>\n      <th>proveedor_o_contratista</th>\n      <td>object</td>\n      <td>object</td>\n      <td>object</td>\n      <td>object</td>\n    </tr>\n    <tr>\n      <th>estratificacion_de_la_empresa</th>\n      <td>object</td>\n      <td>object</td>\n      <td>object</td>\n      <td>object</td>\n    </tr>\n    <tr>\n      <th>clave_del_pais_de_la_empresa</th>\n      <td>object</td>\n      <td>object</td>\n      <td>object</td>\n      <td>object</td>\n    </tr>\n    <tr>\n      <th>rfc_verificado_en_el_sat</th>\n      <td>int64</td>\n      <td>int64</td>\n      <td>int64</td>\n      <td>int64</td>\n    </tr>\n    <tr>\n      <th>credito_externo</th>\n      <td>object</td>\n      <td>object</td>\n      <td>object</td>\n      <td>object</td>\n    </tr>\n    <tr>\n      <th>organismo_financiero</th>\n      <td>object</td>\n      <td>object</td>\n      <td>object</td>\n      <td>object</td>\n    </tr>\n    <tr>\n      <th>direccion_del_anuncio</th>\n      <td>object</td>\n      <td>object</td>\n      <td>object</td>\n      <td>object</td>\n    </tr>\n  </tbody>\n</table>\n</div>"
     },
     "execution_count": 8,
     "metadata": {},
     "output_type": "execute_result"
    }
   ],
   "source": [
    "# Crear un DataFrame vacío para almacenar los resultados\n",
    "resumen_df = pd.DataFrame()\n",
    "\n",
    "# Recorrer cada DataFrame en el diccionario dfs\n",
    "for name, df in dfs.items():\n",
    "    # Obtener los tipos de datos de las columnas\n",
    "    dtypes = pd.DataFrame(df.dtypes, columns=[f'{name}_dtype'])\n",
    "\n",
    "    # Concatenar al DataFrame de resumen\n",
    "    resumen_df = pd.concat([resumen_df, dtypes], axis=1)\n",
    "\n",
    "# Visualizar el DataFrame de resumen\n",
    "resumen_df\n"
   ],
   "metadata": {
    "collapsed": false,
    "ExecuteTime": {
     "end_time": "2023-08-02T01:56:48.179431Z",
     "start_time": "2023-08-02T01:56:48.175519Z"
    }
   }
  }
 ],
 "metadata": {
  "kernelspec": {
   "display_name": "Python 3",
   "language": "python",
   "name": "python3"
  },
  "language_info": {
   "codemirror_mode": {
    "name": "ipython",
    "version": 2
   },
   "file_extension": ".py",
   "mimetype": "text/x-python",
   "name": "python",
   "nbconvert_exporter": "python",
   "pygments_lexer": "ipython2",
   "version": "2.7.6"
  }
 },
 "nbformat": 4,
 "nbformat_minor": 0
}
