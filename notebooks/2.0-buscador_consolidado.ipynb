{
 "cells": [
  {
   "cell_type": "code",
   "execution_count": 32,
   "metadata": {
    "collapsed": true,
    "ExecuteTime": {
     "end_time": "2023-08-03T00:48:14.008204Z",
     "start_time": "2023-08-03T00:48:03.630975Z"
    }
   },
   "outputs": [
    {
     "name": "stderr",
     "output_type": "stream",
     "text": [
      "/var/folders/n1/5l3l1c6x5xd7lfxmx1cmr21c0000gn/T/ipykernel_74477/1287016637.py:13: DtypeWarning: Columns (6,7,20,42,43) have mixed types. Specify dtype option on import or set low_memory=False.\n",
      "  dfs[f'df{year}'] = pd.read_csv(file_path)  # lee el archivo CSV y lo almacena en el diccionario\n",
      "/var/folders/n1/5l3l1c6x5xd7lfxmx1cmr21c0000gn/T/ipykernel_74477/1287016637.py:13: DtypeWarning: Columns (6,7,20,42,43) have mixed types. Specify dtype option on import or set low_memory=False.\n",
      "  dfs[f'df{year}'] = pd.read_csv(file_path)  # lee el archivo CSV y lo almacena en el diccionario\n",
      "/var/folders/n1/5l3l1c6x5xd7lfxmx1cmr21c0000gn/T/ipykernel_74477/1287016637.py:13: DtypeWarning: Columns (6,7,20,42,43) have mixed types. Specify dtype option on import or set low_memory=False.\n",
      "  dfs[f'df{year}'] = pd.read_csv(file_path)  # lee el archivo CSV y lo almacena en el diccionario\n",
      "/var/folders/n1/5l3l1c6x5xd7lfxmx1cmr21c0000gn/T/ipykernel_74477/1287016637.py:13: DtypeWarning: Columns (6,20,42,43) have mixed types. Specify dtype option on import or set low_memory=False.\n",
      "  dfs[f'df{year}'] = pd.read_csv(file_path)  # lee el archivo CSV y lo almacena en el diccionario\n"
     ]
    }
   ],
   "source": [
    "import os\n",
    "import pandas as pd\n",
    "import janitor\n",
    "\n",
    "dfs = {}\n",
    "\n",
    "ruta = os.path.join('..', 'data')\n",
    "\n",
    "years = range(2019, 2024)\n",
    "\n",
    "for year in years:\n",
    "    file_path = os.path.join(ruta, f'{year}clean.csv')  # crea la ruta al archivo\n",
    "    dfs[f'df{year}'] = pd.read_csv(file_path)  # lee el archivo CSV y lo almacena en el diccionario\n",
    "\n",
    "df2019 = dfs['df2019']\n",
    "df2020 = dfs['df2020']\n",
    "df2021 = dfs['df2021']\n",
    "df2022 = dfs['df2022']\n",
    "df2023 = dfs['df2023']\n",
    "\n",
    "df2019['ano']=2019\n",
    "df2020['ano']=2020\n",
    "df2021['ano']=2021\n",
    "df2022['ano']=2022\n",
    "df2023['ano']=2023\n",
    "\n",
    "\n",
    "for name, df in dfs.items():\n",
    "    dfs[name] = df.clean_names()"
   ]
  },
  {
   "cell_type": "code",
   "execution_count": 41,
   "outputs": [],
   "source": [
    "# Crear una lista de dataframes\n",
    "dfs_list = [dfs[name] for name in dfs.keys()]\n",
    "\n",
    "# Concatenar todos los dataframes\n",
    "contratos_df = pd.concat(dfs_list, ignore_index=True)\n"
   ],
   "metadata": {
    "collapsed": false,
    "ExecuteTime": {
     "end_time": "2023-08-03T00:55:21.253876Z",
     "start_time": "2023-08-03T00:55:20.915568Z"
    }
   }
  },
  {
   "cell_type": "code",
   "execution_count": 42,
   "outputs": [
    {
     "data": {
      "text/plain": "       orden_de_gobierno siglas_de_la_institucion  \\\n0                     GE                     COAH   \n1                     GE                     COAH   \n2                     GE                      OAX   \n3                     GE                      OAX   \n4                     GE                      OAX   \n...                  ...                      ...   \n471152               APF                  CIDETEQ   \n471153               APF                    SADER   \n471154               APF                     IMSS   \n471155               APF                     IMSS   \n471156               APF                    SENER   \n\n                                              institucion clave_de_la_uc  \\\n0            _Gobierno del Estado de Coahuila de Zaragoza      905011981   \n1            _Gobierno del Estado de Coahuila de Zaragoza      905011981   \n2                          _Gobierno del Estado de Oaxaca      920042983   \n3                          _Gobierno del Estado de Oaxaca      920042983   \n4                          _Gobierno del Estado de Oaxaca      920042983   \n...                                                   ...            ...   \n471152  Centro de Investigación y Desarrollo Tecnológi...      03890K001   \n471153       Secretaría de Agricultura y Desarrollo Rural      008000968   \n471154               Instituto Mexicano del Seguro Social      050GYR019   \n471155               Instituto Mexicano del Seguro Social      050GYR019   \n471156                              Secretaría de Energía      018000999   \n\n                                          nombre_de_la_uc  \\\n0       COAH-Secretaría de Fiscalización y Rendición d...   \n1       COAH-Secretaría de Fiscalización y Rendición d...   \n2       OAX-Servicios de Salud de Oaxaca-DIRECCION DE ...   \n3       OAX-Servicios de Salud de Oaxaca-DIRECCION DE ...   \n4       OAX-Servicios de Salud de Oaxaca-DIRECCION DE ...   \n...                                                   ...   \n471152  CIDETEQ-Dirección de Administración y Finanzas...   \n471153  SADER-Representación Estatal en Jalisco, Subde...   \n471154                 IMSS-DA-UADQ-CABCS-DCAL #050GYR019   \n471155                 IMSS-DA-UADQ-CABCS-DCAL #050GYR019   \n471156  SENER-Dirección General de Recursos Humanos, M...   \n\n                 responsable_de_la_uc codigo_del_expediente  \\\n0         Jesús Fernando Ramos Flores                109177   \n1         Jesús Fernando Ramos Flores                109177   \n2       Alejandro Abel Reyes Gonzales                166546   \n3       Alejandro Abel Reyes Gonzales                265372   \n4       Alejandro Abel Reyes Gonzales                265430   \n...                               ...                   ...   \n471152       Iris Gutiérrez Huicochea               2570302   \n471153          Enrique García García               2570321   \n471154      Elia Sandra Varas Galeana               2550286   \n471155      Elia Sandra Varas Galeana               2550286   \n471156    Gabriela Hernández Baltazar               2542164   \n\n           referencia_del_expediente clave_cucop  \\\n0                                NaN        5410   \n1                                NaN        5410   \n2                                NaN        6220   \n3                                N12        6120   \n4                                NaN        6220   \n...                              ...         ...   \n471152  AA-06-700-006000993-N-5-2023         NaN   \n471153   CONS/AD/134/032-20230000787         NaN   \n471154                           NaN         NaN   \n471155                           NaN         NaN   \n471156                    SE-42/2022         NaN   \n\n                                    titulo_del_expediente  ...  \\\n0       CAMIONETA TIPO PICK UP y AUTOMOVIL SEDAN  LA-9...  ...   \n1       CAMIONETA TIPO PICK UP y AUTOMOVIL SEDAN  LA-9...  ...   \n2                                             FONDEN/2012  ...   \n3                                           CALIHUALA N12  ...   \n4                                          PARAJE LA LOMA  ...   \n...                                                   ...  ...   \n471152  ADQUISICIÓN CONSOLIDADA DE VESTUARIO, UNIFORME...  ...   \n471153  ADQUISICIÓN CONSOLIDADA DE VESTUARIO, UNIFORME...  ...   \n471154  LA-050GYR019-E272-2022 LAVADO DE ROPA HOSPITAL...  ...   \n471155  LA-050GYR019-E272-2022 LAVADO DE ROPA HOSPITAL...  ...   \n471156  Servicio de Aseguramiento de Bienes Patrimoniales  ...   \n\n       folio_en_el_rupc           rfc  \\\n0              51,528.0  ACO740701LH0   \n1                   NaN  SMA0301178T2   \n2                   NaN  CBA050209974   \n3                   NaN  CAZ110325SV9   \n4                   NaN  CMJ110217V9A   \n...                 ...           ...   \n471152        343,421.0  SME1009038L1   \n471153        343,421.0  SME1009038L1   \n471154              NaN  LMA191127GQ0   \n471155              NaN  LMA191127GQ0   \n471156        524,402.0  AGR900605VC6   \n\n                               proveedor_o_contratista  \\\n0                    AUTOMOTORES COAHUILENSES SA DE CV   \n1                     SIERRA MADRE AUTOMOTRIZ SA DE CV   \n2            CONSTRUCTORA BARRITA Y ASOCIADOS SA DE CV   \n3             CONSTRUCTORES ASFALTICOS ZOONDU SA DE CV   \n4       CONSTRUCTORA Y MANTENIMIENTO JUMPSTER SA DE CV   \n...                                                ...   \n471152                          SOBMEX MEXICO SA DE CV   \n471153                          SOBMEX MEXICO SA DE CV   \n471154             LAVANDERIA LOS MANANTIALES SA DE CV   \n471155             LAVANDERIA LOS MANANTIALES SA DE CV   \n471156                                   AGROASEMEX SA   \n\n       estratificacion_de_la_empresa clave_del_pais_de_la_empresa  \\\n0                            Mediana                           MX   \n1                            Pequeña                           MX   \n2                            Mediana                           MX   \n3                            Pequeña                           MX   \n4                          No MIPYME                           MX   \n...                              ...                          ...   \n471152                           NaN                           MX   \n471153                           NaN                           MX   \n471154                           NaN                           MX   \n471155                           NaN                           MX   \n471156                           NaN                           MX   \n\n       rfc_verificado_en_el_sat credito_externo organismo_financiero  \\\n0                             1             NaN                  NaN   \n1                             1             NaN                  NaN   \n2                             1             NaN                  NaN   \n3                             1             NaN                  NaN   \n4                             1             NaN                  NaN   \n...                         ...             ...                  ...   \n471152                      PoC             0.0                  NaN   \n471153                      PoC             0.0                  NaN   \n471154                      PoC             NaN                  NaN   \n471155                      PoC             NaN                  NaN   \n471156                      PoC             NaN                  NaN   \n\n                                    direccion_del_anuncio   ano  \n0       https://compranet.hacienda.gob.mx/esop/guest/g...  2019  \n1       https://compranet.hacienda.gob.mx/esop/guest/g...  2019  \n2       https://compranet.hacienda.gob.mx/esop/guest/g...  2019  \n3       https://compranet.hacienda.gob.mx/esop/guest/g...  2019  \n4       https://compranet.hacienda.gob.mx/esop/guest/g...  2019  \n...                                                   ...   ...  \n471152  https://compranet.hacienda.gob.mx/esop/guest/g...  2023  \n471153  https://compranet.hacienda.gob.mx/esop/guest/g...  2023  \n471154  https://compranet.hacienda.gob.mx/esop/guest/g...  2023  \n471155  https://compranet.hacienda.gob.mx/esop/guest/g...  2023  \n471156  https://compranet.hacienda.gob.mx/esop/guest/g...  2023  \n\n[471157 rows x 46 columns]",
      "text/html": "<div>\n<style scoped>\n    .dataframe tbody tr th:only-of-type {\n        vertical-align: middle;\n    }\n\n    .dataframe tbody tr th {\n        vertical-align: top;\n    }\n\n    .dataframe thead th {\n        text-align: right;\n    }\n</style>\n<table border=\"1\" class=\"dataframe\">\n  <thead>\n    <tr style=\"text-align: right;\">\n      <th></th>\n      <th>orden_de_gobierno</th>\n      <th>siglas_de_la_institucion</th>\n      <th>institucion</th>\n      <th>clave_de_la_uc</th>\n      <th>nombre_de_la_uc</th>\n      <th>responsable_de_la_uc</th>\n      <th>codigo_del_expediente</th>\n      <th>referencia_del_expediente</th>\n      <th>clave_cucop</th>\n      <th>titulo_del_expediente</th>\n      <th>...</th>\n      <th>folio_en_el_rupc</th>\n      <th>rfc</th>\n      <th>proveedor_o_contratista</th>\n      <th>estratificacion_de_la_empresa</th>\n      <th>clave_del_pais_de_la_empresa</th>\n      <th>rfc_verificado_en_el_sat</th>\n      <th>credito_externo</th>\n      <th>organismo_financiero</th>\n      <th>direccion_del_anuncio</th>\n      <th>ano</th>\n    </tr>\n  </thead>\n  <tbody>\n    <tr>\n      <th>0</th>\n      <td>GE</td>\n      <td>COAH</td>\n      <td>_Gobierno del Estado de Coahuila de Zaragoza</td>\n      <td>905011981</td>\n      <td>COAH-Secretaría de Fiscalización y Rendición d...</td>\n      <td>Jesús Fernando Ramos Flores</td>\n      <td>109177</td>\n      <td>NaN</td>\n      <td>5410</td>\n      <td>CAMIONETA TIPO PICK UP y AUTOMOVIL SEDAN  LA-9...</td>\n      <td>...</td>\n      <td>51,528.0</td>\n      <td>ACO740701LH0</td>\n      <td>AUTOMOTORES COAHUILENSES SA DE CV</td>\n      <td>Mediana</td>\n      <td>MX</td>\n      <td>1</td>\n      <td>NaN</td>\n      <td>NaN</td>\n      <td>https://compranet.hacienda.gob.mx/esop/guest/g...</td>\n      <td>2019</td>\n    </tr>\n    <tr>\n      <th>1</th>\n      <td>GE</td>\n      <td>COAH</td>\n      <td>_Gobierno del Estado de Coahuila de Zaragoza</td>\n      <td>905011981</td>\n      <td>COAH-Secretaría de Fiscalización y Rendición d...</td>\n      <td>Jesús Fernando Ramos Flores</td>\n      <td>109177</td>\n      <td>NaN</td>\n      <td>5410</td>\n      <td>CAMIONETA TIPO PICK UP y AUTOMOVIL SEDAN  LA-9...</td>\n      <td>...</td>\n      <td>NaN</td>\n      <td>SMA0301178T2</td>\n      <td>SIERRA MADRE AUTOMOTRIZ SA DE CV</td>\n      <td>Pequeña</td>\n      <td>MX</td>\n      <td>1</td>\n      <td>NaN</td>\n      <td>NaN</td>\n      <td>https://compranet.hacienda.gob.mx/esop/guest/g...</td>\n      <td>2019</td>\n    </tr>\n    <tr>\n      <th>2</th>\n      <td>GE</td>\n      <td>OAX</td>\n      <td>_Gobierno del Estado de Oaxaca</td>\n      <td>920042983</td>\n      <td>OAX-Servicios de Salud de Oaxaca-DIRECCION DE ...</td>\n      <td>Alejandro Abel Reyes Gonzales</td>\n      <td>166546</td>\n      <td>NaN</td>\n      <td>6220</td>\n      <td>FONDEN/2012</td>\n      <td>...</td>\n      <td>NaN</td>\n      <td>CBA050209974</td>\n      <td>CONSTRUCTORA BARRITA Y ASOCIADOS SA DE CV</td>\n      <td>Mediana</td>\n      <td>MX</td>\n      <td>1</td>\n      <td>NaN</td>\n      <td>NaN</td>\n      <td>https://compranet.hacienda.gob.mx/esop/guest/g...</td>\n      <td>2019</td>\n    </tr>\n    <tr>\n      <th>3</th>\n      <td>GE</td>\n      <td>OAX</td>\n      <td>_Gobierno del Estado de Oaxaca</td>\n      <td>920042983</td>\n      <td>OAX-Servicios de Salud de Oaxaca-DIRECCION DE ...</td>\n      <td>Alejandro Abel Reyes Gonzales</td>\n      <td>265372</td>\n      <td>N12</td>\n      <td>6120</td>\n      <td>CALIHUALA N12</td>\n      <td>...</td>\n      <td>NaN</td>\n      <td>CAZ110325SV9</td>\n      <td>CONSTRUCTORES ASFALTICOS ZOONDU SA DE CV</td>\n      <td>Pequeña</td>\n      <td>MX</td>\n      <td>1</td>\n      <td>NaN</td>\n      <td>NaN</td>\n      <td>https://compranet.hacienda.gob.mx/esop/guest/g...</td>\n      <td>2019</td>\n    </tr>\n    <tr>\n      <th>4</th>\n      <td>GE</td>\n      <td>OAX</td>\n      <td>_Gobierno del Estado de Oaxaca</td>\n      <td>920042983</td>\n      <td>OAX-Servicios de Salud de Oaxaca-DIRECCION DE ...</td>\n      <td>Alejandro Abel Reyes Gonzales</td>\n      <td>265430</td>\n      <td>NaN</td>\n      <td>6220</td>\n      <td>PARAJE LA LOMA</td>\n      <td>...</td>\n      <td>NaN</td>\n      <td>CMJ110217V9A</td>\n      <td>CONSTRUCTORA Y MANTENIMIENTO JUMPSTER SA DE CV</td>\n      <td>No MIPYME</td>\n      <td>MX</td>\n      <td>1</td>\n      <td>NaN</td>\n      <td>NaN</td>\n      <td>https://compranet.hacienda.gob.mx/esop/guest/g...</td>\n      <td>2019</td>\n    </tr>\n    <tr>\n      <th>...</th>\n      <td>...</td>\n      <td>...</td>\n      <td>...</td>\n      <td>...</td>\n      <td>...</td>\n      <td>...</td>\n      <td>...</td>\n      <td>...</td>\n      <td>...</td>\n      <td>...</td>\n      <td>...</td>\n      <td>...</td>\n      <td>...</td>\n      <td>...</td>\n      <td>...</td>\n      <td>...</td>\n      <td>...</td>\n      <td>...</td>\n      <td>...</td>\n      <td>...</td>\n      <td>...</td>\n    </tr>\n    <tr>\n      <th>471152</th>\n      <td>APF</td>\n      <td>CIDETEQ</td>\n      <td>Centro de Investigación y Desarrollo Tecnológi...</td>\n      <td>03890K001</td>\n      <td>CIDETEQ-Dirección de Administración y Finanzas...</td>\n      <td>Iris Gutiérrez Huicochea</td>\n      <td>2570302</td>\n      <td>AA-06-700-006000993-N-5-2023</td>\n      <td>NaN</td>\n      <td>ADQUISICIÓN CONSOLIDADA DE VESTUARIO, UNIFORME...</td>\n      <td>...</td>\n      <td>343,421.0</td>\n      <td>SME1009038L1</td>\n      <td>SOBMEX MEXICO SA DE CV</td>\n      <td>NaN</td>\n      <td>MX</td>\n      <td>PoC</td>\n      <td>0.0</td>\n      <td>NaN</td>\n      <td>https://compranet.hacienda.gob.mx/esop/guest/g...</td>\n      <td>2023</td>\n    </tr>\n    <tr>\n      <th>471153</th>\n      <td>APF</td>\n      <td>SADER</td>\n      <td>Secretaría de Agricultura y Desarrollo Rural</td>\n      <td>008000968</td>\n      <td>SADER-Representación Estatal en Jalisco, Subde...</td>\n      <td>Enrique García García</td>\n      <td>2570321</td>\n      <td>CONS/AD/134/032-20230000787</td>\n      <td>NaN</td>\n      <td>ADQUISICIÓN CONSOLIDADA DE VESTUARIO, UNIFORME...</td>\n      <td>...</td>\n      <td>343,421.0</td>\n      <td>SME1009038L1</td>\n      <td>SOBMEX MEXICO SA DE CV</td>\n      <td>NaN</td>\n      <td>MX</td>\n      <td>PoC</td>\n      <td>0.0</td>\n      <td>NaN</td>\n      <td>https://compranet.hacienda.gob.mx/esop/guest/g...</td>\n      <td>2023</td>\n    </tr>\n    <tr>\n      <th>471154</th>\n      <td>APF</td>\n      <td>IMSS</td>\n      <td>Instituto Mexicano del Seguro Social</td>\n      <td>050GYR019</td>\n      <td>IMSS-DA-UADQ-CABCS-DCAL #050GYR019</td>\n      <td>Elia Sandra Varas Galeana</td>\n      <td>2550286</td>\n      <td>NaN</td>\n      <td>NaN</td>\n      <td>LA-050GYR019-E272-2022 LAVADO DE ROPA HOSPITAL...</td>\n      <td>...</td>\n      <td>NaN</td>\n      <td>LMA191127GQ0</td>\n      <td>LAVANDERIA LOS MANANTIALES SA DE CV</td>\n      <td>NaN</td>\n      <td>MX</td>\n      <td>PoC</td>\n      <td>NaN</td>\n      <td>NaN</td>\n      <td>https://compranet.hacienda.gob.mx/esop/guest/g...</td>\n      <td>2023</td>\n    </tr>\n    <tr>\n      <th>471155</th>\n      <td>APF</td>\n      <td>IMSS</td>\n      <td>Instituto Mexicano del Seguro Social</td>\n      <td>050GYR019</td>\n      <td>IMSS-DA-UADQ-CABCS-DCAL #050GYR019</td>\n      <td>Elia Sandra Varas Galeana</td>\n      <td>2550286</td>\n      <td>NaN</td>\n      <td>NaN</td>\n      <td>LA-050GYR019-E272-2022 LAVADO DE ROPA HOSPITAL...</td>\n      <td>...</td>\n      <td>NaN</td>\n      <td>LMA191127GQ0</td>\n      <td>LAVANDERIA LOS MANANTIALES SA DE CV</td>\n      <td>NaN</td>\n      <td>MX</td>\n      <td>PoC</td>\n      <td>NaN</td>\n      <td>NaN</td>\n      <td>https://compranet.hacienda.gob.mx/esop/guest/g...</td>\n      <td>2023</td>\n    </tr>\n    <tr>\n      <th>471156</th>\n      <td>APF</td>\n      <td>SENER</td>\n      <td>Secretaría de Energía</td>\n      <td>018000999</td>\n      <td>SENER-Dirección General de Recursos Humanos, M...</td>\n      <td>Gabriela Hernández Baltazar</td>\n      <td>2542164</td>\n      <td>SE-42/2022</td>\n      <td>NaN</td>\n      <td>Servicio de Aseguramiento de Bienes Patrimoniales</td>\n      <td>...</td>\n      <td>524,402.0</td>\n      <td>AGR900605VC6</td>\n      <td>AGROASEMEX SA</td>\n      <td>NaN</td>\n      <td>MX</td>\n      <td>PoC</td>\n      <td>NaN</td>\n      <td>NaN</td>\n      <td>https://compranet.hacienda.gob.mx/esop/guest/g...</td>\n      <td>2023</td>\n    </tr>\n  </tbody>\n</table>\n<p>471157 rows × 46 columns</p>\n</div>"
     },
     "execution_count": 42,
     "metadata": {},
     "output_type": "execute_result"
    }
   ],
   "source": [
    "contratos_df"
   ],
   "metadata": {
    "collapsed": false,
    "ExecuteTime": {
     "end_time": "2023-08-03T00:55:22.361566Z",
     "start_time": "2023-08-03T00:55:22.134340Z"
    }
   }
  },
  {
   "cell_type": "code",
   "execution_count": 47,
   "outputs": [
    {
     "name": "stdout",
     "output_type": "stream",
     "text": [
      "1 USD = 17.115130976369297 MXN\n",
      "1 CAD = 13.018183084854396 MXN\n",
      "1 EUR = 18.6863 MXN\n",
      "1 GBP = 21.75912340762477 MXN\n",
      "1 JPY = 0.11946998273767662 MXN\n",
      "Done\n"
     ]
    }
   ],
   "source": [
    "from currency_converter import CurrencyConverter\n",
    "\n",
    "\n",
    "for column in contratos_df.columns:\n",
    "    if contratos_df[column].dtype == 'object':\n",
    "        contratos_df[column] = contratos_df[column].str.upper()\n",
    "\n",
    "\n",
    "for column in contratos_df.columns:\n",
    "    if contratos_df[column].dtype == 'string':\n",
    "        contratos_df[column] = contratos_df[column].str.upper()\n",
    "\n",
    "c = CurrencyConverter()\n",
    "currencies=['USD', 'CAD', 'EUR', 'GBP', 'JPY']\n",
    "\n",
    "# Create a dictionary to store conversion rates\n",
    "conversion_rates = {}\n",
    "\n",
    "for m in currencies:\n",
    "    conversion_rate = c.convert(1, m, 'MXN')\n",
    "    print(1, m, \"=\", conversion_rate, 'MXN')\n",
    "    conversion_rates[m] = conversion_rate\n",
    "\n",
    "# Apply conversion rates\n",
    "contratos_df[\"importe\"] = contratos_df[\"importe_del_contrato\"]\n",
    "\n",
    "for currency, conversion_rate in conversion_rates.items():\n",
    "    contratos_df.loc[contratos_df['moneda_del_contrato'] == currency , 'importe'] = contratos_df.loc[contratos_df['moneda_del_contrato'] == currency , \"importe_del_contrato\"] * conversion_rate\n",
    "\n",
    "print('Done')\n"
   ],
   "metadata": {
    "collapsed": false,
    "ExecuteTime": {
     "end_time": "2023-08-03T01:00:21.051060Z",
     "start_time": "2023-08-03T01:00:10.568132Z"
    }
   }
  },
  {
   "cell_type": "code",
   "execution_count": 81,
   "outputs": [],
   "source": [
    "import numpy as np\n",
    "\n",
    "def correct_swap(df):\n",
    "    # Completa los valores faltantes con una cadena no válida\n",
    "    df.fillna('missing_value', inplace=True)\n",
    "\n",
    "    # Identifica las filas donde 'rfc' no es un RFC válido y 'proveedor_o_contratista' es un RFC válido\n",
    "    mask = (~df['rfc'].str.match('^[A-ZÑ&]{3,4}[0-9]{2}(0[1-9]|1[0-2])(0[1-9]|1[0-9]|2[0-9]|3[0-1])[A-Z0-9]?[A-Z0-9]?[0-9A]$')) & \\\n",
    "           (df['proveedor_o_contratista'].str.match('^[A-ZÑ&]{3,4}[0-9]{2}(0[1-9]|1[0-2])(0[1-9]|1[0-9]|2[0-9]|3[0-1])[A-Z0-9]?[A-Z0-9]?[0-9A]$'))\n",
    "\n",
    "    # Intercambia 'rfc' y 'proveedor_o_contratista'\n",
    "    df.loc[mask, ['rfc', 'proveedor_o_contratista']] = df.loc[mask, ['proveedor_o_contratista', 'rfc']].values\n",
    "\n",
    "    # Identifica las filas donde 'rfc' es nulo\n",
    "    mask_rfc_null = df['rfc'] == 'missing_value'\n",
    "\n",
    "    # Asigna un valor artificial a 'rfc'\n",
    "    df.loc[mask_rfc_null, 'rfc'] = 'XAXX010101000'\n",
    "\n",
    "    # Reemplaza la cadena no válida por NaN\n",
    "    df.replace('missing_value', np.nan, inplace=True)\n",
    "\n",
    "    return df\n",
    "\n",
    "# Supón que contratos_df es tu DataFrame original\n",
    "\n",
    "# Llama a la función\n",
    "contratos_df = correct_swap(contratos_df)\n"
   ],
   "metadata": {
    "collapsed": false,
    "ExecuteTime": {
     "end_time": "2023-08-03T01:27:18.037201Z",
     "start_time": "2023-08-03T01:27:12.341083Z"
    }
   }
  },
  {
   "cell_type": "code",
   "execution_count": 82,
   "outputs": [
    {
     "data": {
      "text/plain": "                  rfc          proveedor_o_contratista\n14895   XAXX010101000                     ARBAVEL A.C.\n16833   XAXX010101000                     JESUS GARCIA\n16973   XAXX010101000                     DAVID ROMERO\n21692   XAXX010101000                     CRUZ ROBLEDO\n23257   XAXX010101000                     PAVLO GETMAN\n...               ...                              ...\n471121  XAXX010101000  FRANCISCO JAVIER MONROY SANCHEZ\n471122  XAXX010101000        ALEXIA ANAEL AVILA SOLIS \n471137  XAXX010101000        JOSE DE JESUS DIAZ CORONA\n471138  XAXX010101000         TOMAS ESPINOZA BENAVIDES\n471140  XAXX010101000              MARTIN ORTIZ VALDEZ\n\n[1923 rows x 2 columns]",
      "text/html": "<div>\n<style scoped>\n    .dataframe tbody tr th:only-of-type {\n        vertical-align: middle;\n    }\n\n    .dataframe tbody tr th {\n        vertical-align: top;\n    }\n\n    .dataframe thead th {\n        text-align: right;\n    }\n</style>\n<table border=\"1\" class=\"dataframe\">\n  <thead>\n    <tr style=\"text-align: right;\">\n      <th></th>\n      <th>rfc</th>\n      <th>proveedor_o_contratista</th>\n    </tr>\n  </thead>\n  <tbody>\n    <tr>\n      <th>14895</th>\n      <td>XAXX010101000</td>\n      <td>ARBAVEL A.C.</td>\n    </tr>\n    <tr>\n      <th>16833</th>\n      <td>XAXX010101000</td>\n      <td>JESUS GARCIA</td>\n    </tr>\n    <tr>\n      <th>16973</th>\n      <td>XAXX010101000</td>\n      <td>DAVID ROMERO</td>\n    </tr>\n    <tr>\n      <th>21692</th>\n      <td>XAXX010101000</td>\n      <td>CRUZ ROBLEDO</td>\n    </tr>\n    <tr>\n      <th>23257</th>\n      <td>XAXX010101000</td>\n      <td>PAVLO GETMAN</td>\n    </tr>\n    <tr>\n      <th>...</th>\n      <td>...</td>\n      <td>...</td>\n    </tr>\n    <tr>\n      <th>471121</th>\n      <td>XAXX010101000</td>\n      <td>FRANCISCO JAVIER MONROY SANCHEZ</td>\n    </tr>\n    <tr>\n      <th>471122</th>\n      <td>XAXX010101000</td>\n      <td>ALEXIA ANAEL AVILA SOLIS</td>\n    </tr>\n    <tr>\n      <th>471137</th>\n      <td>XAXX010101000</td>\n      <td>JOSE DE JESUS DIAZ CORONA</td>\n    </tr>\n    <tr>\n      <th>471138</th>\n      <td>XAXX010101000</td>\n      <td>TOMAS ESPINOZA BENAVIDES</td>\n    </tr>\n    <tr>\n      <th>471140</th>\n      <td>XAXX010101000</td>\n      <td>MARTIN ORTIZ VALDEZ</td>\n    </tr>\n  </tbody>\n</table>\n<p>1923 rows × 2 columns</p>\n</div>"
     },
     "execution_count": 82,
     "metadata": {},
     "output_type": "execute_result"
    }
   ],
   "source": [
    "def verify_correction(df):\n",
    "    # Identificar filas donde rfc tiene una longitud distinta a 13\n",
    "    mask = df['rfc'].str.len() != 12\n",
    "    # Retornar filas donde rfc tiene una longitud distinta a 13\n",
    "    return df.loc[mask]\n",
    "\n",
    "verify_correction(contratos_df[['rfc', 'proveedor_o_contratista']])"
   ],
   "metadata": {
    "collapsed": false,
    "ExecuteTime": {
     "end_time": "2023-08-03T01:27:27.565138Z",
     "start_time": "2023-08-03T01:27:25.022636Z"
    }
   }
  },
  {
   "cell_type": "markdown",
   "source": [
    "### Función de búsqueda"
   ],
   "metadata": {
    "collapsed": false
   }
  },
  {
   "cell_type": "code",
   "execution_count": 83,
   "outputs": [],
   "source": [
    "def filter_contratos(contratos_df):\n",
    "    # Solicita al usuario un proveedor o contratista o RFC\n",
    "    search_term = input(\"Por favor, ingresa el nombre del proveedor o contratista o el RFC (déjalo en blanco para mostrar todos): \").lower()\n",
    "\n",
    "    # Solicita al usuario las siglas de la institución o \"todas\" para buscar en todas\n",
    "    institution = input(\"Por favor, ingresa las siglas de la institución (déjalo en blanco para mostrar todas) o 'todas' para buscar en todas: \").upper()\n",
    "\n",
    "    # Solicita al usuario las palabras clave en la descripción del contrato\n",
    "    keywords = input(\"Por favor, ingresa las palabras clave en la descripción del contrato (separa múltiples palabras con comas, déjalo en blanco para buscar todas): \").upper()\n",
    "\n",
    "    # Solicita al usuario las palabras a excluir en la descripción del contrato\n",
    "    exclude_words = input(\"Por favor, ingresa las palabras a excluir en la descripción del contrato (separa múltiples palabras con comas, déjalo en blanco para no excluir ninguna): \").upper()\n",
    "\n",
    "    # Inicialmente asumimos todos los contratos\n",
    "    filtered_df = contratos_df.copy()  # Creamos una copia del DataFrame\n",
    "\n",
    "    filtered_df[['proveedor_o_contratista', 'descripcion_del_contrato']] = filtered_df[['proveedor_o_contratista', 'descripcion_del_contrato']].fillna('')\n",
    "\n",
    "\n",
    "# Convierte las columnas de texto a minúsculas\n",
    "    filtered_df['proveedor_o_contratista'] = filtered_df['proveedor_o_contratista'].str.upper()\n",
    "    filtered_df['siglas_de_la_institucion'] = filtered_df['siglas_de_la_institucion'].str.upper()\n",
    "    filtered_df['descripcion_del_contrato'] = filtered_df['descripcion_del_contrato'].str.upper()\n",
    "\n",
    "    # Filtra por proveedor o contratista o RFC si se proporciona\n",
    "    if search_term:\n",
    "        if len(search_term) == 12 and search_term.isalnum(): # RFC en México tiene 13 caracteres y sólo contiene letras y números\n",
    "            filtered_df = filtered_df.loc[filtered_df['rfc'] == search_term]\n",
    "        else:\n",
    "            filtered_df = filtered_df.loc[filtered_df['proveedor_o_contratista'].str.contains(search_term, case=False)]\n",
    "\n",
    "    # Filtra por institución si se proporciona\n",
    "    if institution != 'todas' and institution:\n",
    "        filtered_df = filtered_df.loc[filtered_df['siglas_de_la_institucion'] == institution]\n",
    "\n",
    "    # Reemplaza los NaN en la descripción del contrato por cadenas vacías\n",
    "    filtered_df['descripcion_del_contrato'] = filtered_df['descripcion_del_contrato'].fillna('')\n",
    "\n",
    "    # Filtra por palabras clave en la descripción del contrato si se proporcionan\n",
    "    if keywords:\n",
    "        for keyword in keywords.split(','):\n",
    "            keyword = keyword.strip()  # Remueve los espacios adicionales al principio y al final de la palabra\n",
    "            filtered_df = filtered_df.loc[filtered_df['descripcion_del_contrato'].str.contains(keyword, case=False)]\n",
    "\n",
    "    # Excluye contratos que contienen ciertas palabras en la descripción del contrato si se proporcionan\n",
    "    if exclude_words:\n",
    "        for word in exclude_words.split(','):\n",
    "            word = word.strip()  # Remueve los espacios adicionales al principio y al final de la palabra\n",
    "            filtered_df = filtered_df.loc[~filtered_df['descripcion_del_contrato'].str.contains(word, case=False)]\n",
    "\n",
    "    # Ordena el DataFrame filtrado por importe en orden descendente\n",
    "    filtered_df = filtered_df.sort_values(by='importe', ascending=False)\n",
    "\n",
    "    # Muestra el DataFrame filtrado\n",
    "    return filtered_df\n",
    "\n",
    "# Usa la función:\n"
   ],
   "metadata": {
    "collapsed": false,
    "ExecuteTime": {
     "end_time": "2023-08-03T01:27:34.403973Z",
     "start_time": "2023-08-03T01:27:34.395217Z"
    }
   }
  },
  {
   "cell_type": "markdown",
   "source": [
    "# Búsqueda"
   ],
   "metadata": {
    "collapsed": false
   }
  },
  {
   "cell_type": "code",
   "execution_count": 86,
   "outputs": [
    {
     "data": {
      "text/plain": "       siglas_de_la_institucion  \\\n124481                BIENESTAR   \n170983                    NAFIN   \n38163                     INEGI   \n201527                    INEGI   \n60716                   LOTERIA   \n...                         ...   \n461145                   FICINE   \n350141                      JAL   \n350144                      JAL   \n38847                    ONCETV   \n11607                     CNSNS   \n\n                                      titulo_del_contrato  \\\n124481           SERVICIO INTEGRAL DEL CENTRO DE CONTACTO   \n170983  SERVICIOS DE ATENCION TELEFONICA A CLIENTES A ...   \n38163   SERVICIO DE PREPRODUCCIÓN, PRODUCCIÓN Y POSTPR...   \n201527  SERVICIO DE PUBLICIDAD EN REDES SOCIALES PARA ...   \n60716   SERVICIO DE PUBLICIDAD EN PORTALES, SITIOS Y R...   \n...                                                   ...   \n461145      SERVICIO DE APOYO MULTIMEDIA Y REDES SOCIALES   \n350141              ANUNCIO EN MEDIO PUBLICITARIO IMPRESO   \n350144              ANUNCIO EN MEDIO PUBLICITARIO IMPRESO   \n38847   1907029/DRMYS/2140-II/2019 LA RENOVACIÓN DE LA...   \n11607                      SERVICIO DE TELEFONIA CELULAR    \n\n                                 descripcion_del_contrato            rfc  \\\n124481  SERVICIO DE CENTRO DE INFORMACIÓN SOBRE EL PRO...   BEG141128JD5   \n170983  SERVICIO DE ATENCION TELEFONICA A CLIENTES A T...   INF960111P76   \n38163   SERVICIO DE PREPRODUCCIÓN, PRODUCCIÓN Y POSTPR...   FLU060630EK3   \n201527  SERVICIO DE PUBLICIDAD EN REDES SOCIALES PARA ...   MMM160830C60   \n60716   SERVICIO DE PUBLICIDAD EN PORTALES, SITIOS Y R...   GTE901219GK3   \n...                                                   ...            ...   \n461145      SERVICIO DE APOYO MULTIMEDIA Y REDES SOCIALES  XAXX010101000   \n350141  PARTIDA 4 ANUNCIO EN MEDIO PUBLICITARIO IMPRES...   PME051206NG5   \n350144  MEDIO PUBLICITARIO: IMPRESO DE DISTRIBUCIÓN MA...   GEO100427UK6   \n38847   1907029 DRMYS/2140-II/2019 LA RENOVACIÓN DE LA...   AMI991215SP0   \n11607   SERVICIO DE TELEFONÍA CELULAR:\\n\\n1.- 34 LÍNEA...   RDI841003QJ4   \n\n                           proveedor_o_contratista       importe  \\\n124481             BUFETE EMPRESARIAL GTI SA DE CV 530,757,375.0   \n170983                                  INFOCREDIT 18,584,437.24   \n38163                              FLUXUS SA DE CV  17,908,130.0   \n201527            MEDLY MEDICAL MARKETING SA DE CV  12,163,472.5   \n60716                         GRUPO TELEVISA S A B  8,620,689.66   \n...                                            ...           ...   \n461145                PATRICIA PAOLA PARRA SOLORIO     36,503.49   \n350141  PUBLICACIONES METROPOLITANAS S A P I DE CV      35,750.0   \n350144     GRUPO EMPRESARIAL OFERTAS S DE RL DE CV      28,000.0   \n38847           ASOCIACION MEXICANA DE INTERNET AC     20,844.82   \n11607                    RADIOMOVIL DIPSA SA DE CV     15,687.36   \n\n                                    direccion_del_anuncio   ano  \n124481  HTTPS://COMPRANET.HACIENDA.GOB.MX/ESOP/GUEST/G...  2020  \n170983  HTTPS://COMPRANET.HACIENDA.GOB.MX/ESOP/GUEST/G...  2020  \n38163   HTTPS://COMPRANET.HACIENDA.GOB.MX/ESOP/GUEST/G...  2019  \n201527  HTTPS://COMPRANET.HACIENDA.GOB.MX/ESOP/GUEST/G...  2020  \n60716   HTTPS://COMPRANET.HACIENDA.GOB.MX/ESOP/GUEST/G...  2019  \n...                                                   ...   ...  \n461145  HTTPS://COMPRANET.HACIENDA.GOB.MX/ESOP/GUEST/G...  2023  \n350141  HTTPS://COMPRANET.HACIENDA.GOB.MX/ESOP/GUEST/G...  2022  \n350144  HTTPS://COMPRANET.HACIENDA.GOB.MX/ESOP/GUEST/G...  2022  \n38847   HTTPS://COMPRANET.HACIENDA.GOB.MX/ESOP/GUEST/G...  2019  \n11607   HTTPS://COMPRANET.HACIENDA.GOB.MX/ESOP/GUEST/G...  2019  \n\n[198 rows x 8 columns]",
      "text/html": "<div>\n<style scoped>\n    .dataframe tbody tr th:only-of-type {\n        vertical-align: middle;\n    }\n\n    .dataframe tbody tr th {\n        vertical-align: top;\n    }\n\n    .dataframe thead th {\n        text-align: right;\n    }\n</style>\n<table border=\"1\" class=\"dataframe\">\n  <thead>\n    <tr style=\"text-align: right;\">\n      <th></th>\n      <th>siglas_de_la_institucion</th>\n      <th>titulo_del_contrato</th>\n      <th>descripcion_del_contrato</th>\n      <th>rfc</th>\n      <th>proveedor_o_contratista</th>\n      <th>importe</th>\n      <th>direccion_del_anuncio</th>\n      <th>ano</th>\n    </tr>\n  </thead>\n  <tbody>\n    <tr>\n      <th>124481</th>\n      <td>BIENESTAR</td>\n      <td>SERVICIO INTEGRAL DEL CENTRO DE CONTACTO</td>\n      <td>SERVICIO DE CENTRO DE INFORMACIÓN SOBRE EL PRO...</td>\n      <td>BEG141128JD5</td>\n      <td>BUFETE EMPRESARIAL GTI SA DE CV</td>\n      <td>530,757,375.0</td>\n      <td>HTTPS://COMPRANET.HACIENDA.GOB.MX/ESOP/GUEST/G...</td>\n      <td>2020</td>\n    </tr>\n    <tr>\n      <th>170983</th>\n      <td>NAFIN</td>\n      <td>SERVICIOS DE ATENCION TELEFONICA A CLIENTES A ...</td>\n      <td>SERVICIO DE ATENCION TELEFONICA A CLIENTES A T...</td>\n      <td>INF960111P76</td>\n      <td>INFOCREDIT</td>\n      <td>18,584,437.24</td>\n      <td>HTTPS://COMPRANET.HACIENDA.GOB.MX/ESOP/GUEST/G...</td>\n      <td>2020</td>\n    </tr>\n    <tr>\n      <th>38163</th>\n      <td>INEGI</td>\n      <td>SERVICIO DE PREPRODUCCIÓN, PRODUCCIÓN Y POSTPR...</td>\n      <td>SERVICIO DE PREPRODUCCIÓN, PRODUCCIÓN Y POSTPR...</td>\n      <td>FLU060630EK3</td>\n      <td>FLUXUS SA DE CV</td>\n      <td>17,908,130.0</td>\n      <td>HTTPS://COMPRANET.HACIENDA.GOB.MX/ESOP/GUEST/G...</td>\n      <td>2019</td>\n    </tr>\n    <tr>\n      <th>201527</th>\n      <td>INEGI</td>\n      <td>SERVICIO DE PUBLICIDAD EN REDES SOCIALES PARA ...</td>\n      <td>SERVICIO DE PUBLICIDAD EN REDES SOCIALES PARA ...</td>\n      <td>MMM160830C60</td>\n      <td>MEDLY MEDICAL MARKETING SA DE CV</td>\n      <td>12,163,472.5</td>\n      <td>HTTPS://COMPRANET.HACIENDA.GOB.MX/ESOP/GUEST/G...</td>\n      <td>2020</td>\n    </tr>\n    <tr>\n      <th>60716</th>\n      <td>LOTERIA</td>\n      <td>SERVICIO DE PUBLICIDAD EN PORTALES, SITIOS Y R...</td>\n      <td>SERVICIO DE PUBLICIDAD EN PORTALES, SITIOS Y R...</td>\n      <td>GTE901219GK3</td>\n      <td>GRUPO TELEVISA S A B</td>\n      <td>8,620,689.66</td>\n      <td>HTTPS://COMPRANET.HACIENDA.GOB.MX/ESOP/GUEST/G...</td>\n      <td>2019</td>\n    </tr>\n    <tr>\n      <th>...</th>\n      <td>...</td>\n      <td>...</td>\n      <td>...</td>\n      <td>...</td>\n      <td>...</td>\n      <td>...</td>\n      <td>...</td>\n      <td>...</td>\n    </tr>\n    <tr>\n      <th>461145</th>\n      <td>FICINE</td>\n      <td>SERVICIO DE APOYO MULTIMEDIA Y REDES SOCIALES</td>\n      <td>SERVICIO DE APOYO MULTIMEDIA Y REDES SOCIALES</td>\n      <td>XAXX010101000</td>\n      <td>PATRICIA PAOLA PARRA SOLORIO</td>\n      <td>36,503.49</td>\n      <td>HTTPS://COMPRANET.HACIENDA.GOB.MX/ESOP/GUEST/G...</td>\n      <td>2023</td>\n    </tr>\n    <tr>\n      <th>350141</th>\n      <td>JAL</td>\n      <td>ANUNCIO EN MEDIO PUBLICITARIO IMPRESO</td>\n      <td>PARTIDA 4 ANUNCIO EN MEDIO PUBLICITARIO IMPRES...</td>\n      <td>PME051206NG5</td>\n      <td>PUBLICACIONES METROPOLITANAS S A P I DE CV</td>\n      <td>35,750.0</td>\n      <td>HTTPS://COMPRANET.HACIENDA.GOB.MX/ESOP/GUEST/G...</td>\n      <td>2022</td>\n    </tr>\n    <tr>\n      <th>350144</th>\n      <td>JAL</td>\n      <td>ANUNCIO EN MEDIO PUBLICITARIO IMPRESO</td>\n      <td>MEDIO PUBLICITARIO: IMPRESO DE DISTRIBUCIÓN MA...</td>\n      <td>GEO100427UK6</td>\n      <td>GRUPO EMPRESARIAL OFERTAS S DE RL DE CV</td>\n      <td>28,000.0</td>\n      <td>HTTPS://COMPRANET.HACIENDA.GOB.MX/ESOP/GUEST/G...</td>\n      <td>2022</td>\n    </tr>\n    <tr>\n      <th>38847</th>\n      <td>ONCETV</td>\n      <td>1907029/DRMYS/2140-II/2019 LA RENOVACIÓN DE LA...</td>\n      <td>1907029 DRMYS/2140-II/2019 LA RENOVACIÓN DE LA...</td>\n      <td>AMI991215SP0</td>\n      <td>ASOCIACION MEXICANA DE INTERNET AC</td>\n      <td>20,844.82</td>\n      <td>HTTPS://COMPRANET.HACIENDA.GOB.MX/ESOP/GUEST/G...</td>\n      <td>2019</td>\n    </tr>\n    <tr>\n      <th>11607</th>\n      <td>CNSNS</td>\n      <td>SERVICIO DE TELEFONIA CELULAR</td>\n      <td>SERVICIO DE TELEFONÍA CELULAR:\\n\\n1.- 34 LÍNEA...</td>\n      <td>RDI841003QJ4</td>\n      <td>RADIOMOVIL DIPSA SA DE CV</td>\n      <td>15,687.36</td>\n      <td>HTTPS://COMPRANET.HACIENDA.GOB.MX/ESOP/GUEST/G...</td>\n      <td>2019</td>\n    </tr>\n  </tbody>\n</table>\n<p>198 rows × 8 columns</p>\n</div>"
     },
     "execution_count": 86,
     "metadata": {},
     "output_type": "execute_result"
    }
   ],
   "source": [
    "# Usa la función:\n",
    "buscar = filter_contratos(contratos_df)\n",
    "buscar[['siglas_de_la_institucion', 'titulo_del_contrato', 'descripcion_del_contrato','rfc','proveedor_o_contratista', 'importe', 'direccion_del_anuncio', 'ano']]"
   ],
   "metadata": {
    "collapsed": false,
    "ExecuteTime": {
     "end_time": "2023-08-03T01:29:28.930129Z",
     "start_time": "2023-08-03T01:29:14.760638Z"
    }
   }
  },
  {
   "cell_type": "markdown",
   "source": [
    "### Resultados de búsqueda por institución"
   ],
   "metadata": {
    "collapsed": false
   }
  },
  {
   "cell_type": "code",
   "execution_count": 87,
   "outputs": [
    {
     "data": {
      "text/plain": "   siglas_de_la_institucion  \\\n7                 BIENESTAR   \n36                  LOTERIA   \n31                    INEGI   \n38                    NAFIN   \n18                      CRE   \n14                   COFECE   \n29                     INAI   \n24                  FONATUR   \n39                   ONCETV   \n20                   ECHASA   \n32                INMUJERES   \n19                  CULTURA   \n34                   ISSSTE   \n5                 BANCOMEXT   \n47                      SSA   \n33                      IPN   \n27                      IFT   \n41                    SEGOB   \n37                     MICH   \n23                      FND   \n40                  PROFECO   \n30                    INBAL   \n26                       GN   \n10                     CIAD   \n25        FONATUR TREN MAYA   \n21                      FGR   \n42                    SEMAR   \n3         BANCODELBIENESTAR   \n45                      SPF   \n11                CINVESTAV   \n16                 CONAPRED   \n6                  BANOBRAS   \n9                    CENSIA   \n8                      CAMP   \n17                  CONEVAL   \n46                      SRE   \n1                      AICM   \n4         BANCODELBIENESTAR   \n44                     SICT   \n0                       AGS   \n43                    SENER   \n48                  TVMETRO   \n15                CONALITEG   \n35                      JAL   \n28                     IMSS   \n12                      CNI   \n2   ASIPONA-LÁZARO CÁRDENAS   \n22                   FICINE   \n13                    CNSNS   \n\n                                          institucion              importe  \n7                             SECRETARIA DE BIENESTAR        530,757,375.0  \n36                                   LOTERÍA NACIONAL         80,979,968.7  \n31      INSTITUTO NACIONAL DE ESTADÍSTICA Y GEOGRAFÍA         30,071,602.5  \n38                        NACIONAL FINANCIERA, S.N.C.        19,095,786.24  \n18                     COMISIÓN REGULADORA DE ENERGÍA         6,640,823.39  \n14          COMISIÓN FEDERAL DE COMPETENCIA ECONÓMICA         4,626,476.11  \n29  INSTITUTO NACIONAL DE TRANSPARENCIA, ACCESO A ... 3,920,258.6100000003  \n24               FONDO NACIONAL DE FOMENTO AL TURISMO          3,235,000.0  \n39                                    XE-IPN CANAL 11          3,199,080.9  \n20                   ESTUDIOS CHURUBUSCO AZTECA, S.A.         2,849,806.12  \n32                  INSTITUTO NACIONAL DE LAS MUJERES         1,894,699.44  \n19                              SECRETARÍA DE CULTURA         1,776,714.18  \n34  INSTITUTO DE SEGURIDAD Y SERVICIOS SOCIALES DE...          1,570,390.8  \n5         BANCO NACIONAL DE COMERCIO EXTERIOR, S.N.C.         1,450,371.66  \n47                                SECRETARÍA DE SALUD          1,412,082.3  \n33                     INSTITUTO POLITÉCNICO NACIONAL         1,175,870.38  \n27            INSTITUTO FEDERAL DE TELECOMUNICACIONES          1,122,404.4  \n41                          SECRETARÍA DE GOBERNACIÓN         1,116,421.59  \n37        _GOBIERNO DEL ESTADO DE MICHOACÁN DE OCAMPO          1,028,000.0  \n23  FINANCIERA NACIONAL DE DESARROLLO AGROPECUARIO...          1,000,000.0  \n40                PROCURADURÍA FEDERAL DEL CONSUMIDOR            895,200.0  \n30    INSTITUTO NACIONAL DE BELLAS ARTES Y LITERATURA           890,101.11  \n26                                   GUARDIA NACIONAL            878,800.0  \n10  CENTRO DE INVESTIGACIÓN EN ALIMENTACIÓN Y DESA...   641,999.9099999999  \n25                    FONATUR TREN MAYA, S.A. DE C.V.           626,982.76  \n21                   FISCALÍA GENERAL DE LA REPÚBLICA           485,277.04  \n42                               SECRETARÍA DE MARINA            477,000.0  \n3                  BANCO DEL BIENESTAR, S.N.C., I.B.D            460,518.0  \n45                     SERVICIO DE PROTECCIÓN FEDERAL            436,500.0  \n11  CENTRO DE INVESTIGACIÓN Y DE ESTUDIOS AVANZADO...           422,413.79  \n16   CONSEJO NACIONAL PARA PREVENIR LA DISCRIMINACIÓN            417,713.2  \n6   BANCO NACIONAL DE OBRAS Y SERVICIOS PÚBLICOS, ...            360,000.0  \n9   CENTRO NACIONAL PARA LA SALUD DE LA INFANCIA Y...           344,827.59  \n8                    _GOBIERNO DEL ESTADO DE CAMPECHE            311,800.0  \n17  CONSEJO NACIONAL DE EVALUACIÓN DE LA POLÍTICA ...            300,000.0  \n46                SECRETARÍA DE RELACIONES EXTERIORES            300,000.0  \n1   AEROPUERTO INTERNACIONAL DE LA CIUDAD DE MÉXIC...           290,948.26  \n4                 BANCO DEL BIENESTAR, S.N.C., I.B.D.            225,000.0  \n44  SECRETARÍA DE INFRAESTRUCTURA, COMUNICACIONES ...            174,000.0  \n0              _GOBIERNO DEL ESTADO DE AGUASCALIENTES            126,500.0  \n43                              SECRETARÍA DE ENERGÍA            110,344.0  \n48              TELEVISIÓN METROPOLITANA S.A. DE C.V.            108,000.0  \n15     COMISIÓN NACIONAL DE LIBROS DE TEXTO GRATUITOS            82,491.19  \n35                    _GOBIERNO DEL ESTADO DE JALISCO             63,750.0  \n28               INSTITUTO MEXICANO DEL SEGURO SOCIAL             60,344.0  \n12                    CENTRO NACIONAL DE INTELIGENCIA             56,878.0  \n2   ADMINISTRACIÓN DEL SISTEMA PORTUARIO NACIONAL ...             43,103.5  \n22              FIDEICOMISO PARA LA CINETECA NACIONAL            36,503.49  \n13  COMISIÓN NACIONAL DE SEGURIDAD NUCLEAR Y SALVA...            15,687.36  ",
      "text/html": "<div>\n<style scoped>\n    .dataframe tbody tr th:only-of-type {\n        vertical-align: middle;\n    }\n\n    .dataframe tbody tr th {\n        vertical-align: top;\n    }\n\n    .dataframe thead th {\n        text-align: right;\n    }\n</style>\n<table border=\"1\" class=\"dataframe\">\n  <thead>\n    <tr style=\"text-align: right;\">\n      <th></th>\n      <th>siglas_de_la_institucion</th>\n      <th>institucion</th>\n      <th>importe</th>\n    </tr>\n  </thead>\n  <tbody>\n    <tr>\n      <th>7</th>\n      <td>BIENESTAR</td>\n      <td>SECRETARIA DE BIENESTAR</td>\n      <td>530,757,375.0</td>\n    </tr>\n    <tr>\n      <th>36</th>\n      <td>LOTERIA</td>\n      <td>LOTERÍA NACIONAL</td>\n      <td>80,979,968.7</td>\n    </tr>\n    <tr>\n      <th>31</th>\n      <td>INEGI</td>\n      <td>INSTITUTO NACIONAL DE ESTADÍSTICA Y GEOGRAFÍA</td>\n      <td>30,071,602.5</td>\n    </tr>\n    <tr>\n      <th>38</th>\n      <td>NAFIN</td>\n      <td>NACIONAL FINANCIERA, S.N.C.</td>\n      <td>19,095,786.24</td>\n    </tr>\n    <tr>\n      <th>18</th>\n      <td>CRE</td>\n      <td>COMISIÓN REGULADORA DE ENERGÍA</td>\n      <td>6,640,823.39</td>\n    </tr>\n    <tr>\n      <th>14</th>\n      <td>COFECE</td>\n      <td>COMISIÓN FEDERAL DE COMPETENCIA ECONÓMICA</td>\n      <td>4,626,476.11</td>\n    </tr>\n    <tr>\n      <th>29</th>\n      <td>INAI</td>\n      <td>INSTITUTO NACIONAL DE TRANSPARENCIA, ACCESO A ...</td>\n      <td>3,920,258.6100000003</td>\n    </tr>\n    <tr>\n      <th>24</th>\n      <td>FONATUR</td>\n      <td>FONDO NACIONAL DE FOMENTO AL TURISMO</td>\n      <td>3,235,000.0</td>\n    </tr>\n    <tr>\n      <th>39</th>\n      <td>ONCETV</td>\n      <td>XE-IPN CANAL 11</td>\n      <td>3,199,080.9</td>\n    </tr>\n    <tr>\n      <th>20</th>\n      <td>ECHASA</td>\n      <td>ESTUDIOS CHURUBUSCO AZTECA, S.A.</td>\n      <td>2,849,806.12</td>\n    </tr>\n    <tr>\n      <th>32</th>\n      <td>INMUJERES</td>\n      <td>INSTITUTO NACIONAL DE LAS MUJERES</td>\n      <td>1,894,699.44</td>\n    </tr>\n    <tr>\n      <th>19</th>\n      <td>CULTURA</td>\n      <td>SECRETARÍA DE CULTURA</td>\n      <td>1,776,714.18</td>\n    </tr>\n    <tr>\n      <th>34</th>\n      <td>ISSSTE</td>\n      <td>INSTITUTO DE SEGURIDAD Y SERVICIOS SOCIALES DE...</td>\n      <td>1,570,390.8</td>\n    </tr>\n    <tr>\n      <th>5</th>\n      <td>BANCOMEXT</td>\n      <td>BANCO NACIONAL DE COMERCIO EXTERIOR, S.N.C.</td>\n      <td>1,450,371.66</td>\n    </tr>\n    <tr>\n      <th>47</th>\n      <td>SSA</td>\n      <td>SECRETARÍA DE SALUD</td>\n      <td>1,412,082.3</td>\n    </tr>\n    <tr>\n      <th>33</th>\n      <td>IPN</td>\n      <td>INSTITUTO POLITÉCNICO NACIONAL</td>\n      <td>1,175,870.38</td>\n    </tr>\n    <tr>\n      <th>27</th>\n      <td>IFT</td>\n      <td>INSTITUTO FEDERAL DE TELECOMUNICACIONES</td>\n      <td>1,122,404.4</td>\n    </tr>\n    <tr>\n      <th>41</th>\n      <td>SEGOB</td>\n      <td>SECRETARÍA DE GOBERNACIÓN</td>\n      <td>1,116,421.59</td>\n    </tr>\n    <tr>\n      <th>37</th>\n      <td>MICH</td>\n      <td>_GOBIERNO DEL ESTADO DE MICHOACÁN DE OCAMPO</td>\n      <td>1,028,000.0</td>\n    </tr>\n    <tr>\n      <th>23</th>\n      <td>FND</td>\n      <td>FINANCIERA NACIONAL DE DESARROLLO AGROPECUARIO...</td>\n      <td>1,000,000.0</td>\n    </tr>\n    <tr>\n      <th>40</th>\n      <td>PROFECO</td>\n      <td>PROCURADURÍA FEDERAL DEL CONSUMIDOR</td>\n      <td>895,200.0</td>\n    </tr>\n    <tr>\n      <th>30</th>\n      <td>INBAL</td>\n      <td>INSTITUTO NACIONAL DE BELLAS ARTES Y LITERATURA</td>\n      <td>890,101.11</td>\n    </tr>\n    <tr>\n      <th>26</th>\n      <td>GN</td>\n      <td>GUARDIA NACIONAL</td>\n      <td>878,800.0</td>\n    </tr>\n    <tr>\n      <th>10</th>\n      <td>CIAD</td>\n      <td>CENTRO DE INVESTIGACIÓN EN ALIMENTACIÓN Y DESA...</td>\n      <td>641,999.9099999999</td>\n    </tr>\n    <tr>\n      <th>25</th>\n      <td>FONATUR TREN MAYA</td>\n      <td>FONATUR TREN MAYA, S.A. DE C.V.</td>\n      <td>626,982.76</td>\n    </tr>\n    <tr>\n      <th>21</th>\n      <td>FGR</td>\n      <td>FISCALÍA GENERAL DE LA REPÚBLICA</td>\n      <td>485,277.04</td>\n    </tr>\n    <tr>\n      <th>42</th>\n      <td>SEMAR</td>\n      <td>SECRETARÍA DE MARINA</td>\n      <td>477,000.0</td>\n    </tr>\n    <tr>\n      <th>3</th>\n      <td>BANCODELBIENESTAR</td>\n      <td>BANCO DEL BIENESTAR, S.N.C., I.B.D</td>\n      <td>460,518.0</td>\n    </tr>\n    <tr>\n      <th>45</th>\n      <td>SPF</td>\n      <td>SERVICIO DE PROTECCIÓN FEDERAL</td>\n      <td>436,500.0</td>\n    </tr>\n    <tr>\n      <th>11</th>\n      <td>CINVESTAV</td>\n      <td>CENTRO DE INVESTIGACIÓN Y DE ESTUDIOS AVANZADO...</td>\n      <td>422,413.79</td>\n    </tr>\n    <tr>\n      <th>16</th>\n      <td>CONAPRED</td>\n      <td>CONSEJO NACIONAL PARA PREVENIR LA DISCRIMINACIÓN</td>\n      <td>417,713.2</td>\n    </tr>\n    <tr>\n      <th>6</th>\n      <td>BANOBRAS</td>\n      <td>BANCO NACIONAL DE OBRAS Y SERVICIOS PÚBLICOS, ...</td>\n      <td>360,000.0</td>\n    </tr>\n    <tr>\n      <th>9</th>\n      <td>CENSIA</td>\n      <td>CENTRO NACIONAL PARA LA SALUD DE LA INFANCIA Y...</td>\n      <td>344,827.59</td>\n    </tr>\n    <tr>\n      <th>8</th>\n      <td>CAMP</td>\n      <td>_GOBIERNO DEL ESTADO DE CAMPECHE</td>\n      <td>311,800.0</td>\n    </tr>\n    <tr>\n      <th>17</th>\n      <td>CONEVAL</td>\n      <td>CONSEJO NACIONAL DE EVALUACIÓN DE LA POLÍTICA ...</td>\n      <td>300,000.0</td>\n    </tr>\n    <tr>\n      <th>46</th>\n      <td>SRE</td>\n      <td>SECRETARÍA DE RELACIONES EXTERIORES</td>\n      <td>300,000.0</td>\n    </tr>\n    <tr>\n      <th>1</th>\n      <td>AICM</td>\n      <td>AEROPUERTO INTERNACIONAL DE LA CIUDAD DE MÉXIC...</td>\n      <td>290,948.26</td>\n    </tr>\n    <tr>\n      <th>4</th>\n      <td>BANCODELBIENESTAR</td>\n      <td>BANCO DEL BIENESTAR, S.N.C., I.B.D.</td>\n      <td>225,000.0</td>\n    </tr>\n    <tr>\n      <th>44</th>\n      <td>SICT</td>\n      <td>SECRETARÍA DE INFRAESTRUCTURA, COMUNICACIONES ...</td>\n      <td>174,000.0</td>\n    </tr>\n    <tr>\n      <th>0</th>\n      <td>AGS</td>\n      <td>_GOBIERNO DEL ESTADO DE AGUASCALIENTES</td>\n      <td>126,500.0</td>\n    </tr>\n    <tr>\n      <th>43</th>\n      <td>SENER</td>\n      <td>SECRETARÍA DE ENERGÍA</td>\n      <td>110,344.0</td>\n    </tr>\n    <tr>\n      <th>48</th>\n      <td>TVMETRO</td>\n      <td>TELEVISIÓN METROPOLITANA S.A. DE C.V.</td>\n      <td>108,000.0</td>\n    </tr>\n    <tr>\n      <th>15</th>\n      <td>CONALITEG</td>\n      <td>COMISIÓN NACIONAL DE LIBROS DE TEXTO GRATUITOS</td>\n      <td>82,491.19</td>\n    </tr>\n    <tr>\n      <th>35</th>\n      <td>JAL</td>\n      <td>_GOBIERNO DEL ESTADO DE JALISCO</td>\n      <td>63,750.0</td>\n    </tr>\n    <tr>\n      <th>28</th>\n      <td>IMSS</td>\n      <td>INSTITUTO MEXICANO DEL SEGURO SOCIAL</td>\n      <td>60,344.0</td>\n    </tr>\n    <tr>\n      <th>12</th>\n      <td>CNI</td>\n      <td>CENTRO NACIONAL DE INTELIGENCIA</td>\n      <td>56,878.0</td>\n    </tr>\n    <tr>\n      <th>2</th>\n      <td>ASIPONA-LÁZARO CÁRDENAS</td>\n      <td>ADMINISTRACIÓN DEL SISTEMA PORTUARIO NACIONAL ...</td>\n      <td>43,103.5</td>\n    </tr>\n    <tr>\n      <th>22</th>\n      <td>FICINE</td>\n      <td>FIDEICOMISO PARA LA CINETECA NACIONAL</td>\n      <td>36,503.49</td>\n    </tr>\n    <tr>\n      <th>13</th>\n      <td>CNSNS</td>\n      <td>COMISIÓN NACIONAL DE SEGURIDAD NUCLEAR Y SALVA...</td>\n      <td>15,687.36</td>\n    </tr>\n  </tbody>\n</table>\n</div>"
     },
     "execution_count": 87,
     "metadata": {},
     "output_type": "execute_result"
    }
   ],
   "source": [
    "pd.options.display.float_format = '{:,}'.format\n",
    "\n",
    "ins_df=buscar.groupby(['siglas_de_la_institucion', 'institucion']).agg({'importe':'sum'}).reset_index()\n",
    "\n",
    "ins_df.sort_values(by='importe', ascending=False, inplace=True)\n",
    "#institucion.set_index('Institución', inplace=True)\n",
    "ins_df"
   ],
   "metadata": {
    "collapsed": false,
    "ExecuteTime": {
     "end_time": "2023-08-03T01:29:59.945051Z",
     "start_time": "2023-08-03T01:29:59.909895Z"
    }
   }
  },
  {
   "cell_type": "markdown",
   "source": [
    "### Resultados de búsqueda por proveedor"
   ],
   "metadata": {
    "collapsed": false
   }
  },
  {
   "cell_type": "code",
   "execution_count": 90,
   "outputs": [
    {
     "data": {
      "text/plain": "                        proveedor_o_contratista            rfc  \\\n16              BUFETE EMPRESARIAL GTI SA DE CV   BEG141128JD5   \n68                                   INFOCREDIT   INF960111P76   \n49                              FLUXUS SA DE CV   FLU060630EK3   \n91             MEDLY MEDICAL MARKETING SA DE CV   MMM160830C60   \n33          DEMOS DESARROLLO DE MEDIOS SA DE CV   DDM840626PM2   \n..                                          ...            ...   \n104                PATRICIA PAOLA PARRA SOLORIO  XAXX010101000   \n113  PUBLICACIONES METROPOLITANAS S A P I DE CV   PME051206NG5   \n59      GRUPO EMPRESARIAL OFERTAS S DE RL DE CV   GEO100427UK6   \n11           ASOCIACION MEXICANA DE INTERNET AC   AMI991215SP0   \n114                   RADIOMOVIL DIPSA SA DE CV   RDI841003QJ4   \n\n                 importe año_constitucion  \n16         530,757,375.0             2014  \n68         18,584,437.24             1996  \n49          17,908,130.0             2006  \n91          12,163,472.5             2016  \n33  11,034,413.790000001             1984  \n..                   ...              ...  \n104            36,503.49          unknown  \n113             35,750.0             2005  \n59              28,000.0             2010  \n11             20,844.82             1999  \n114            15,687.36             1984  \n\n[137 rows x 4 columns]",
      "text/html": "<div>\n<style scoped>\n    .dataframe tbody tr th:only-of-type {\n        vertical-align: middle;\n    }\n\n    .dataframe tbody tr th {\n        vertical-align: top;\n    }\n\n    .dataframe thead th {\n        text-align: right;\n    }\n</style>\n<table border=\"1\" class=\"dataframe\">\n  <thead>\n    <tr style=\"text-align: right;\">\n      <th></th>\n      <th>proveedor_o_contratista</th>\n      <th>rfc</th>\n      <th>importe</th>\n      <th>año_constitucion</th>\n    </tr>\n  </thead>\n  <tbody>\n    <tr>\n      <th>16</th>\n      <td>BUFETE EMPRESARIAL GTI SA DE CV</td>\n      <td>BEG141128JD5</td>\n      <td>530,757,375.0</td>\n      <td>2014</td>\n    </tr>\n    <tr>\n      <th>68</th>\n      <td>INFOCREDIT</td>\n      <td>INF960111P76</td>\n      <td>18,584,437.24</td>\n      <td>1996</td>\n    </tr>\n    <tr>\n      <th>49</th>\n      <td>FLUXUS SA DE CV</td>\n      <td>FLU060630EK3</td>\n      <td>17,908,130.0</td>\n      <td>2006</td>\n    </tr>\n    <tr>\n      <th>91</th>\n      <td>MEDLY MEDICAL MARKETING SA DE CV</td>\n      <td>MMM160830C60</td>\n      <td>12,163,472.5</td>\n      <td>2016</td>\n    </tr>\n    <tr>\n      <th>33</th>\n      <td>DEMOS DESARROLLO DE MEDIOS SA DE CV</td>\n      <td>DDM840626PM2</td>\n      <td>11,034,413.790000001</td>\n      <td>1984</td>\n    </tr>\n    <tr>\n      <th>...</th>\n      <td>...</td>\n      <td>...</td>\n      <td>...</td>\n      <td>...</td>\n    </tr>\n    <tr>\n      <th>104</th>\n      <td>PATRICIA PAOLA PARRA SOLORIO</td>\n      <td>XAXX010101000</td>\n      <td>36,503.49</td>\n      <td>unknown</td>\n    </tr>\n    <tr>\n      <th>113</th>\n      <td>PUBLICACIONES METROPOLITANAS S A P I DE CV</td>\n      <td>PME051206NG5</td>\n      <td>35,750.0</td>\n      <td>2005</td>\n    </tr>\n    <tr>\n      <th>59</th>\n      <td>GRUPO EMPRESARIAL OFERTAS S DE RL DE CV</td>\n      <td>GEO100427UK6</td>\n      <td>28,000.0</td>\n      <td>2010</td>\n    </tr>\n    <tr>\n      <th>11</th>\n      <td>ASOCIACION MEXICANA DE INTERNET AC</td>\n      <td>AMI991215SP0</td>\n      <td>20,844.82</td>\n      <td>1999</td>\n    </tr>\n    <tr>\n      <th>114</th>\n      <td>RADIOMOVIL DIPSA SA DE CV</td>\n      <td>RDI841003QJ4</td>\n      <td>15,687.36</td>\n      <td>1984</td>\n    </tr>\n  </tbody>\n</table>\n<p>137 rows × 4 columns</p>\n</div>"
     },
     "execution_count": 90,
     "metadata": {},
     "output_type": "execute_result"
    }
   ],
   "source": [
    "import pandas as pd\n",
    "\n",
    "pd.options.display.float_format = '{:,}'.format\n",
    "\n",
    "prov_df=buscar.groupby(['proveedor_o_contratista', 'rfc']).agg({'importe':'sum'}).reset_index()\n",
    "\n",
    "prov_df.sort_values(by='importe', ascending=False, inplace=True)\n",
    "\n",
    "def convert_year(two_digit_year):\n",
    "    if two_digit_year.isdigit():\n",
    "        year_int = int(two_digit_year)\n",
    "        if year_int > 23:\n",
    "            return \"19\" + two_digit_year\n",
    "        else:\n",
    "            return \"20\" + two_digit_year\n",
    "    else:\n",
    "        return \"unknown\"  # or some other default value\n",
    "\n",
    "prov_df['año_constitucion'] = prov_df['rfc'].apply(lambda x: convert_year(str(x)[3:5]) if len(str(x)) >= 5 else \"unknown\")\n",
    "\n",
    "prov_df\n"
   ],
   "metadata": {
    "collapsed": false,
    "ExecuteTime": {
     "end_time": "2023-08-03T01:31:31.703935Z",
     "start_time": "2023-08-03T01:31:31.683871Z"
    }
   }
  }
 ],
 "metadata": {
  "kernelspec": {
   "display_name": "Python 3",
   "language": "python",
   "name": "python3"
  },
  "language_info": {
   "codemirror_mode": {
    "name": "ipython",
    "version": 2
   },
   "file_extension": ".py",
   "mimetype": "text/x-python",
   "name": "python",
   "nbconvert_exporter": "python",
   "pygments_lexer": "ipython2",
   "version": "2.7.6"
  }
 },
 "nbformat": 4,
 "nbformat_minor": 0
}
