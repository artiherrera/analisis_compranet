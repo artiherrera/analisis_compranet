{
 "cells": [
  {
   "cell_type": "code",
   "execution_count": 1,
   "metadata": {
    "collapsed": true,
    "ExecuteTime": {
     "end_time": "2023-08-05T20:06:07.061756Z",
     "start_time": "2023-08-05T20:05:58.955993Z"
    }
   },
   "outputs": [
    {
     "name": "stderr",
     "output_type": "stream",
     "text": [
      "/var/folders/n1/5l3l1c6x5xd7lfxmx1cmr21c0000gn/T/ipykernel_3045/3664601328.py:15: DtypeWarning: Columns (6,7,20,42,43) have mixed types. Specify dtype option on import or set low_memory=False.\n",
      "  dfs[f'df{year}'] = pd.read_csv(file_path)  # lee el archivo CSV y lo almacena en el diccionario\n",
      "/var/folders/n1/5l3l1c6x5xd7lfxmx1cmr21c0000gn/T/ipykernel_3045/3664601328.py:15: DtypeWarning: Columns (6,7,20,42,43) have mixed types. Specify dtype option on import or set low_memory=False.\n",
      "  dfs[f'df{year}'] = pd.read_csv(file_path)  # lee el archivo CSV y lo almacena en el diccionario\n",
      "/var/folders/n1/5l3l1c6x5xd7lfxmx1cmr21c0000gn/T/ipykernel_3045/3664601328.py:15: DtypeWarning: Columns (6,7,20,42,43) have mixed types. Specify dtype option on import or set low_memory=False.\n",
      "  dfs[f'df{year}'] = pd.read_csv(file_path)  # lee el archivo CSV y lo almacena en el diccionario\n",
      "/var/folders/n1/5l3l1c6x5xd7lfxmx1cmr21c0000gn/T/ipykernel_3045/3664601328.py:15: DtypeWarning: Columns (6,20,42,43) have mixed types. Specify dtype option on import or set low_memory=False.\n",
      "  dfs[f'df{year}'] = pd.read_csv(file_path)  # lee el archivo CSV y lo almacena en el diccionario\n"
     ]
    }
   ],
   "source": [
    "import os\n",
    "import pandas as pd\n",
    "import janitor\n",
    "import numpy as np\n",
    "\n",
    "\n",
    "dfs = {}\n",
    "\n",
    "ruta = os.path.join('..', 'data')\n",
    "\n",
    "years = range(2019, 2024)\n",
    "\n",
    "for year in years:\n",
    "    file_path = os.path.join(ruta, f'{year}clean.csv')  # crea la ruta al archivo\n",
    "    dfs[f'df{year}'] = pd.read_csv(file_path)  # lee el archivo CSV y lo almacena en el diccionario\n",
    "\n",
    "df2019 = dfs['df2019']\n",
    "df2020 = dfs['df2020']\n",
    "df2021 = dfs['df2021']\n",
    "df2022 = dfs['df2022']\n",
    "df2023 = dfs['df2023']\n",
    "\n",
    "df2019['ano']=2019\n",
    "df2020['ano']=2020\n",
    "df2021['ano']=2021\n",
    "df2022['ano']=2022\n",
    "df2023['ano']=2023\n",
    "\n",
    "\n",
    "for name, df in dfs.items():\n",
    "    dfs[name] = df.clean_names()"
   ]
  },
  {
   "cell_type": "code",
   "execution_count": 2,
   "outputs": [],
   "source": [
    "# Crear una lista de dataframes\n",
    "dfs_list = [dfs[name] for name in dfs.keys()]\n",
    "\n",
    "# Concatenar todos los dataframes\n",
    "contratos_df = pd.concat(dfs_list, ignore_index=True)\n"
   ],
   "metadata": {
    "collapsed": false,
    "ExecuteTime": {
     "end_time": "2023-08-05T20:06:07.252783Z",
     "start_time": "2023-08-05T20:06:07.067246Z"
    }
   }
  },
  {
   "cell_type": "code",
   "execution_count": 3,
   "outputs": [
    {
     "name": "stdout",
     "output_type": "stream",
     "text": [
      "1 USD = 17.115130976369297 MXN\n",
      "1 CAD = 13.018183084854396 MXN\n",
      "1 EUR = 18.6863 MXN\n",
      "1 GBP = 21.75912340762477 MXN\n",
      "1 JPY = 0.11946998273767662 MXN\n",
      "Done\n"
     ]
    }
   ],
   "source": [
    "from currency_converter import CurrencyConverter\n",
    "\n",
    "\n",
    "for column in contratos_df.columns:\n",
    "    if contratos_df[column].dtype == 'object':\n",
    "        contratos_df[column] = contratos_df[column].str.upper()\n",
    "\n",
    "\n",
    "for column in contratos_df.columns:\n",
    "    if contratos_df[column].dtype == 'string':\n",
    "        contratos_df[column] = contratos_df[column].str.upper()\n",
    "\n",
    "c = CurrencyConverter()\n",
    "currencies=['USD', 'CAD', 'EUR', 'GBP', 'JPY']\n",
    "\n",
    "# Create a dictionary to store conversion rates\n",
    "conversion_rates = {}\n",
    "\n",
    "for m in currencies:\n",
    "    conversion_rate = c.convert(1, m, 'MXN')\n",
    "    print(1, m, \"=\", conversion_rate, 'MXN')\n",
    "    conversion_rates[m] = conversion_rate\n",
    "\n",
    "# Apply conversion rates\n",
    "contratos_df[\"importe\"] = contratos_df[\"importe_del_contrato\"]\n",
    "\n",
    "for currency, conversion_rate in conversion_rates.items():\n",
    "    contratos_df.loc[contratos_df['moneda_del_contrato'] == currency , 'importe'] = contratos_df.loc[contratos_df['moneda_del_contrato'] == currency , \"importe_del_contrato\"] * conversion_rate\n",
    "\n",
    "print('Done')\n"
   ],
   "metadata": {
    "collapsed": false,
    "ExecuteTime": {
     "end_time": "2023-08-05T20:06:10.969756Z",
     "start_time": "2023-08-05T20:06:07.254831Z"
    }
   }
  },
  {
   "cell_type": "code",
   "execution_count": 4,
   "outputs": [],
   "source": [
    "\n",
    "def correct_swap(df):\n",
    "    # Define un patrón de RFC válido\n",
    "    rfc_pattern = r\"^[A-ZÑ&]{3,4}[0-9]{2}(0[1-9]|1[0-2])(0[1-9]|1[0-9]|2[0-9]|3[0-1])[A-Z0-9]?[A-Z0-9]?[0-9A]$\"\n",
    "\n",
    "    # Rellena los NaN con una cadena vacía para poder aplicar str.match\n",
    "    df.fillna(\"\", inplace=True)\n",
    "\n",
    "    # Identifica las filas donde 'rfc' no es un RFC válido y 'proveedor_o_contratista' es un RFC válido\n",
    "    mask_invalid = ~df['rfc'].str.match(rfc_pattern) & df['proveedor_o_contratista'].str.match(rfc_pattern)\n",
    "\n",
    "    # Intercambia 'rfc' y 'proveedor_o_contratista' para las filas identificadas\n",
    "    df.loc[mask_invalid, 'rfc'], df.loc[mask_invalid, 'proveedor_o_contratista'] = df.loc[mask_invalid, 'proveedor_o_contratista'], df.loc[mask_invalid, 'rfc']\n",
    "\n",
    "    # Identifica las filas donde 'rfc' no es un RFC válido y 'proveedor_o_contratista' es una cadena vacía\n",
    "    mask_invalid_empty = ~df['rfc'].str.match(rfc_pattern) & (df['proveedor_o_contratista'] == \"\")\n",
    "\n",
    "    # Intercambia 'rfc' y 'proveedor_o_contratista' para las filas identificadas y asigna un valor artificial a 'rfc'\n",
    "    df.loc[mask_invalid_empty, 'rfc'], df.loc[mask_invalid_empty, 'proveedor_o_contratista'] = 'XAXX010101000', df.loc[mask_invalid_empty, 'rfc']\n",
    "\n",
    "    # Reemplaza las cadenas vacías con NaN de nuevo\n",
    "    df.replace(\"\", np.nan, inplace=True)\n",
    "\n",
    "    return df\n",
    "\n",
    "# Supón que contratos_df es tu DataFrame original\n",
    "contratos_df = correct_swap(contratos_df)\n"
   ],
   "metadata": {
    "collapsed": false,
    "ExecuteTime": {
     "end_time": "2023-08-05T20:06:14.721278Z",
     "start_time": "2023-08-05T20:06:10.971671Z"
    }
   }
  },
  {
   "cell_type": "code",
   "execution_count": 5,
   "outputs": [
    {
     "data": {
      "text/plain": "                  rfc          proveedor_o_contratista\n14895   XAXX010101000                     ARBAVEL A.C.\n16833   XAXX010101000                     JESUS GARCIA\n16973   XAXX010101000                     DAVID ROMERO\n21692   XAXX010101000                     CRUZ ROBLEDO\n23257   XAXX010101000                     PAVLO GETMAN\n...               ...                              ...\n471121  XAXX010101000  FRANCISCO JAVIER MONROY SANCHEZ\n471122  XAXX010101000        ALEXIA ANAEL AVILA SOLIS \n471137  XAXX010101000        JOSE DE JESUS DIAZ CORONA\n471138  XAXX010101000         TOMAS ESPINOZA BENAVIDES\n471140  XAXX010101000              MARTIN ORTIZ VALDEZ\n\n[1925 rows x 2 columns]",
      "text/html": "<div>\n<style scoped>\n    .dataframe tbody tr th:only-of-type {\n        vertical-align: middle;\n    }\n\n    .dataframe tbody tr th {\n        vertical-align: top;\n    }\n\n    .dataframe thead th {\n        text-align: right;\n    }\n</style>\n<table border=\"1\" class=\"dataframe\">\n  <thead>\n    <tr style=\"text-align: right;\">\n      <th></th>\n      <th>rfc</th>\n      <th>proveedor_o_contratista</th>\n    </tr>\n  </thead>\n  <tbody>\n    <tr>\n      <th>14895</th>\n      <td>XAXX010101000</td>\n      <td>ARBAVEL A.C.</td>\n    </tr>\n    <tr>\n      <th>16833</th>\n      <td>XAXX010101000</td>\n      <td>JESUS GARCIA</td>\n    </tr>\n    <tr>\n      <th>16973</th>\n      <td>XAXX010101000</td>\n      <td>DAVID ROMERO</td>\n    </tr>\n    <tr>\n      <th>21692</th>\n      <td>XAXX010101000</td>\n      <td>CRUZ ROBLEDO</td>\n    </tr>\n    <tr>\n      <th>23257</th>\n      <td>XAXX010101000</td>\n      <td>PAVLO GETMAN</td>\n    </tr>\n    <tr>\n      <th>...</th>\n      <td>...</td>\n      <td>...</td>\n    </tr>\n    <tr>\n      <th>471121</th>\n      <td>XAXX010101000</td>\n      <td>FRANCISCO JAVIER MONROY SANCHEZ</td>\n    </tr>\n    <tr>\n      <th>471122</th>\n      <td>XAXX010101000</td>\n      <td>ALEXIA ANAEL AVILA SOLIS</td>\n    </tr>\n    <tr>\n      <th>471137</th>\n      <td>XAXX010101000</td>\n      <td>JOSE DE JESUS DIAZ CORONA</td>\n    </tr>\n    <tr>\n      <th>471138</th>\n      <td>XAXX010101000</td>\n      <td>TOMAS ESPINOZA BENAVIDES</td>\n    </tr>\n    <tr>\n      <th>471140</th>\n      <td>XAXX010101000</td>\n      <td>MARTIN ORTIZ VALDEZ</td>\n    </tr>\n  </tbody>\n</table>\n<p>1925 rows × 2 columns</p>\n</div>"
     },
     "execution_count": 5,
     "metadata": {},
     "output_type": "execute_result"
    }
   ],
   "source": [
    "def verify_correction(df):\n",
    "    # Identificar filas donde rfc tiene una longitud distinta a 13\n",
    "    mask = df['rfc'].str.len() != 12\n",
    "    # Retornar filas donde rfc tiene una longitud distinta a 13\n",
    "    return df.loc[mask]\n",
    "\n",
    "verify_correction(contratos_df[['rfc', 'proveedor_o_contratista']])"
   ],
   "metadata": {
    "collapsed": false,
    "ExecuteTime": {
     "end_time": "2023-08-05T20:06:15.300715Z",
     "start_time": "2023-08-05T20:06:14.723695Z"
    }
   }
  },
  {
   "cell_type": "markdown",
   "source": [
    "### Función de búsqueda"
   ],
   "metadata": {
    "collapsed": false
   }
  },
  {
   "cell_type": "code",
   "execution_count": 73,
   "outputs": [],
   "source": [
    "import re\n",
    "\n",
    "# Función de filtrado\n",
    "def filter_contratos(contratos_df):\n",
    "    # Solicita al usuario un proveedor o contratista o RFC\n",
    "    search_term = input(\"Por favor, ingresa el nombre del proveedor o contratista o el RFC (déjalo en blanco para mostrar todos): \").upper()\n",
    "\n",
    "    # Solicita al usuario las siglas de la institución o \"todas\" para buscar en todas\n",
    "    institution = input(\"Por favor, ingresa las siglas de la institución (déjalo en blanco para mostrar todas) o 'todas' para buscar en todas: \").upper()\n",
    "\n",
    "    # Solicita al usuario las palabras clave en la descripción del contrato\n",
    "    keywords = input(\"Por favor, ingresa las palabras clave en la descripción del contrato (separa múltiples palabras con comas, déjalo en blanco para buscar todas): \").upper()\n",
    "\n",
    "    # Solicita al usuario las palabras a excluir en la descripción del contrato\n",
    "    exclude_words = input(\"Por favor, ingresa las palabras a excluir en la descripción del contrato (separa múltiples palabras con comas, déjalo en blanco para no excluir ninguna): \").upper()\n",
    "\n",
    "    # Solicita al usuario el año\n",
    "    year = input(\"Por favor, ingresa el año (déjalo en blanco para mostrar todos): \")\n",
    "\n",
    "    # Inicialmente asumimos todos los contratos\n",
    "    filtered_df = contratos_df.copy()  # Creamos una copia del DataFrame\n",
    "\n",
    "    filtered_df[['proveedor_o_contratista', 'descripcion_del_contrato', 'rfc']] = filtered_df[['proveedor_o_contratista', 'descripcion_del_contrato', 'rfc']].fillna('')\n",
    "\n",
    "    # Convierte las columnas de texto a mayúsculas\n",
    "    filtered_df['proveedor_o_contratista'] = filtered_df['proveedor_o_contratista'].str.upper()\n",
    "    filtered_df['siglas_de_la_institucion'] = filtered_df['siglas_de_la_institucion'].str.upper()\n",
    "    filtered_df['descripcion_del_contrato'] = filtered_df['descripcion_del_contrato'].str.upper()\n",
    "    filtered_df['rfc'] = filtered_df['rfc'].str.upper()\n",
    "\n",
    "    # Filtra por proveedor o contratista o RFC si se proporciona\n",
    "    if search_term:\n",
    "        search_terms = [term.strip() for term in search_term.split(',')]\n",
    "        search_conditions = [filtered_df['proveedor_o_contratista'].str.contains(term, case=False) | filtered_df['rfc'].str.contains(term, case=False) for term in search_terms]\n",
    "        combined_search_condition = pd.concat(search_conditions, axis=1).any(axis=1)\n",
    "        filtered_df = filtered_df.loc[combined_search_condition]\n",
    "\n",
    "    # Filtra por institución si se proporciona\n",
    "    if institution != 'todas' and institution:\n",
    "        institution = '|'.join(re.escape(inst.strip()) for inst in institution.split(','))\n",
    "        filtered_df = filtered_df.loc[filtered_df['siglas_de_la_institucion'].str.contains(institution, case=False)]\n",
    "\n",
    "    # Filtra por año si se proporciona\n",
    "    if year:\n",
    "        filtered_df = filtered_df.loc[filtered_df['ano'] == int(year)]\n",
    "\n",
    "    # Reemplaza los NaN en la descripción del contrato por cadenas vacías\n",
    "    filtered_df['descripcion_del_contrato'] = filtered_df['descripcion_del_contrato'].fillna('')\n",
    "\n",
    "    # Filtra por palabras clave en la descripción del contrato si se proporcionan\n",
    "    if keywords:\n",
    "        keywords = '|'.join(re.escape(keyword.strip()) for keyword in keywords.split(','))\n",
    "        filtered_df = filtered_df.loc[filtered_df['descripcion_del_contrato'].str.contains(keywords, case=False)]\n",
    "\n",
    "    # Excluye contratos que contienen ciertas palabras en la descripción del contrato si se proporcionan\n",
    "    if exclude_words:\n",
    "        exclude_words = '|'.join(re.escape(word.strip()) for word in exclude_words.split(','))\n",
    "        filtered_df = filtered_df.loc[~filtered_df['descripcion_del_contrato'].str.contains(exclude_words, case=False)]\n",
    "\n",
    "\n",
    "    # Ordena el DataFrame filtrado por importe en orden descendente\n",
    "    filtered_df = filtered_df.sort_values(by='importe', ascending=False)\n",
    "\n",
    "    # Muestra el DataFrame filtrado\n",
    "    return filtered_df\n"
   ],
   "metadata": {
    "collapsed": false,
    "ExecuteTime": {
     "end_time": "2023-08-07T16:02:00.652596Z",
     "start_time": "2023-08-07T16:02:00.646121Z"
    }
   }
  },
  {
   "cell_type": "markdown",
   "source": [
    "# Búsqueda"
   ],
   "metadata": {
    "collapsed": false
   }
  },
  {
   "cell_type": "code",
   "execution_count": 64,
   "outputs": [
    {
     "data": {
      "text/plain": "Empty DataFrame\nColumns: [tipo_de_procedimiento, siglas_de_la_institucion, titulo_del_contrato, descripcion_del_contrato, rfc, proveedor_o_contratista, importe, direccion_del_anuncio, ano]\nIndex: []",
      "text/html": "<div>\n<style scoped>\n    .dataframe tbody tr th:only-of-type {\n        vertical-align: middle;\n    }\n\n    .dataframe tbody tr th {\n        vertical-align: top;\n    }\n\n    .dataframe thead th {\n        text-align: right;\n    }\n</style>\n<table border=\"1\" class=\"dataframe\">\n  <thead>\n    <tr style=\"text-align: right;\">\n      <th></th>\n      <th>tipo_de_procedimiento</th>\n      <th>siglas_de_la_institucion</th>\n      <th>titulo_del_contrato</th>\n      <th>descripcion_del_contrato</th>\n      <th>rfc</th>\n      <th>proveedor_o_contratista</th>\n      <th>importe</th>\n      <th>direccion_del_anuncio</th>\n      <th>ano</th>\n    </tr>\n  </thead>\n  <tbody>\n  </tbody>\n</table>\n</div>"
     },
     "execution_count": 64,
     "metadata": {},
     "output_type": "execute_result"
    }
   ],
   "source": [
    "# Usa la función:\n",
    "buscar = filter_contratos(contratos_df)\n",
    "buscar[['tipo_de_procedimiento', 'siglas_de_la_institucion', 'titulo_del_contrato', 'descripcion_del_contrato','rfc','proveedor_o_contratista', 'importe', 'direccion_del_anuncio', 'ano']]"
   ],
   "metadata": {
    "collapsed": false,
    "ExecuteTime": {
     "end_time": "2023-08-07T15:56:28.608103Z",
     "start_time": "2023-08-07T15:56:03.719459Z"
    }
   }
  },
  {
   "cell_type": "markdown",
   "source": [
    "\n",
    "### Resultados de búsqueda por institución"
   ],
   "metadata": {
    "collapsed": false
   }
  },
  {
   "cell_type": "code",
   "execution_count": 53,
   "outputs": [
    {
     "data": {
      "text/plain": "  siglas_de_la_institucion                                     institucion  \\\n0                CONALITEG  COMISIÓN NACIONAL DE LIBROS DE TEXTO GRATUITOS   \n1                  CULTURA                           SECRETARÍA DE CULTURA   \n\n         proveedor_o_contratista        importe  \n0  EDITORIAL SANTILLANA SA DE CV 892,866,267.72  \n1  EDITORIAL SANTILLANA SA DE CV      623,010.0  ",
      "text/html": "<div>\n<style scoped>\n    .dataframe tbody tr th:only-of-type {\n        vertical-align: middle;\n    }\n\n    .dataframe tbody tr th {\n        vertical-align: top;\n    }\n\n    .dataframe thead th {\n        text-align: right;\n    }\n</style>\n<table border=\"1\" class=\"dataframe\">\n  <thead>\n    <tr style=\"text-align: right;\">\n      <th></th>\n      <th>siglas_de_la_institucion</th>\n      <th>institucion</th>\n      <th>proveedor_o_contratista</th>\n      <th>importe</th>\n    </tr>\n  </thead>\n  <tbody>\n    <tr>\n      <th>0</th>\n      <td>CONALITEG</td>\n      <td>COMISIÓN NACIONAL DE LIBROS DE TEXTO GRATUITOS</td>\n      <td>EDITORIAL SANTILLANA SA DE CV</td>\n      <td>892,866,267.72</td>\n    </tr>\n    <tr>\n      <th>1</th>\n      <td>CULTURA</td>\n      <td>SECRETARÍA DE CULTURA</td>\n      <td>EDITORIAL SANTILLANA SA DE CV</td>\n      <td>623,010.0</td>\n    </tr>\n  </tbody>\n</table>\n</div>"
     },
     "execution_count": 53,
     "metadata": {},
     "output_type": "execute_result"
    }
   ],
   "source": [
    "pd.options.display.float_format = '{:,}'.format\n",
    "\n",
    "ins_df=buscar.groupby(['siglas_de_la_institucion', 'institucion', 'proveedor_o_contratista']).agg({'importe':'sum'}).reset_index()\n",
    "\n",
    "ins_df.sort_values(by='importe', ascending=False, inplace=True)\n",
    "#institucion.set_index('Institución', inplace=True)\n",
    "\n",
    "proveedor = ins_df['proveedor_o_contratista'].iloc[0]\n",
    "ins_df"
   ],
   "metadata": {
    "collapsed": false,
    "ExecuteTime": {
     "end_time": "2023-08-07T15:31:42.304984Z",
     "start_time": "2023-08-07T15:31:42.269037Z"
    }
   }
  },
  {
   "cell_type": "code",
   "execution_count": 54,
   "outputs": [
    {
     "data": {
      "text/plain": "  siglas_de_la_institucion                                     institucion  \\\n0                CONALITEG  COMISIÓN NACIONAL DE LIBROS DE TEXTO GRATUITOS   \n1                  CULTURA                           SECRETARÍA DE CULTURA   \n\n         proveedor_o_contratista        importe  \n0  EDITORIAL SANTILLANA SA DE CV 892,866,267.72  \n1  EDITORIAL SANTILLANA SA DE CV      623,010.0  ",
      "text/html": "<div>\n<style scoped>\n    .dataframe tbody tr th:only-of-type {\n        vertical-align: middle;\n    }\n\n    .dataframe tbody tr th {\n        vertical-align: top;\n    }\n\n    .dataframe thead th {\n        text-align: right;\n    }\n</style>\n<table border=\"1\" class=\"dataframe\">\n  <thead>\n    <tr style=\"text-align: right;\">\n      <th></th>\n      <th>siglas_de_la_institucion</th>\n      <th>institucion</th>\n      <th>proveedor_o_contratista</th>\n      <th>importe</th>\n    </tr>\n  </thead>\n  <tbody>\n    <tr>\n      <th>0</th>\n      <td>CONALITEG</td>\n      <td>COMISIÓN NACIONAL DE LIBROS DE TEXTO GRATUITOS</td>\n      <td>EDITORIAL SANTILLANA SA DE CV</td>\n      <td>892,866,267.72</td>\n    </tr>\n    <tr>\n      <th>1</th>\n      <td>CULTURA</td>\n      <td>SECRETARÍA DE CULTURA</td>\n      <td>EDITORIAL SANTILLANA SA DE CV</td>\n      <td>623,010.0</td>\n    </tr>\n  </tbody>\n</table>\n</div>"
     },
     "execution_count": 54,
     "metadata": {},
     "output_type": "execute_result"
    }
   ],
   "source": [
    "pd.options.display.float_format = '{:,}'.format\n",
    "\n",
    "ins_df=buscar.groupby(['siglas_de_la_institucion', 'institucion', 'proveedor_o_contratista']).agg({'importe':'sum'}).reset_index()\n",
    "\n",
    "ins_df.sort_values(by='importe', ascending=False, inplace=True)\n",
    "#institucion.set_index('Institución', inplace=True)\n",
    "\n",
    "proveedor = ins_df['proveedor_o_contratista'].iloc[0]\n",
    "ins_df"
   ],
   "metadata": {
    "collapsed": false,
    "ExecuteTime": {
     "end_time": "2023-08-07T15:31:49.067234Z",
     "start_time": "2023-08-07T15:31:49.045728Z"
    }
   }
  },
  {
   "cell_type": "code",
   "execution_count": 70,
   "outputs": [
    {
     "data": {
      "text/plain": "<Figure size 864x576 with 1 Axes>",
      "image/png": "[encoded data removed]"
     },
     "metadata": {},
     "output_type": "display_data"
    }
   ],
   "source": [
    "import matplotlib.pyplot as plt\n",
    "import matplotlib.ticker as ticker\n",
    "import numpy as np\n",
    "\n",
    "# Asigna los valores\n",
    "instituciones = ins_df['siglas_de_la_institucion'].values\n",
    "importe = ins_df['importe'].values / 1e3  # Convertimos a miles\n",
    "\n",
    "# Ajusta el tamaño de la figura de acuerdo al número de instituciones\n",
    "if len(instituciones) > 10:\n",
    "    fig, ax = plt.subplots(figsize=(0.5*len(instituciones), 8))\n",
    "else:\n",
    "    fig, ax = plt.subplots(figsize=(12, 8))\n",
    "\n",
    "# Genera las barras\n",
    "bars = ax.bar(instituciones, importe, color='#7f5af0')\n",
    "\n",
    "# Asigna los títulos y etiquetas\n",
    "ax.set_title(f\"Monto (en miles de pesos) de contratos otorgados a \\n {proveedor} 2019-2023\", fontsize=16, pad=20, fontweight='bold', color='#fffffe')\n",
    "ax.set_xlabel(\"Institución\", fontsize=16, labelpad=15, color='#fffffe')\n",
    "ax.set_ylabel(\"Monto\", fontsize=16, labelpad=15, color='white')\n",
    "\n",
    "# Asigna los localizadores de las etiquetas del eje X y rota las etiquetas\n",
    "ax.xaxis.set_major_locator(ticker.FixedLocator(range(len(instituciones))))\n",
    "ax.set_xticklabels(instituciones, fontsize=12, rotation=45, color='#fffffe')\n",
    "\n",
    "# Formatea las etiquetas del eje Y\n",
    "ax.yaxis.set_major_formatter(ticker.StrMethodFormatter('{x:,.0f}'))\n",
    "ax.tick_params(axis='y', labelsize=14, colors='white')\n",
    "\n",
    "# Establece un intervalo de líneas horizontales basado en los datos\n",
    "y_interval = max(importe) / 5\n",
    "ax.yaxis.set_major_locator(ticker.MultipleLocator(y_interval))\n",
    "for y in np.arange(0, max(importe)+y_interval, y_interval):\n",
    "    plt.hlines(y, xmin=-1, xmax=len(instituciones), colors='gray', linestyles='dashed', linewidth=1)\n",
    "\n",
    "# Cambia el color de fondo de la figura y de los ejes\n",
    "fig.set_facecolor('#16161a')\n",
    "ax.set_facecolor('#16161a')\n",
    "\n",
    "# Elimina el cuadro alrededor de la gráfica excepto la línea del eje x\n",
    "for spine in ['left', 'right', 'top']:\n",
    "    ax.spines[spine].set_visible(False)\n",
    "\n",
    "ax.spines['bottom'].set_linewidth(3)  # Ajusta el número para cambiar el grosor\n",
    "ax.spines['bottom'].set_color('#2cb67d')\n",
    "\n",
    "# Añade las etiquetas de las cantidades sobre las barras con un tamaño pequeño y sutil\n",
    "for bar in bars:\n",
    "    yval = bar.get_height()\n",
    "    formatted_yval = \"{:,.2f}\".format(yval)  # Formatea el valor para que tenga comas como separadores de miles\n",
    "    ax.text(bar.get_x() + bar.get_width()/2, yval+0.01, formatted_yval, ha='center', va='bottom', fontsize=12, color='#fffffe')\n",
    "\n",
    "\n",
    "# Agrega la leyenda\n",
    "plt.figtext(0.5, -0.05, \"FUENTE: ELABORADO POR @REALARTUROH CON DATOS DE COMPRANET\", ha=\"right\", fontsize=12, color='#fffffe')\n",
    "\n",
    "# Ajusta el layout para que los títulos no se corten y muestra la gráfica\n",
    "plt.tight_layout()\n",
    "plt.show()\n"
   ],
   "metadata": {
    "collapsed": false,
    "ExecuteTime": {
     "end_time": "2023-08-07T16:01:05.666842Z",
     "start_time": "2023-08-07T16:01:05.571361Z"
    }
   }
  },
  {
   "cell_type": "markdown",
   "source": [
    "### Resultados de búsqueda por proveedor"
   ],
   "metadata": {
    "collapsed": false
   }
  },
  {
   "cell_type": "code",
   "execution_count": 72,
   "outputs": [
    {
     "data": {
      "text/plain": "Empty DataFrame\nColumns: [proveedor_o_contratista, rfc, importe, año_constitucion]\nIndex: []",
      "text/html": "<div>\n<style scoped>\n    .dataframe tbody tr th:only-of-type {\n        vertical-align: middle;\n    }\n\n    .dataframe tbody tr th {\n        vertical-align: top;\n    }\n\n    .dataframe thead th {\n        text-align: right;\n    }\n</style>\n<table border=\"1\" class=\"dataframe\">\n  <thead>\n    <tr style=\"text-align: right;\">\n      <th></th>\n      <th>proveedor_o_contratista</th>\n      <th>rfc</th>\n      <th>importe</th>\n      <th>año_constitucion</th>\n    </tr>\n  </thead>\n  <tbody>\n  </tbody>\n</table>\n</div>"
     },
     "execution_count": 72,
     "metadata": {},
     "output_type": "execute_result"
    }
   ],
   "source": [
    "import pandas as pd\n",
    "\n",
    "pd.options.display.float_format = '{:,}'.format\n",
    "\n",
    "prov_df=buscar.groupby(['proveedor_o_contratista', 'rfc']).agg({'importe':'sum'}).reset_index()\n",
    "\n",
    "prov_df.sort_values(by='importe', ascending=False, inplace=True)\n",
    "\n",
    "def convert_year(two_digit_year):\n",
    "    if two_digit_year.isdigit():\n",
    "        year_int = int(two_digit_year)\n",
    "        if year_int > 23:\n",
    "            return \"19\" + two_digit_year\n",
    "        else:\n",
    "            return \"20\" + two_digit_year\n",
    "    else:\n",
    "        return \"unknown\"  # or some other default value\n",
    "\n",
    "prov_df['año_constitucion'] = prov_df['rfc'].apply(lambda x: convert_year(str(x)[3:5]) if len(str(x)) >= 5 else \"unknown\")\n",
    "\n",
    "#prov_df[prov_df['año_constitucion']>='2019']\n",
    "\n",
    "prov_df"
   ],
   "metadata": {
    "collapsed": false,
    "ExecuteTime": {
     "end_time": "2023-08-07T16:01:28.487536Z",
     "start_time": "2023-08-07T16:01:28.484101Z"
    }
   }
  },
  {
   "cell_type": "code",
   "execution_count": null,
   "outputs": [],
   "source": [],
   "metadata": {
    "collapsed": false
   }
  }
 ],
 "metadata": {
  "kernelspec": {
   "display_name": "Python 3",
   "language": "python",
   "name": "python3"
  },
  "language_info": {
   "codemirror_mode": {
    "name": "ipython",
    "version": 2
   },
   "file_extension": ".py",
   "mimetype": "text/x-python",
   "name": "python",
   "nbconvert_exporter": "python",
   "pygments_lexer": "ipython2",
   "version": "2.7.6"
  }
 },
 "nbformat": 4,
 "nbformat_minor": 0
}
