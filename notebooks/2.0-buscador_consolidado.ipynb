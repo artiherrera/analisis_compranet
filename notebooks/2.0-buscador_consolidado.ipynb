{
 "cells": [
  {
   "cell_type": "code",
   "execution_count": 32,
   "metadata": {
    "collapsed": true,
    "ExecuteTime": {
     "end_time": "2023-08-03T00:48:14.008204Z",
     "start_time": "2023-08-03T00:48:03.630975Z"
    }
   },
   "outputs": [
    {
     "name": "stderr",
     "output_type": "stream",
     "text": [
      "/var/folders/n1/5l3l1c6x5xd7lfxmx1cmr21c0000gn/T/ipykernel_74477/1287016637.py:13: DtypeWarning: Columns (6,7,20,42,43) have mixed types. Specify dtype option on import or set low_memory=False.\n",
      "  dfs[f'df{year}'] = pd.read_csv(file_path)  # lee el archivo CSV y lo almacena en el diccionario\n",
      "/var/folders/n1/5l3l1c6x5xd7lfxmx1cmr21c0000gn/T/ipykernel_74477/1287016637.py:13: DtypeWarning: Columns (6,7,20,42,43) have mixed types. Specify dtype option on import or set low_memory=False.\n",
      "  dfs[f'df{year}'] = pd.read_csv(file_path)  # lee el archivo CSV y lo almacena en el diccionario\n",
      "/var/folders/n1/5l3l1c6x5xd7lfxmx1cmr21c0000gn/T/ipykernel_74477/1287016637.py:13: DtypeWarning: Columns (6,7,20,42,43) have mixed types. Specify dtype option on import or set low_memory=False.\n",
      "  dfs[f'df{year}'] = pd.read_csv(file_path)  # lee el archivo CSV y lo almacena en el diccionario\n",
      "/var/folders/n1/5l3l1c6x5xd7lfxmx1cmr21c0000gn/T/ipykernel_74477/1287016637.py:13: DtypeWarning: Columns (6,20,42,43) have mixed types. Specify dtype option on import or set low_memory=False.\n",
      "  dfs[f'df{year}'] = pd.read_csv(file_path)  # lee el archivo CSV y lo almacena en el diccionario\n"
     ]
    }
   ],
   "source": [
    "import os\n",
    "import pandas as pd\n",
    "import janitor\n",
    "\n",
    "dfs = {}\n",
    "\n",
    "ruta = os.path.join('..', 'data')\n",
    "\n",
    "years = range(2019, 2024)\n",
    "\n",
    "for year in years:\n",
    "    file_path = os.path.join(ruta, f'{year}clean.csv')  # crea la ruta al archivo\n",
    "    dfs[f'df{year}'] = pd.read_csv(file_path)  # lee el archivo CSV y lo almacena en el diccionario\n",
    "\n",
    "df2019 = dfs['df2019']\n",
    "df2020 = dfs['df2020']\n",
    "df2021 = dfs['df2021']\n",
    "df2022 = dfs['df2022']\n",
    "df2023 = dfs['df2023']\n",
    "\n",
    "df2019['ano']=2019\n",
    "df2020['ano']=2020\n",
    "df2021['ano']=2021\n",
    "df2022['ano']=2022\n",
    "df2023['ano']=2023\n",
    "\n",
    "\n",
    "for name, df in dfs.items():\n",
    "    dfs[name] = df.clean_names()"
   ]
  },
  {
   "cell_type": "code",
   "execution_count": 41,
   "outputs": [],
   "source": [
    "# Crear una lista de dataframes\n",
    "dfs_list = [dfs[name] for name in dfs.keys()]\n",
    "\n",
    "# Concatenar todos los dataframes\n",
    "contratos_df = pd.concat(dfs_list, ignore_index=True)\n"
   ],
   "metadata": {
    "collapsed": false,
    "ExecuteTime": {
     "end_time": "2023-08-03T00:55:21.253876Z",
     "start_time": "2023-08-03T00:55:20.915568Z"
    }
   }
  },
  {
   "cell_type": "code",
   "execution_count": 42,
   "outputs": [
    {
     "data": {
      "text/plain": "       orden_de_gobierno siglas_de_la_institucion  \\\n0                     GE                     COAH   \n1                     GE                     COAH   \n2                     GE                      OAX   \n3                     GE                      OAX   \n4                     GE                      OAX   \n...                  ...                      ...   \n471152               APF                  CIDETEQ   \n471153               APF                    SADER   \n471154               APF                     IMSS   \n471155               APF                     IMSS   \n471156               APF                    SENER   \n\n                                              institucion clave_de_la_uc  \\\n0            _Gobierno del Estado de Coahuila de Zaragoza      905011981   \n1            _Gobierno del Estado de Coahuila de Zaragoza      905011981   \n2                          _Gobierno del Estado de Oaxaca      920042983   \n3                          _Gobierno del Estado de Oaxaca      920042983   \n4                          _Gobierno del Estado de Oaxaca      920042983   \n...                                                   ...            ...   \n471152  Centro de Investigación y Desarrollo Tecnológi...      03890K001   \n471153       Secretaría de Agricultura y Desarrollo Rural      008000968   \n471154               Instituto Mexicano del Seguro Social      050GYR019   \n471155               Instituto Mexicano del Seguro Social      050GYR019   \n471156                              Secretaría de Energía      018000999   \n\n                                          nombre_de_la_uc  \\\n0       COAH-Secretaría de Fiscalización y Rendición d...   \n1       COAH-Secretaría de Fiscalización y Rendición d...   \n2       OAX-Servicios de Salud de Oaxaca-DIRECCION DE ...   \n3       OAX-Servicios de Salud de Oaxaca-DIRECCION DE ...   \n4       OAX-Servicios de Salud de Oaxaca-DIRECCION DE ...   \n...                                                   ...   \n471152  CIDETEQ-Dirección de Administración y Finanzas...   \n471153  SADER-Representación Estatal en Jalisco, Subde...   \n471154                 IMSS-DA-UADQ-CABCS-DCAL #050GYR019   \n471155                 IMSS-DA-UADQ-CABCS-DCAL #050GYR019   \n471156  SENER-Dirección General de Recursos Humanos, M...   \n\n                 responsable_de_la_uc codigo_del_expediente  \\\n0         Jesús Fernando Ramos Flores                109177   \n1         Jesús Fernando Ramos Flores                109177   \n2       Alejandro Abel Reyes Gonzales                166546   \n3       Alejandro Abel Reyes Gonzales                265372   \n4       Alejandro Abel Reyes Gonzales                265430   \n...                               ...                   ...   \n471152       Iris Gutiérrez Huicochea               2570302   \n471153          Enrique García García               2570321   \n471154      Elia Sandra Varas Galeana               2550286   \n471155      Elia Sandra Varas Galeana               2550286   \n471156    Gabriela Hernández Baltazar               2542164   \n\n           referencia_del_expediente clave_cucop  \\\n0                                NaN        5410   \n1                                NaN        5410   \n2                                NaN        6220   \n3                                N12        6120   \n4                                NaN        6220   \n...                              ...         ...   \n471152  AA-06-700-006000993-N-5-2023         NaN   \n471153   CONS/AD/134/032-20230000787         NaN   \n471154                           NaN         NaN   \n471155                           NaN         NaN   \n471156                    SE-42/2022         NaN   \n\n                                    titulo_del_expediente  ...  \\\n0       CAMIONETA TIPO PICK UP y AUTOMOVIL SEDAN  LA-9...  ...   \n1       CAMIONETA TIPO PICK UP y AUTOMOVIL SEDAN  LA-9...  ...   \n2                                             FONDEN/2012  ...   \n3                                           CALIHUALA N12  ...   \n4                                          PARAJE LA LOMA  ...   \n...                                                   ...  ...   \n471152  ADQUISICIÓN CONSOLIDADA DE VESTUARIO, UNIFORME...  ...   \n471153  ADQUISICIÓN CONSOLIDADA DE VESTUARIO, UNIFORME...  ...   \n471154  LA-050GYR019-E272-2022 LAVADO DE ROPA HOSPITAL...  ...   \n471155  LA-050GYR019-E272-2022 LAVADO DE ROPA HOSPITAL...  ...   \n471156  Servicio de Aseguramiento de Bienes Patrimoniales  ...   \n\n       folio_en_el_rupc           rfc  \\\n0              51,528.0  ACO740701LH0   \n1                   NaN  SMA0301178T2   \n2                   NaN  CBA050209974   \n3                   NaN  CAZ110325SV9   \n4                   NaN  CMJ110217V9A   \n...                 ...           ...   \n471152        343,421.0  SME1009038L1   \n471153        343,421.0  SME1009038L1   \n471154              NaN  LMA191127GQ0   \n471155              NaN  LMA191127GQ0   \n471156        524,402.0  AGR900605VC6   \n\n                               proveedor_o_contratista  \\\n0                    AUTOMOTORES COAHUILENSES SA DE CV   \n1                     SIERRA MADRE AUTOMOTRIZ SA DE CV   \n2            CONSTRUCTORA BARRITA Y ASOCIADOS SA DE CV   \n3             CONSTRUCTORES ASFALTICOS ZOONDU SA DE CV   \n4       CONSTRUCTORA Y MANTENIMIENTO JUMPSTER SA DE CV   \n...                                                ...   \n471152                          SOBMEX MEXICO SA DE CV   \n471153                          SOBMEX MEXICO SA DE CV   \n471154             LAVANDERIA LOS MANANTIALES SA DE CV   \n471155             LAVANDERIA LOS MANANTIALES SA DE CV   \n471156                                   AGROASEMEX SA   \n\n       estratificacion_de_la_empresa clave_del_pais_de_la_empresa  \\\n0                            Mediana                           MX   \n1                            Pequeña                           MX   \n2                            Mediana                           MX   \n3                            Pequeña                           MX   \n4                          No MIPYME                           MX   \n...                              ...                          ...   \n471152                           NaN                           MX   \n471153                           NaN                           MX   \n471154                           NaN                           MX   \n471155                           NaN                           MX   \n471156                           NaN                           MX   \n\n       rfc_verificado_en_el_sat credito_externo organismo_financiero  \\\n0                             1             NaN                  NaN   \n1                             1             NaN                  NaN   \n2                             1             NaN                  NaN   \n3                             1             NaN                  NaN   \n4                             1             NaN                  NaN   \n...                         ...             ...                  ...   \n471152                      PoC             0.0                  NaN   \n471153                      PoC             0.0                  NaN   \n471154                      PoC             NaN                  NaN   \n471155                      PoC             NaN                  NaN   \n471156                      PoC             NaN                  NaN   \n\n                                    direccion_del_anuncio   ano  \n0       https://compranet.hacienda.gob.mx/esop/guest/g...  2019  \n1       https://compranet.hacienda.gob.mx/esop/guest/g...  2019  \n2       https://compranet.hacienda.gob.mx/esop/guest/g...  2019  \n3       https://compranet.hacienda.gob.mx/esop/guest/g...  2019  \n4       https://compranet.hacienda.gob.mx/esop/guest/g...  2019  \n...                                                   ...   ...  \n471152  https://compranet.hacienda.gob.mx/esop/guest/g...  2023  \n471153  https://compranet.hacienda.gob.mx/esop/guest/g...  2023  \n471154  https://compranet.hacienda.gob.mx/esop/guest/g...  2023  \n471155  https://compranet.hacienda.gob.mx/esop/guest/g...  2023  \n471156  https://compranet.hacienda.gob.mx/esop/guest/g...  2023  \n\n[471157 rows x 46 columns]",
      "text/html": "<div>\n<style scoped>\n    .dataframe tbody tr th:only-of-type {\n        vertical-align: middle;\n    }\n\n    .dataframe tbody tr th {\n        vertical-align: top;\n    }\n\n    .dataframe thead th {\n        text-align: right;\n    }\n</style>\n<table border=\"1\" class=\"dataframe\">\n  <thead>\n    <tr style=\"text-align: right;\">\n      <th></th>\n      <th>orden_de_gobierno</th>\n      <th>siglas_de_la_institucion</th>\n      <th>institucion</th>\n      <th>clave_de_la_uc</th>\n      <th>nombre_de_la_uc</th>\n      <th>responsable_de_la_uc</th>\n      <th>codigo_del_expediente</th>\n      <th>referencia_del_expediente</th>\n      <th>clave_cucop</th>\n      <th>titulo_del_expediente</th>\n      <th>...</th>\n      <th>folio_en_el_rupc</th>\n      <th>rfc</th>\n      <th>proveedor_o_contratista</th>\n      <th>estratificacion_de_la_empresa</th>\n      <th>clave_del_pais_de_la_empresa</th>\n      <th>rfc_verificado_en_el_sat</th>\n      <th>credito_externo</th>\n      <th>organismo_financiero</th>\n      <th>direccion_del_anuncio</th>\n      <th>ano</th>\n    </tr>\n  </thead>\n  <tbody>\n    <tr>\n      <th>0</th>\n      <td>GE</td>\n      <td>COAH</td>\n      <td>_Gobierno del Estado de Coahuila de Zaragoza</td>\n      <td>905011981</td>\n      <td>COAH-Secretaría de Fiscalización y Rendición d...</td>\n      <td>Jesús Fernando Ramos Flores</td>\n      <td>109177</td>\n      <td>NaN</td>\n      <td>5410</td>\n      <td>CAMIONETA TIPO PICK UP y AUTOMOVIL SEDAN  LA-9...</td>\n      <td>...</td>\n      <td>51,528.0</td>\n      <td>ACO740701LH0</td>\n      <td>AUTOMOTORES COAHUILENSES SA DE CV</td>\n      <td>Mediana</td>\n      <td>MX</td>\n      <td>1</td>\n      <td>NaN</td>\n      <td>NaN</td>\n      <td>https://compranet.hacienda.gob.mx/esop/guest/g...</td>\n      <td>2019</td>\n    </tr>\n    <tr>\n      <th>1</th>\n      <td>GE</td>\n      <td>COAH</td>\n      <td>_Gobierno del Estado de Coahuila de Zaragoza</td>\n      <td>905011981</td>\n      <td>COAH-Secretaría de Fiscalización y Rendición d...</td>\n      <td>Jesús Fernando Ramos Flores</td>\n      <td>109177</td>\n      <td>NaN</td>\n      <td>5410</td>\n      <td>CAMIONETA TIPO PICK UP y AUTOMOVIL SEDAN  LA-9...</td>\n      <td>...</td>\n      <td>NaN</td>\n      <td>SMA0301178T2</td>\n      <td>SIERRA MADRE AUTOMOTRIZ SA DE CV</td>\n      <td>Pequeña</td>\n      <td>MX</td>\n      <td>1</td>\n      <td>NaN</td>\n      <td>NaN</td>\n      <td>https://compranet.hacienda.gob.mx/esop/guest/g...</td>\n      <td>2019</td>\n    </tr>\n    <tr>\n      <th>2</th>\n      <td>GE</td>\n      <td>OAX</td>\n      <td>_Gobierno del Estado de Oaxaca</td>\n      <td>920042983</td>\n      <td>OAX-Servicios de Salud de Oaxaca-DIRECCION DE ...</td>\n      <td>Alejandro Abel Reyes Gonzales</td>\n      <td>166546</td>\n      <td>NaN</td>\n      <td>6220</td>\n      <td>FONDEN/2012</td>\n      <td>...</td>\n      <td>NaN</td>\n      <td>CBA050209974</td>\n      <td>CONSTRUCTORA BARRITA Y ASOCIADOS SA DE CV</td>\n      <td>Mediana</td>\n      <td>MX</td>\n      <td>1</td>\n      <td>NaN</td>\n      <td>NaN</td>\n      <td>https://compranet.hacienda.gob.mx/esop/guest/g...</td>\n      <td>2019</td>\n    </tr>\n    <tr>\n      <th>3</th>\n      <td>GE</td>\n      <td>OAX</td>\n      <td>_Gobierno del Estado de Oaxaca</td>\n      <td>920042983</td>\n      <td>OAX-Servicios de Salud de Oaxaca-DIRECCION DE ...</td>\n      <td>Alejandro Abel Reyes Gonzales</td>\n      <td>265372</td>\n      <td>N12</td>\n      <td>6120</td>\n      <td>CALIHUALA N12</td>\n      <td>...</td>\n      <td>NaN</td>\n      <td>CAZ110325SV9</td>\n      <td>CONSTRUCTORES ASFALTICOS ZOONDU SA DE CV</td>\n      <td>Pequeña</td>\n      <td>MX</td>\n      <td>1</td>\n      <td>NaN</td>\n      <td>NaN</td>\n      <td>https://compranet.hacienda.gob.mx/esop/guest/g...</td>\n      <td>2019</td>\n    </tr>\n    <tr>\n      <th>4</th>\n      <td>GE</td>\n      <td>OAX</td>\n      <td>_Gobierno del Estado de Oaxaca</td>\n      <td>920042983</td>\n      <td>OAX-Servicios de Salud de Oaxaca-DIRECCION DE ...</td>\n      <td>Alejandro Abel Reyes Gonzales</td>\n      <td>265430</td>\n      <td>NaN</td>\n      <td>6220</td>\n      <td>PARAJE LA LOMA</td>\n      <td>...</td>\n      <td>NaN</td>\n      <td>CMJ110217V9A</td>\n      <td>CONSTRUCTORA Y MANTENIMIENTO JUMPSTER SA DE CV</td>\n      <td>No MIPYME</td>\n      <td>MX</td>\n      <td>1</td>\n      <td>NaN</td>\n      <td>NaN</td>\n      <td>https://compranet.hacienda.gob.mx/esop/guest/g...</td>\n      <td>2019</td>\n    </tr>\n    <tr>\n      <th>...</th>\n      <td>...</td>\n      <td>...</td>\n      <td>...</td>\n      <td>...</td>\n      <td>...</td>\n      <td>...</td>\n      <td>...</td>\n      <td>...</td>\n      <td>...</td>\n      <td>...</td>\n      <td>...</td>\n      <td>...</td>\n      <td>...</td>\n      <td>...</td>\n      <td>...</td>\n      <td>...</td>\n      <td>...</td>\n      <td>...</td>\n      <td>...</td>\n      <td>...</td>\n      <td>...</td>\n    </tr>\n    <tr>\n      <th>471152</th>\n      <td>APF</td>\n      <td>CIDETEQ</td>\n      <td>Centro de Investigación y Desarrollo Tecnológi...</td>\n      <td>03890K001</td>\n      <td>CIDETEQ-Dirección de Administración y Finanzas...</td>\n      <td>Iris Gutiérrez Huicochea</td>\n      <td>2570302</td>\n      <td>AA-06-700-006000993-N-5-2023</td>\n      <td>NaN</td>\n      <td>ADQUISICIÓN CONSOLIDADA DE VESTUARIO, UNIFORME...</td>\n      <td>...</td>\n      <td>343,421.0</td>\n      <td>SME1009038L1</td>\n      <td>SOBMEX MEXICO SA DE CV</td>\n      <td>NaN</td>\n      <td>MX</td>\n      <td>PoC</td>\n      <td>0.0</td>\n      <td>NaN</td>\n      <td>https://compranet.hacienda.gob.mx/esop/guest/g...</td>\n      <td>2023</td>\n    </tr>\n    <tr>\n      <th>471153</th>\n      <td>APF</td>\n      <td>SADER</td>\n      <td>Secretaría de Agricultura y Desarrollo Rural</td>\n      <td>008000968</td>\n      <td>SADER-Representación Estatal en Jalisco, Subde...</td>\n      <td>Enrique García García</td>\n      <td>2570321</td>\n      <td>CONS/AD/134/032-20230000787</td>\n      <td>NaN</td>\n      <td>ADQUISICIÓN CONSOLIDADA DE VESTUARIO, UNIFORME...</td>\n      <td>...</td>\n      <td>343,421.0</td>\n      <td>SME1009038L1</td>\n      <td>SOBMEX MEXICO SA DE CV</td>\n      <td>NaN</td>\n      <td>MX</td>\n      <td>PoC</td>\n      <td>0.0</td>\n      <td>NaN</td>\n      <td>https://compranet.hacienda.gob.mx/esop/guest/g...</td>\n      <td>2023</td>\n    </tr>\n    <tr>\n      <th>471154</th>\n      <td>APF</td>\n      <td>IMSS</td>\n      <td>Instituto Mexicano del Seguro Social</td>\n      <td>050GYR019</td>\n      <td>IMSS-DA-UADQ-CABCS-DCAL #050GYR019</td>\n      <td>Elia Sandra Varas Galeana</td>\n      <td>2550286</td>\n      <td>NaN</td>\n      <td>NaN</td>\n      <td>LA-050GYR019-E272-2022 LAVADO DE ROPA HOSPITAL...</td>\n      <td>...</td>\n      <td>NaN</td>\n      <td>LMA191127GQ0</td>\n      <td>LAVANDERIA LOS MANANTIALES SA DE CV</td>\n      <td>NaN</td>\n      <td>MX</td>\n      <td>PoC</td>\n      <td>NaN</td>\n      <td>NaN</td>\n      <td>https://compranet.hacienda.gob.mx/esop/guest/g...</td>\n      <td>2023</td>\n    </tr>\n    <tr>\n      <th>471155</th>\n      <td>APF</td>\n      <td>IMSS</td>\n      <td>Instituto Mexicano del Seguro Social</td>\n      <td>050GYR019</td>\n      <td>IMSS-DA-UADQ-CABCS-DCAL #050GYR019</td>\n      <td>Elia Sandra Varas Galeana</td>\n      <td>2550286</td>\n      <td>NaN</td>\n      <td>NaN</td>\n      <td>LA-050GYR019-E272-2022 LAVADO DE ROPA HOSPITAL...</td>\n      <td>...</td>\n      <td>NaN</td>\n      <td>LMA191127GQ0</td>\n      <td>LAVANDERIA LOS MANANTIALES SA DE CV</td>\n      <td>NaN</td>\n      <td>MX</td>\n      <td>PoC</td>\n      <td>NaN</td>\n      <td>NaN</td>\n      <td>https://compranet.hacienda.gob.mx/esop/guest/g...</td>\n      <td>2023</td>\n    </tr>\n    <tr>\n      <th>471156</th>\n      <td>APF</td>\n      <td>SENER</td>\n      <td>Secretaría de Energía</td>\n      <td>018000999</td>\n      <td>SENER-Dirección General de Recursos Humanos, M...</td>\n      <td>Gabriela Hernández Baltazar</td>\n      <td>2542164</td>\n      <td>SE-42/2022</td>\n      <td>NaN</td>\n      <td>Servicio de Aseguramiento de Bienes Patrimoniales</td>\n      <td>...</td>\n      <td>524,402.0</td>\n      <td>AGR900605VC6</td>\n      <td>AGROASEMEX SA</td>\n      <td>NaN</td>\n      <td>MX</td>\n      <td>PoC</td>\n      <td>NaN</td>\n      <td>NaN</td>\n      <td>https://compranet.hacienda.gob.mx/esop/guest/g...</td>\n      <td>2023</td>\n    </tr>\n  </tbody>\n</table>\n<p>471157 rows × 46 columns</p>\n</div>"
     },
     "execution_count": 42,
     "metadata": {},
     "output_type": "execute_result"
    }
   ],
   "source": [
    "contratos_df"
   ],
   "metadata": {
    "collapsed": false,
    "ExecuteTime": {
     "end_time": "2023-08-03T00:55:22.361566Z",
     "start_time": "2023-08-03T00:55:22.134340Z"
    }
   }
  },
  {
   "cell_type": "code",
   "execution_count": 47,
   "outputs": [
    {
     "name": "stdout",
     "output_type": "stream",
     "text": [
      "1 USD = 17.115130976369297 MXN\n",
      "1 CAD = 13.018183084854396 MXN\n",
      "1 EUR = 18.6863 MXN\n",
      "1 GBP = 21.75912340762477 MXN\n",
      "1 JPY = 0.11946998273767662 MXN\n",
      "Done\n"
     ]
    }
   ],
   "source": [
    "from currency_converter import CurrencyConverter\n",
    "\n",
    "\n",
    "for column in contratos_df.columns:\n",
    "    if contratos_df[column].dtype == 'object':\n",
    "        contratos_df[column] = contratos_df[column].str.upper()\n",
    "\n",
    "\n",
    "for column in contratos_df.columns:\n",
    "    if contratos_df[column].dtype == 'string':\n",
    "        contratos_df[column] = contratos_df[column].str.upper()\n",
    "\n",
    "c = CurrencyConverter()\n",
    "currencies=['USD', 'CAD', 'EUR', 'GBP', 'JPY']\n",
    "\n",
    "# Create a dictionary to store conversion rates\n",
    "conversion_rates = {}\n",
    "\n",
    "for m in currencies:\n",
    "    conversion_rate = c.convert(1, m, 'MXN')\n",
    "    print(1, m, \"=\", conversion_rate, 'MXN')\n",
    "    conversion_rates[m] = conversion_rate\n",
    "\n",
    "# Apply conversion rates\n",
    "contratos_df[\"importe\"] = contratos_df[\"importe_del_contrato\"]\n",
    "\n",
    "for currency, conversion_rate in conversion_rates.items():\n",
    "    contratos_df.loc[contratos_df['moneda_del_contrato'] == currency , 'importe'] = contratos_df.loc[contratos_df['moneda_del_contrato'] == currency , \"importe_del_contrato\"] * conversion_rate\n",
    "\n",
    "print('Done')\n"
   ],
   "metadata": {
    "collapsed": false,
    "ExecuteTime": {
     "end_time": "2023-08-03T01:00:21.051060Z",
     "start_time": "2023-08-03T01:00:10.568132Z"
    }
   }
  },
  {
   "cell_type": "code",
   "execution_count": 81,
   "outputs": [],
   "source": [
    "import numpy as np\n",
    "\n",
    "def correct_swap(df):\n",
    "    # Completa los valores faltantes con una cadena no válida\n",
    "    df.fillna('missing_value', inplace=True)\n",
    "\n",
    "    # Identifica las filas donde 'rfc' no es un RFC válido y 'proveedor_o_contratista' es un RFC válido\n",
    "    mask = (~df['rfc'].str.match('^[A-ZÑ&]{3,4}[0-9]{2}(0[1-9]|1[0-2])(0[1-9]|1[0-9]|2[0-9]|3[0-1])[A-Z0-9]?[A-Z0-9]?[0-9A]$')) & \\\n",
    "           (df['proveedor_o_contratista'].str.match('^[A-ZÑ&]{3,4}[0-9]{2}(0[1-9]|1[0-2])(0[1-9]|1[0-9]|2[0-9]|3[0-1])[A-Z0-9]?[A-Z0-9]?[0-9A]$'))\n",
    "\n",
    "    # Intercambia 'rfc' y 'proveedor_o_contratista'\n",
    "    df.loc[mask, ['rfc', 'proveedor_o_contratista']] = df.loc[mask, ['proveedor_o_contratista', 'rfc']].values\n",
    "\n",
    "    # Identifica las filas donde 'rfc' es nulo\n",
    "    mask_rfc_null = df['rfc'] == 'missing_value'\n",
    "\n",
    "    # Asigna un valor artificial a 'rfc'\n",
    "    df.loc[mask_rfc_null, 'rfc'] = 'XAXX010101000'\n",
    "\n",
    "    # Reemplaza la cadena no válida por NaN\n",
    "    df.replace('missing_value', np.nan, inplace=True)\n",
    "\n",
    "    return df\n",
    "\n",
    "# Supón que contratos_df es tu DataFrame original\n",
    "\n",
    "# Llama a la función\n",
    "contratos_df = correct_swap(contratos_df)\n"
   ],
   "metadata": {
    "collapsed": false,
    "ExecuteTime": {
     "end_time": "2023-08-03T01:27:18.037201Z",
     "start_time": "2023-08-03T01:27:12.341083Z"
    }
   }
  },
  {
   "cell_type": "code",
   "execution_count": 82,
   "outputs": [
    {
     "data": {
      "text/plain": "                  rfc          proveedor_o_contratista\n14895   XAXX010101000                     ARBAVEL A.C.\n16833   XAXX010101000                     JESUS GARCIA\n16973   XAXX010101000                     DAVID ROMERO\n21692   XAXX010101000                     CRUZ ROBLEDO\n23257   XAXX010101000                     PAVLO GETMAN\n...               ...                              ...\n471121  XAXX010101000  FRANCISCO JAVIER MONROY SANCHEZ\n471122  XAXX010101000        ALEXIA ANAEL AVILA SOLIS \n471137  XAXX010101000        JOSE DE JESUS DIAZ CORONA\n471138  XAXX010101000         TOMAS ESPINOZA BENAVIDES\n471140  XAXX010101000              MARTIN ORTIZ VALDEZ\n\n[1923 rows x 2 columns]",
      "text/html": "<div>\n<style scoped>\n    .dataframe tbody tr th:only-of-type {\n        vertical-align: middle;\n    }\n\n    .dataframe tbody tr th {\n        vertical-align: top;\n    }\n\n    .dataframe thead th {\n        text-align: right;\n    }\n</style>\n<table border=\"1\" class=\"dataframe\">\n  <thead>\n    <tr style=\"text-align: right;\">\n      <th></th>\n      <th>rfc</th>\n      <th>proveedor_o_contratista</th>\n    </tr>\n  </thead>\n  <tbody>\n    <tr>\n      <th>14895</th>\n      <td>XAXX010101000</td>\n      <td>ARBAVEL A.C.</td>\n    </tr>\n    <tr>\n      <th>16833</th>\n      <td>XAXX010101000</td>\n      <td>JESUS GARCIA</td>\n    </tr>\n    <tr>\n      <th>16973</th>\n      <td>XAXX010101000</td>\n      <td>DAVID ROMERO</td>\n    </tr>\n    <tr>\n      <th>21692</th>\n      <td>XAXX010101000</td>\n      <td>CRUZ ROBLEDO</td>\n    </tr>\n    <tr>\n      <th>23257</th>\n      <td>XAXX010101000</td>\n      <td>PAVLO GETMAN</td>\n    </tr>\n    <tr>\n      <th>...</th>\n      <td>...</td>\n      <td>...</td>\n    </tr>\n    <tr>\n      <th>471121</th>\n      <td>XAXX010101000</td>\n      <td>FRANCISCO JAVIER MONROY SANCHEZ</td>\n    </tr>\n    <tr>\n      <th>471122</th>\n      <td>XAXX010101000</td>\n      <td>ALEXIA ANAEL AVILA SOLIS</td>\n    </tr>\n    <tr>\n      <th>471137</th>\n      <td>XAXX010101000</td>\n      <td>JOSE DE JESUS DIAZ CORONA</td>\n    </tr>\n    <tr>\n      <th>471138</th>\n      <td>XAXX010101000</td>\n      <td>TOMAS ESPINOZA BENAVIDES</td>\n    </tr>\n    <tr>\n      <th>471140</th>\n      <td>XAXX010101000</td>\n      <td>MARTIN ORTIZ VALDEZ</td>\n    </tr>\n  </tbody>\n</table>\n<p>1923 rows × 2 columns</p>\n</div>"
     },
     "execution_count": 82,
     "metadata": {},
     "output_type": "execute_result"
    }
   ],
   "source": [
    "def verify_correction(df):\n",
    "    # Identificar filas donde rfc tiene una longitud distinta a 13\n",
    "    mask = df['rfc'].str.len() != 12\n",
    "    # Retornar filas donde rfc tiene una longitud distinta a 13\n",
    "    return df.loc[mask]\n",
    "\n",
    "verify_correction(contratos_df[['rfc', 'proveedor_o_contratista']])"
   ],
   "metadata": {
    "collapsed": false,
    "ExecuteTime": {
     "end_time": "2023-08-03T01:27:27.565138Z",
     "start_time": "2023-08-03T01:27:25.022636Z"
    }
   }
  },
  {
   "cell_type": "markdown",
   "source": [
    "### Función de búsqueda"
   ],
   "metadata": {
    "collapsed": false
   }
  },
  {
   "cell_type": "code",
   "execution_count": 115,
   "outputs": [],
   "source": [
    "def filter_contratos(contratos_df):\n",
    "    # Solicita al usuario un proveedor o contratista o RFC\n",
    "    search_term = input(\"Por favor, ingresa el nombre del proveedor o contratista o el RFC (déjalo en blanco para mostrar todos): \").upper()\n",
    "\n",
    "    # Solicita al usuario las siglas de la institución o \"todas\" para buscar en todas\n",
    "    institution = input(\"Por favor, ingresa las siglas de la institución (déjalo en blanco para mostrar todas) o 'todas' para buscar en todas: \").upper()\n",
    "\n",
    "    # Solicita al usuario las palabras clave en la descripción del contrato\n",
    "    keywords = input(\"Por favor, ingresa las palabras clave en la descripción del contrato (separa múltiples palabras con comas, déjalo en blanco para buscar todas): \").upper()\n",
    "\n",
    "    # Solicita al usuario las palabras a excluir en la descripción del contrato\n",
    "    exclude_words = input(\"Por favor, ingresa las palabras a excluir en la descripción del contrato (separa múltiples palabras con comas, déjalo en blanco para no excluir ninguna): \").upper()\n",
    "\n",
    "    # Inicialmente asumimos todos los contratos\n",
    "    filtered_df = contratos_df.copy()  # Creamos una copia del DataFrame\n",
    "\n",
    "    filtered_df[['proveedor_o_contratista', 'descripcion_del_contrato']] = filtered_df[['proveedor_o_contratista', 'descripcion_del_contrato']].fillna('')\n",
    "\n",
    "\n",
    "# Convierte las columnas de texto a minúsculas\n",
    "    filtered_df['proveedor_o_contratista'] = filtered_df['proveedor_o_contratista'].str.upper()\n",
    "    filtered_df['siglas_de_la_institucion'] = filtered_df['siglas_de_la_institucion'].str.upper()\n",
    "    filtered_df['descripcion_del_contrato'] = filtered_df['descripcion_del_contrato'].str.upper()\n",
    "\n",
    "    # Filtra por proveedor o contratista o RFC si se proporciona\n",
    "    if search_term:\n",
    "        if len(search_term) == 12 and search_term.isalnum(): # RFC en México tiene 13 caracteres y sólo contiene letras y números\n",
    "            filtered_df = filtered_df.loc[filtered_df['rfc'] == search_term]\n",
    "        else:\n",
    "            filtered_df = filtered_df.loc[filtered_df['proveedor_o_contratista'].str.contains(search_term, case=False)]\n",
    "\n",
    "    # Filtra por institución si se proporciona\n",
    "    if institution != 'todas' and institution:\n",
    "        filtered_df = filtered_df.loc[filtered_df['siglas_de_la_institucion'] == institution]\n",
    "\n",
    "    # Reemplaza los NaN en la descripción del contrato por cadenas vacías\n",
    "    filtered_df['descripcion_del_contrato'] = filtered_df['descripcion_del_contrato'].fillna('')\n",
    "\n",
    "    # Filtra por palabras clave en la descripción del contrato si se proporcionan\n",
    "    if keywords:\n",
    "        for keyword in keywords.split(','):\n",
    "            keyword = keyword.strip()  # Remueve los espacios adicionales al principio y al final de la palabra\n",
    "            filtered_df = filtered_df.loc[filtered_df['descripcion_del_contrato'].str.contains(keyword, case=False)]\n",
    "\n",
    "    # Excluye contratos que contienen ciertas palabras en la descripción del contrato si se proporcionan\n",
    "    if exclude_words:\n",
    "        for word in exclude_words.split(','):\n",
    "            word = word.strip()  # Remueve los espacios adicionales al principio y al final de la palabra\n",
    "            filtered_df = filtered_df.loc[~filtered_df['descripcion_del_contrato'].str.contains(word, case=False)]\n",
    "\n",
    "    # Ordena el DataFrame filtrado por importe en orden descendente\n",
    "    filtered_df = filtered_df.sort_values(by='importe', ascending=False)\n",
    "\n",
    "    # Muestra el DataFrame filtrado\n",
    "    return filtered_df\n",
    "\n",
    "# Usa la función:\n"
   ],
   "metadata": {
    "collapsed": false,
    "ExecuteTime": {
     "end_time": "2023-08-03T03:51:38.401954Z",
     "start_time": "2023-08-03T03:51:38.392165Z"
    }
   }
  },
  {
   "cell_type": "markdown",
   "source": [
    "# Búsqueda"
   ],
   "metadata": {
    "collapsed": false
   }
  },
  {
   "cell_type": "code",
   "execution_count": 187,
   "outputs": [
    {
     "data": {
      "text/plain": "       tipo_de_procedimiento siglas_de_la_institucion  \\\n428932    LICITACIÓN PÚBLICA                   SEDENA   \n353308  ADJUDICACIÓN DIRECTA        BANCODELBIENESTAR   \n265842  ADJUDICACIÓN DIRECTA               BANJERCITO   \n270041  ADJUDICACIÓN DIRECTA               BANJERCITO   \n\n                                      titulo_del_contrato  \\\n428932  ADQUISICION DE CAJEROS AUTOMATICOS PARA 2700 S...   \n353308  ADQUISICIÓN DE 500 CAJEROS AUTOMÁTICOS DISPENS...   \n265842  SUMINISTRO DE CAJEROS AUTOMÁTICOS DISPENSADORE...   \n270041   SERVCIO DE MATENIMIENTO Y SOPORTE A CAJEROS A...   \n\n                                 descripcion_del_contrato           rfc  \\\n428932  ADQUISICION DE CAJEROS AUTOMATICOS PARA 2700 S...  HSO200602PH2   \n353308  ADQUISICIÓN DE 500 CAJEROS AUTOMÁTICOS DISPENS...  HSO200602PH2   \n265842  SUMINISTRO DE CAJEROS AUTOMÁTICOS DISPENSADORE...  HSO200602PH2   \n270041  SERVCIO DE MATENIMIENTO Y SOPORTE A CAJEROS AU...  HSO200602PH2   \n\n                proveedor_o_contratista       importe  \\\n428932  HYOSUNG SOLUTIONS S DE RL DE CV 929,218,500.0   \n353308  HYOSUNG SOLUTIONS S DE RL DE CV 161,357,600.0   \n265842  HYOSUNG SOLUTIONS S DE RL DE CV 50,323,071.25   \n270041  HYOSUNG SOLUTIONS S DE RL DE CV  43,004,550.0   \n\n                                    direccion_del_anuncio   ano  \n428932  HTTPS://COMPRANET.HACIENDA.GOB.MX/ESOP/GUEST/G...  2022  \n353308  HTTPS://COMPRANET.HACIENDA.GOB.MX/ESOP/GUEST/G...  2022  \n265842  HTTPS://COMPRANET.HACIENDA.GOB.MX/ESOP/GUEST/G...  2021  \n270041  HTTPS://COMPRANET.HACIENDA.GOB.MX/ESOP/GUEST/G...  2021  ",
      "text/html": "<div>\n<style scoped>\n    .dataframe tbody tr th:only-of-type {\n        vertical-align: middle;\n    }\n\n    .dataframe tbody tr th {\n        vertical-align: top;\n    }\n\n    .dataframe thead th {\n        text-align: right;\n    }\n</style>\n<table border=\"1\" class=\"dataframe\">\n  <thead>\n    <tr style=\"text-align: right;\">\n      <th></th>\n      <th>tipo_de_procedimiento</th>\n      <th>siglas_de_la_institucion</th>\n      <th>titulo_del_contrato</th>\n      <th>descripcion_del_contrato</th>\n      <th>rfc</th>\n      <th>proveedor_o_contratista</th>\n      <th>importe</th>\n      <th>direccion_del_anuncio</th>\n      <th>ano</th>\n    </tr>\n  </thead>\n  <tbody>\n    <tr>\n      <th>428932</th>\n      <td>LICITACIÓN PÚBLICA</td>\n      <td>SEDENA</td>\n      <td>ADQUISICION DE CAJEROS AUTOMATICOS PARA 2700 S...</td>\n      <td>ADQUISICION DE CAJEROS AUTOMATICOS PARA 2700 S...</td>\n      <td>HSO200602PH2</td>\n      <td>HYOSUNG SOLUTIONS S DE RL DE CV</td>\n      <td>929,218,500.0</td>\n      <td>HTTPS://COMPRANET.HACIENDA.GOB.MX/ESOP/GUEST/G...</td>\n      <td>2022</td>\n    </tr>\n    <tr>\n      <th>353308</th>\n      <td>ADJUDICACIÓN DIRECTA</td>\n      <td>BANCODELBIENESTAR</td>\n      <td>ADQUISICIÓN DE 500 CAJEROS AUTOMÁTICOS DISPENS...</td>\n      <td>ADQUISICIÓN DE 500 CAJEROS AUTOMÁTICOS DISPENS...</td>\n      <td>HSO200602PH2</td>\n      <td>HYOSUNG SOLUTIONS S DE RL DE CV</td>\n      <td>161,357,600.0</td>\n      <td>HTTPS://COMPRANET.HACIENDA.GOB.MX/ESOP/GUEST/G...</td>\n      <td>2022</td>\n    </tr>\n    <tr>\n      <th>265842</th>\n      <td>ADJUDICACIÓN DIRECTA</td>\n      <td>BANJERCITO</td>\n      <td>SUMINISTRO DE CAJEROS AUTOMÁTICOS DISPENSADORE...</td>\n      <td>SUMINISTRO DE CAJEROS AUTOMÁTICOS DISPENSADORE...</td>\n      <td>HSO200602PH2</td>\n      <td>HYOSUNG SOLUTIONS S DE RL DE CV</td>\n      <td>50,323,071.25</td>\n      <td>HTTPS://COMPRANET.HACIENDA.GOB.MX/ESOP/GUEST/G...</td>\n      <td>2021</td>\n    </tr>\n    <tr>\n      <th>270041</th>\n      <td>ADJUDICACIÓN DIRECTA</td>\n      <td>BANJERCITO</td>\n      <td>SERVCIO DE MATENIMIENTO Y SOPORTE A CAJEROS A...</td>\n      <td>SERVCIO DE MATENIMIENTO Y SOPORTE A CAJEROS AU...</td>\n      <td>HSO200602PH2</td>\n      <td>HYOSUNG SOLUTIONS S DE RL DE CV</td>\n      <td>43,004,550.0</td>\n      <td>HTTPS://COMPRANET.HACIENDA.GOB.MX/ESOP/GUEST/G...</td>\n      <td>2021</td>\n    </tr>\n  </tbody>\n</table>\n</div>"
     },
     "execution_count": 187,
     "metadata": {},
     "output_type": "execute_result"
    }
   ],
   "source": [
    "# Usa la función:\n",
    "buscar = filter_contratos(contratos_df)\n",
    "buscar[['tipo_de_procedimiento', 'siglas_de_la_institucion', 'titulo_del_contrato', 'descripcion_del_contrato','rfc','proveedor_o_contratista', 'importe', 'direccion_del_anuncio', 'ano']]"
   ],
   "metadata": {
    "collapsed": false,
    "ExecuteTime": {
     "end_time": "2023-08-03T12:38:23.578212Z",
     "start_time": "2023-08-03T12:38:16.126325Z"
    }
   }
  },
  {
   "cell_type": "markdown",
   "source": [
    "\n",
    "### Resultados de búsqueda por institución"
   ],
   "metadata": {
    "collapsed": false
   }
  },
  {
   "cell_type": "code",
   "execution_count": 181,
   "outputs": [
    {
     "data": {
      "text/plain": "  siglas_de_la_institucion                                        institucion  \\\n2                   SEDENA                  SECRETARÍA DE LA DEFENSA NACIONAL   \n0        BANCODELBIENESTAR                BANCO DEL BIENESTAR, S.N.C., I.B.D.   \n1               BANJERCITO  BANCO NACIONAL DEL EJÉRCITO, FUERZA AÉREA Y AR...   \n\n           proveedor_o_contratista       importe  \n2  HYOSUNG SOLUTIONS S DE RL DE CV 929,218,500.0  \n0  HYOSUNG SOLUTIONS S DE RL DE CV 161,357,600.0  \n1  HYOSUNG SOLUTIONS S DE RL DE CV 93,327,621.25  ",
      "text/html": "<div>\n<style scoped>\n    .dataframe tbody tr th:only-of-type {\n        vertical-align: middle;\n    }\n\n    .dataframe tbody tr th {\n        vertical-align: top;\n    }\n\n    .dataframe thead th {\n        text-align: right;\n    }\n</style>\n<table border=\"1\" class=\"dataframe\">\n  <thead>\n    <tr style=\"text-align: right;\">\n      <th></th>\n      <th>siglas_de_la_institucion</th>\n      <th>institucion</th>\n      <th>proveedor_o_contratista</th>\n      <th>importe</th>\n    </tr>\n  </thead>\n  <tbody>\n    <tr>\n      <th>2</th>\n      <td>SEDENA</td>\n      <td>SECRETARÍA DE LA DEFENSA NACIONAL</td>\n      <td>HYOSUNG SOLUTIONS S DE RL DE CV</td>\n      <td>929,218,500.0</td>\n    </tr>\n    <tr>\n      <th>0</th>\n      <td>BANCODELBIENESTAR</td>\n      <td>BANCO DEL BIENESTAR, S.N.C., I.B.D.</td>\n      <td>HYOSUNG SOLUTIONS S DE RL DE CV</td>\n      <td>161,357,600.0</td>\n    </tr>\n    <tr>\n      <th>1</th>\n      <td>BANJERCITO</td>\n      <td>BANCO NACIONAL DEL EJÉRCITO, FUERZA AÉREA Y AR...</td>\n      <td>HYOSUNG SOLUTIONS S DE RL DE CV</td>\n      <td>93,327,621.25</td>\n    </tr>\n  </tbody>\n</table>\n</div>"
     },
     "execution_count": 181,
     "metadata": {},
     "output_type": "execute_result"
    }
   ],
   "source": [
    "pd.options.display.float_format = '{:,}'.format\n",
    "\n",
    "ins_df=buscar.groupby(['siglas_de_la_institucion', 'institucion', 'proveedor_o_contratista']).agg({'importe':'sum'}).reset_index()\n",
    "\n",
    "ins_df.sort_values(by='importe', ascending=False, inplace=True)\n",
    "#institucion.set_index('Institución', inplace=True)\n",
    "\n",
    "proveedor = ins_df['proveedor_o_contratista'].iloc[0]x\n",
    "ins_df"
   ],
   "metadata": {
    "collapsed": false,
    "ExecuteTime": {
     "end_time": "2023-08-03T04:37:37.989192Z",
     "start_time": "2023-08-03T04:37:37.961125Z"
    }
   }
  },
  {
   "cell_type": "code",
   "execution_count": 189,
   "outputs": [
    {
     "data": {
      "text/plain": "<Figure size 864x576 with 1 Axes>",
      "image/png": "[encoded data removed]"
     },
     "metadata": {},
     "output_type": "display_data"
    }
   ],
   "source": [
    "import matplotlib.pyplot as plt\n",
    "import matplotlib.ticker as ticker\n",
    "import numpy as np\n",
    "\n",
    "# Asigna los valores\n",
    "instituciones = ins_df['siglas_de_la_institucion'].values\n",
    "importe = ins_df['importe'].values / 1e6  # Convertimos a millones\n",
    "\n",
    "# Crea la figura y los ejes\n",
    "fig, ax = plt.subplots(figsize=(12, 8))  # Puedes cambiar el tamaño a tu preferencia\n",
    "\n",
    "# Genera las barras\n",
    "bars = ax.bar(instituciones, importe, color='#1f77b4')  # Color azul minimalista\n",
    "\n",
    "# Asigna los títulos y etiquetas\n",
    "ax.set_title(f\"Monto (en millones de pesos) de contratos otorgados a \\n {proveedor} 2019-2023\", fontsize=16, pad=20, fontweight='bold')\n",
    "ax.set_xlabel(\"Institución\", fontsize=16, labelpad=15)\n",
    "ax.set_ylabel(\"Monto\", fontsize=16, labelpad=15)\n",
    "\n",
    "# Asigna los localizadores de las etiquetas del eje X\n",
    "ax.xaxis.set_major_locator(ticker.FixedLocator(range(len(instituciones))))\n",
    "ax.set_xticklabels(instituciones, fontsize=12, rotation=0)\n",
    "\n",
    "# Formatea las etiquetas del eje Y\n",
    "ax.yaxis.set_major_formatter(ticker.StrMethodFormatter('{x:,.0f}'))\n",
    "ax.tick_params(axis='y', labelsize=14)\n",
    "\n",
    "# Establece un intervalo de líneas horizontales basado en los datos\n",
    "y_interval = max(importe) / 10\n",
    "ax.yaxis.set_major_locator(ticker.MultipleLocator(y_interval))\n",
    "for y in np.arange(0, max(importe)+y_interval, y_interval):\n",
    "    plt.hlines(y, xmin=-1, xmax=len(instituciones), colors='gray', linestyles='dashed', linewidth=0.5)\n",
    "\n",
    "# Cambia el color de fondo de la figura y de los ejes a blanco\n",
    "fig.set_facecolor('white')\n",
    "ax.set_facecolor('white')\n",
    "\n",
    "# Elimina el cuadro alrededor de la gráfica excepto la línea del eje x\n",
    "for spine in ['left', 'right', 'top']:\n",
    "    ax.spines[spine].set_visible(False)\n",
    "\n",
    "# Añade las etiquetas de las cantidades sobre las barras con un tamaño pequeño y sutil\n",
    "for bar in bars:\n",
    "    yval = bar.get_height()\n",
    "    ax.text(bar.get_x() + bar.get_width()/2, yval+10, round(yval, 2), ha='center', va='bottom', fontsize=16, color='gray')\n",
    "\n",
    "# Agrega la leyenda\n",
    "plt.figtext(0.5, 0.01, \"FUENTE: ELABORADAR POR @REALARTUROH CON DATOS DE COMPRANET\", ha=\"right\", fontsize=10, color='gray')\n",
    "\n",
    "# Muestra la gráfica\n",
    "plt.show()\n"
   ],
   "metadata": {
    "collapsed": false,
    "ExecuteTime": {
     "end_time": "2023-08-03T12:57:15.010839Z",
     "start_time": "2023-08-03T12:57:10.628127Z"
    }
   }
  },
  {
   "cell_type": "markdown",
   "source": [
    "### Resultados de búsqueda por proveedor"
   ],
   "metadata": {
    "collapsed": false
   }
  },
  {
   "cell_type": "code",
   "execution_count": 119,
   "outputs": [
    {
     "data": {
      "text/plain": "           proveedor_o_contratista           rfc          importe  \\\n0  HYOSUNG SOLUTIONS S DE RL DE CV  HSO200602PH2 1,183,903,721.25   \n\n  año_constitucion  \n0             2020  ",
      "text/html": "<div>\n<style scoped>\n    .dataframe tbody tr th:only-of-type {\n        vertical-align: middle;\n    }\n\n    .dataframe tbody tr th {\n        vertical-align: top;\n    }\n\n    .dataframe thead th {\n        text-align: right;\n    }\n</style>\n<table border=\"1\" class=\"dataframe\">\n  <thead>\n    <tr style=\"text-align: right;\">\n      <th></th>\n      <th>proveedor_o_contratista</th>\n      <th>rfc</th>\n      <th>importe</th>\n      <th>año_constitucion</th>\n    </tr>\n  </thead>\n  <tbody>\n    <tr>\n      <th>0</th>\n      <td>HYOSUNG SOLUTIONS S DE RL DE CV</td>\n      <td>HSO200602PH2</td>\n      <td>1,183,903,721.25</td>\n      <td>2020</td>\n    </tr>\n  </tbody>\n</table>\n</div>"
     },
     "execution_count": 119,
     "metadata": {},
     "output_type": "execute_result"
    }
   ],
   "source": [
    "import pandas as pd\n",
    "\n",
    "pd.options.display.float_format = '{:,}'.format\n",
    "\n",
    "prov_df=buscar.groupby(['proveedor_o_contratista', 'rfc']).agg({'importe':'sum'}).reset_index()\n",
    "\n",
    "prov_df.sort_values(by='importe', ascending=False, inplace=True)\n",
    "\n",
    "def convert_year(two_digit_year):\n",
    "    if two_digit_year.isdigit():\n",
    "        year_int = int(two_digit_year)\n",
    "        if year_int > 23:\n",
    "            return \"19\" + two_digit_year\n",
    "        else:\n",
    "            return \"20\" + two_digit_year\n",
    "    else:\n",
    "        return \"unknown\"  # or some other default value\n",
    "\n",
    "prov_df['año_constitucion'] = prov_df['rfc'].apply(lambda x: convert_year(str(x)[3:5]) if len(str(x)) >= 5 else \"unknown\")\n",
    "\n",
    "prov_df[prov_df['año_constitucion']>='2019']\n"
   ],
   "metadata": {
    "collapsed": false,
    "ExecuteTime": {
     "end_time": "2023-08-03T03:56:46.860734Z",
     "start_time": "2023-08-03T03:56:46.857868Z"
    }
   }
  },
  {
   "cell_type": "code",
   "execution_count": null,
   "outputs": [],
   "source": [],
   "metadata": {
    "collapsed": false
   }
  }
 ],
 "metadata": {
  "kernelspec": {
   "display_name": "Python 3",
   "language": "python",
   "name": "python3"
  },
  "language_info": {
   "codemirror_mode": {
    "name": "ipython",
    "version": 2
   },
   "file_extension": ".py",
   "mimetype": "text/x-python",
   "name": "python",
   "nbconvert_exporter": "python",
   "pygments_lexer": "ipython2",
   "version": "2.7.6"
  }
 },
 "nbformat": 4,
 "nbformat_minor": 0
}
