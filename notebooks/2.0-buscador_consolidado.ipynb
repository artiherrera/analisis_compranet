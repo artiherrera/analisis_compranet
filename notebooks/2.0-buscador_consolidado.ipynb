{
 "cells": [
  {
   "cell_type": "code",
   "execution_count": 1,
   "metadata": {
    "collapsed": true,
    "ExecuteTime": {
     "end_time": "2023-08-04T04:02:43.681035Z",
     "start_time": "2023-08-04T04:02:27.304677Z"
    }
   },
   "outputs": [
    {
     "name": "stderr",
     "output_type": "stream",
     "text": [
      "/var/folders/n1/5l3l1c6x5xd7lfxmx1cmr21c0000gn/T/ipykernel_28780/1287016637.py:13: DtypeWarning: Columns (6,7,20,42,43) have mixed types. Specify dtype option on import or set low_memory=False.\n",
      "  dfs[f'df{year}'] = pd.read_csv(file_path)  # lee el archivo CSV y lo almacena en el diccionario\n",
      "/var/folders/n1/5l3l1c6x5xd7lfxmx1cmr21c0000gn/T/ipykernel_28780/1287016637.py:13: DtypeWarning: Columns (6,7,20,42,43) have mixed types. Specify dtype option on import or set low_memory=False.\n",
      "  dfs[f'df{year}'] = pd.read_csv(file_path)  # lee el archivo CSV y lo almacena en el diccionario\n",
      "/var/folders/n1/5l3l1c6x5xd7lfxmx1cmr21c0000gn/T/ipykernel_28780/1287016637.py:13: DtypeWarning: Columns (6,7,20,42,43) have mixed types. Specify dtype option on import or set low_memory=False.\n",
      "  dfs[f'df{year}'] = pd.read_csv(file_path)  # lee el archivo CSV y lo almacena en el diccionario\n",
      "/var/folders/n1/5l3l1c6x5xd7lfxmx1cmr21c0000gn/T/ipykernel_28780/1287016637.py:13: DtypeWarning: Columns (6,20,42,43) have mixed types. Specify dtype option on import or set low_memory=False.\n",
      "  dfs[f'df{year}'] = pd.read_csv(file_path)  # lee el archivo CSV y lo almacena en el diccionario\n"
     ]
    }
   ],
   "source": [
    "import os\n",
    "import pandas as pd\n",
    "import janitor\n",
    "\n",
    "dfs = {}\n",
    "\n",
    "ruta = os.path.join('..', 'data')\n",
    "\n",
    "years = range(2019, 2024)\n",
    "\n",
    "for year in years:\n",
    "    file_path = os.path.join(ruta, f'{year}clean.csv')  # crea la ruta al archivo\n",
    "    dfs[f'df{year}'] = pd.read_csv(file_path)  # lee el archivo CSV y lo almacena en el diccionario\n",
    "\n",
    "df2019 = dfs['df2019']\n",
    "df2020 = dfs['df2020']\n",
    "df2021 = dfs['df2021']\n",
    "df2022 = dfs['df2022']\n",
    "df2023 = dfs['df2023']\n",
    "\n",
    "df2019['ano']=2019\n",
    "df2020['ano']=2020\n",
    "df2021['ano']=2021\n",
    "df2022['ano']=2022\n",
    "df2023['ano']=2023\n",
    "\n",
    "\n",
    "for name, df in dfs.items():\n",
    "    dfs[name] = df.clean_names()"
   ]
  },
  {
   "cell_type": "code",
   "execution_count": 28,
   "outputs": [],
   "source": [
    "# Crear una lista de dataframes\n",
    "dfs_list = [dfs[name] for name in dfs.keys()]\n",
    "\n",
    "# Concatenar todos los dataframes\n",
    "contratos_df = pd.concat(dfs_list, ignore_index=True)\n"
   ],
   "metadata": {
    "collapsed": false,
    "ExecuteTime": {
     "end_time": "2023-08-04T04:17:59.323407Z",
     "start_time": "2023-08-04T04:17:58.016569Z"
    }
   }
  },
  {
   "cell_type": "code",
   "execution_count": 29,
   "outputs": [
    {
     "name": "stdout",
     "output_type": "stream",
     "text": [
      "1 USD = 17.115130976369297 MXN\n",
      "1 CAD = 13.018183084854396 MXN\n",
      "1 EUR = 18.6863 MXN\n",
      "1 GBP = 21.75912340762477 MXN\n",
      "1 JPY = 0.11946998273767662 MXN\n",
      "Done\n"
     ]
    }
   ],
   "source": [
    "from currency_converter import CurrencyConverter\n",
    "\n",
    "\n",
    "for column in contratos_df.columns:\n",
    "    if contratos_df[column].dtype == 'object':\n",
    "        contratos_df[column] = contratos_df[column].str.upper()\n",
    "\n",
    "\n",
    "for column in contratos_df.columns:\n",
    "    if contratos_df[column].dtype == 'string':\n",
    "        contratos_df[column] = contratos_df[column].str.upper()\n",
    "\n",
    "c = CurrencyConverter()\n",
    "currencies=['USD', 'CAD', 'EUR', 'GBP', 'JPY']\n",
    "\n",
    "# Create a dictionary to store conversion rates\n",
    "conversion_rates = {}\n",
    "\n",
    "for m in currencies:\n",
    "    conversion_rate = c.convert(1, m, 'MXN')\n",
    "    print(1, m, \"=\", conversion_rate, 'MXN')\n",
    "    conversion_rates[m] = conversion_rate\n",
    "\n",
    "# Apply conversion rates\n",
    "contratos_df[\"importe\"] = contratos_df[\"importe_del_contrato\"]\n",
    "\n",
    "for currency, conversion_rate in conversion_rates.items():\n",
    "    contratos_df.loc[contratos_df['moneda_del_contrato'] == currency , 'importe'] = contratos_df.loc[contratos_df['moneda_del_contrato'] == currency , \"importe_del_contrato\"] * conversion_rate\n",
    "\n",
    "print('Done')\n"
   ],
   "metadata": {
    "collapsed": false,
    "ExecuteTime": {
     "end_time": "2023-08-04T04:18:13.009841Z",
     "start_time": "2023-08-04T04:18:08.238151Z"
    }
   }
  },
  {
   "cell_type": "code",
   "execution_count": 30,
   "outputs": [],
   "source": [
    "def correct_swap(df):\n",
    "    # Define un patrón de RFC válido\n",
    "    rfc_pattern = r\"^[A-ZÑ&]{3,4}[0-9]{2}(0[1-9]|1[0-2])(0[1-9]|1[0-9]|2[0-9]|3[0-1])[A-Z0-9]?[A-Z0-9]?[0-9A]$\"\n",
    "\n",
    "    # Rellena los NaN con una cadena vacía para poder aplicar str.match\n",
    "    df.fillna(\"\", inplace=True)\n",
    "\n",
    "    # Identifica las filas donde 'rfc' no es un RFC válido y 'proveedor_o_contratista' es un RFC válido\n",
    "    mask_invalid = ~df['rfc'].str.match(rfc_pattern) & df['proveedor_o_contratista'].str.match(rfc_pattern)\n",
    "\n",
    "    # Intercambia 'rfc' y 'proveedor_o_contratista' para las filas identificadas\n",
    "    df.loc[mask_invalid, 'rfc'], df.loc[mask_invalid, 'proveedor_o_contratista'] = df.loc[mask_invalid, 'proveedor_o_contratista'], df.loc[mask_invalid, 'rfc']\n",
    "\n",
    "    # Identifica las filas donde 'rfc' no es un RFC válido y 'proveedor_o_contratista' es una cadena vacía\n",
    "    mask_invalid_empty = ~df['rfc'].str.match(rfc_pattern) & (df['proveedor_o_contratista'] == \"\")\n",
    "\n",
    "    # Intercambia 'rfc' y 'proveedor_o_contratista' para las filas identificadas y asigna un valor artificial a 'rfc'\n",
    "    df.loc[mask_invalid_empty, 'rfc'], df.loc[mask_invalid_empty, 'proveedor_o_contratista'] = 'XAXX010101000', df.loc[mask_invalid_empty, 'rfc']\n",
    "\n",
    "    # Reemplaza las cadenas vacías con NaN de nuevo\n",
    "    df.replace(\"\", np.nan, inplace=True)\n",
    "\n",
    "    return df\n",
    "\n",
    "# Supón que contratos_df es tu DataFrame original\n",
    "contratos_df = correct_swap(contratos_df)\n"
   ],
   "metadata": {
    "collapsed": false,
    "ExecuteTime": {
     "end_time": "2023-08-04T04:18:29.868226Z",
     "start_time": "2023-08-04T04:18:21.418926Z"
    }
   }
  },
  {
   "cell_type": "code",
   "execution_count": 31,
   "outputs": [
    {
     "data": {
      "text/plain": "                  rfc          proveedor_o_contratista\n14895   XAXX010101000                     ARBAVEL A.C.\n16833   XAXX010101000                     JESUS GARCIA\n16973   XAXX010101000                     DAVID ROMERO\n21692   XAXX010101000                     CRUZ ROBLEDO\n23257   XAXX010101000                     PAVLO GETMAN\n...               ...                              ...\n471121  XAXX010101000  FRANCISCO JAVIER MONROY SANCHEZ\n471122  XAXX010101000        ALEXIA ANAEL AVILA SOLIS \n471137  XAXX010101000        JOSE DE JESUS DIAZ CORONA\n471138  XAXX010101000         TOMAS ESPINOZA BENAVIDES\n471140  XAXX010101000              MARTIN ORTIZ VALDEZ\n\n[1925 rows x 2 columns]",
      "text/html": "<div>\n<style scoped>\n    .dataframe tbody tr th:only-of-type {\n        vertical-align: middle;\n    }\n\n    .dataframe tbody tr th {\n        vertical-align: top;\n    }\n\n    .dataframe thead th {\n        text-align: right;\n    }\n</style>\n<table border=\"1\" class=\"dataframe\">\n  <thead>\n    <tr style=\"text-align: right;\">\n      <th></th>\n      <th>rfc</th>\n      <th>proveedor_o_contratista</th>\n    </tr>\n  </thead>\n  <tbody>\n    <tr>\n      <th>14895</th>\n      <td>XAXX010101000</td>\n      <td>ARBAVEL A.C.</td>\n    </tr>\n    <tr>\n      <th>16833</th>\n      <td>XAXX010101000</td>\n      <td>JESUS GARCIA</td>\n    </tr>\n    <tr>\n      <th>16973</th>\n      <td>XAXX010101000</td>\n      <td>DAVID ROMERO</td>\n    </tr>\n    <tr>\n      <th>21692</th>\n      <td>XAXX010101000</td>\n      <td>CRUZ ROBLEDO</td>\n    </tr>\n    <tr>\n      <th>23257</th>\n      <td>XAXX010101000</td>\n      <td>PAVLO GETMAN</td>\n    </tr>\n    <tr>\n      <th>...</th>\n      <td>...</td>\n      <td>...</td>\n    </tr>\n    <tr>\n      <th>471121</th>\n      <td>XAXX010101000</td>\n      <td>FRANCISCO JAVIER MONROY SANCHEZ</td>\n    </tr>\n    <tr>\n      <th>471122</th>\n      <td>XAXX010101000</td>\n      <td>ALEXIA ANAEL AVILA SOLIS</td>\n    </tr>\n    <tr>\n      <th>471137</th>\n      <td>XAXX010101000</td>\n      <td>JOSE DE JESUS DIAZ CORONA</td>\n    </tr>\n    <tr>\n      <th>471138</th>\n      <td>XAXX010101000</td>\n      <td>TOMAS ESPINOZA BENAVIDES</td>\n    </tr>\n    <tr>\n      <th>471140</th>\n      <td>XAXX010101000</td>\n      <td>MARTIN ORTIZ VALDEZ</td>\n    </tr>\n  </tbody>\n</table>\n<p>1925 rows × 2 columns</p>\n</div>"
     },
     "execution_count": 31,
     "metadata": {},
     "output_type": "execute_result"
    }
   ],
   "source": [
    "def verify_correction(df):\n",
    "    # Identificar filas donde rfc tiene una longitud distinta a 13\n",
    "    mask = df['rfc'].str.len() != 12\n",
    "    # Retornar filas donde rfc tiene una longitud distinta a 13\n",
    "    return df.loc[mask]\n",
    "\n",
    "verify_correction(contratos_df[['rfc', 'proveedor_o_contratista']])"
   ],
   "metadata": {
    "collapsed": false,
    "ExecuteTime": {
     "end_time": "2023-08-04T04:18:34.520291Z",
     "start_time": "2023-08-04T04:18:31.973688Z"
    }
   }
  },
  {
   "cell_type": "markdown",
   "source": [
    "### Función de búsqueda"
   ],
   "metadata": {
    "collapsed": false
   }
  },
  {
   "cell_type": "code",
   "execution_count": 115,
   "outputs": [],
   "source": [
    "def filter_contratos(contratos_df):\n",
    "    # Solicita al usuario un proveedor o contratista o RFC\n",
    "    search_term = input(\"Por favor, ingresa el nombre del proveedor o contratista o el RFC (déjalo en blanco para mostrar todos): \").upper()\n",
    "\n",
    "    # Solicita al usuario las siglas de la institución o \"todas\" para buscar en todas\n",
    "    institution = input(\"Por favor, ingresa las siglas de la institución (déjalo en blanco para mostrar todas) o 'todas' para buscar en todas: \").upper()\n",
    "\n",
    "    # Solicita al usuario las palabras clave en la descripción del contrato\n",
    "    keywords = input(\"Por favor, ingresa las palabras clave en la descripción del contrato (separa múltiples palabras con comas, déjalo en blanco para buscar todas): \").upper()\n",
    "\n",
    "    # Solicita al usuario las palabras a excluir en la descripción del contrato\n",
    "    exclude_words = input(\"Por favor, ingresa las palabras a excluir en la descripción del contrato (separa múltiples palabras con comas, déjalo en blanco para no excluir ninguna): \").upper()\n",
    "\n",
    "    # Inicialmente asumimos todos los contratos\n",
    "    filtered_df = contratos_df.copy()  # Creamos una copia del DataFrame\n",
    "\n",
    "    filtered_df[['proveedor_o_contratista', 'descripcion_del_contrato']] = filtered_df[['proveedor_o_contratista', 'descripcion_del_contrato']].fillna('')\n",
    "\n",
    "\n",
    "# Convierte las columnas de texto a minúsculas\n",
    "    filtered_df['proveedor_o_contratista'] = filtered_df['proveedor_o_contratista'].str.upper()\n",
    "    filtered_df['siglas_de_la_institucion'] = filtered_df['siglas_de_la_institucion'].str.upper()\n",
    "    filtered_df['descripcion_del_contrato'] = filtered_df['descripcion_del_contrato'].str.upper()\n",
    "\n",
    "    # Filtra por proveedor o contratista o RFC si se proporciona\n",
    "    if search_term:\n",
    "        if len(search_term) == 12 and search_term.isalnum(): # RFC en México tiene 13 caracteres y sólo contiene letras y números\n",
    "            filtered_df = filtered_df.loc[filtered_df['rfc'] == search_term]\n",
    "        else:\n",
    "            filtered_df = filtered_df.loc[filtered_df['proveedor_o_contratista'].str.contains(search_term, case=False)]\n",
    "\n",
    "    # Filtra por institución si se proporciona\n",
    "    if institution != 'todas' and institution:\n",
    "        filtered_df = filtered_df.loc[filtered_df['siglas_de_la_institucion'] == institution]\n",
    "\n",
    "    # Reemplaza los NaN en la descripción del contrato por cadenas vacías\n",
    "    filtered_df['descripcion_del_contrato'] = filtered_df['descripcion_del_contrato'].fillna('')\n",
    "\n",
    "    # Filtra por palabras clave en la descripción del contrato si se proporcionan\n",
    "    if keywords:\n",
    "        for keyword in keywords.split(','):\n",
    "            keyword = keyword.strip()  # Remueve los espacios adicionales al principio y al final de la palabra\n",
    "            filtered_df = filtered_df.loc[filtered_df['descripcion_del_contrato'].str.contains(keyword, case=False)]\n",
    "\n",
    "    # Excluye contratos que contienen ciertas palabras en la descripción del contrato si se proporcionan\n",
    "    if exclude_words:\n",
    "        for word in exclude_words.split(','):\n",
    "            word = word.strip()  # Remueve los espacios adicionales al principio y al final de la palabra\n",
    "            filtered_df = filtered_df.loc[~filtered_df['descripcion_del_contrato'].str.contains(word, case=False)]\n",
    "\n",
    "    # Ordena el DataFrame filtrado por importe en orden descendente\n",
    "    filtered_df = filtered_df.sort_values(by='importe', ascending=False)\n",
    "\n",
    "    # Muestra el DataFrame filtrado\n",
    "    return filtered_df\n",
    "\n",
    "# Usa la función:\n"
   ],
   "metadata": {
    "collapsed": false,
    "ExecuteTime": {
     "end_time": "2023-08-03T03:51:38.401954Z",
     "start_time": "2023-08-03T03:51:38.392165Z"
    }
   }
  },
  {
   "cell_type": "markdown",
   "source": [
    "# Búsqueda"
   ],
   "metadata": {
    "collapsed": false
   }
  },
  {
   "cell_type": "code",
   "execution_count": 232,
   "outputs": [
    {
     "data": {
      "text/plain": "       tipo_de_procedimiento siglas_de_la_institucion  \\\n377535  ADJUDICACIÓN DIRECTA                  DICONSA   \n376911  ADJUDICACIÓN DIRECTA                  DICONSA   \n455210  ADJUDICACIÓN DIRECTA                  DICONSA   \n455116  ADJUDICACIÓN DIRECTA                  DICONSA   \n393679  ADJUDICACIÓN DIRECTA                  DICONSA   \n410039  ADJUDICACIÓN DIRECTA                  DICONSA   \n440457  ADJUDICACIÓN DIRECTA                  DICONSA   \n439090  ADJUDICACIÓN DIRECTA                  DICONSA   \n378604  ADJUDICACIÓN DIRECTA                  DICONSA   \n454892  ADJUDICACIÓN DIRECTA                  DICONSA   \n378567  ADJUDICACIÓN DIRECTA                  DICONSA   \n\n                                      titulo_del_contrato  \\\n377535  PAQUETE ABARR. NO COMES. Y FARMACIA, PAQUETE A...   \n376911  PAQUETE ABARR. NO COMES. Y FARMACIA, PAQUETE A...   \n455210                                   VARIOS ARTICULOS   \n455116                                   PRODUCTOS VARIOS   \n393679  PAQUETE ABARR. NO COMES. Y FARMACIA, PAQUETE A...   \n410039                                PAQUETE PERECEDEROS   \n440457                                PAQUETE PERECEDEROS   \n439090                                PAQUETE PERECEDEROS   \n378604                                PAQUETE PERECEDEROS   \n454892                                PAQUETE PERECEDEROS   \n378567  PAQUETE ABARROTES CARNES Y DULCES, PAQUETE FER...   \n\n                                 descripcion_del_contrato           rfc  \\\n377535  COMPRA PARA ATENDER REQUERIMIENTO DEL PROGRAMA...  TOD220214AR9   \n376911  COMPRA PARA ATENDER REQUERIMIENTO DEL PROGRAMA...  TOD220214AR9   \n455210  COMPRA PARA ATENDER REQUERIMIENTOS DEL PROGRAM...  TOD220214AR9   \n455116  COMPRA PARA ATENDER REQUERIMIENTOS DEL PROGRAM...  TOD220214AR9   \n393679  COMPRA PARA ATENDER REQUERIMIENTOS DEL PROGRAM...  TOD220214AR9   \n410039  COMPRA PARA ATENDER REQUERIMIENTO DEL PROGRAMA...  TOD220214AR9   \n440457  COMPRA PARA ATENDER REQUERIMIENTO DEL PROGRAMA...  TOD220214AR9   \n439090  COMPRA PARA ATENDER REQUERIMIENTO DEL PROGRAMA...  TOD220214AR9   \n378604  COMPRA PARA ATENDER REQUERIMIENTO DEL PROGRAMA...  TOD220214AR9   \n454892  COMPRA PARA ATENDER REQUERIMIENTOS DEL PROGRAM...  TOD220214AR9   \n378567  COMPRA PARA ATENDER REQUERIMIENTO DEL PROGRAMA...  TOD220214AR9   \n\n       proveedor_o_contratista      importe  \\\n377535  TODOLOGOS.COM SA DE CV 4,244,635.68   \n376911  TODOLOGOS.COM SA DE CV 2,369,126.55   \n455210  TODOLOGOS.COM SA DE CV 2,152,969.11   \n455116  TODOLOGOS.COM SA DE CV 1,342,628.11   \n393679  TODOLOGOS.COM SA DE CV 1,259,004.86   \n410039  TODOLOGOS.COM SA DE CV    564,856.0   \n440457  TODOLOGOS.COM SA DE CV   558,516.12   \n439090  TODOLOGOS.COM SA DE CV   523,245.64   \n378604  TODOLOGOS.COM SA DE CV   382,906.88   \n454892  TODOLOGOS.COM SA DE CV   173,607.27   \n378567  TODOLOGOS.COM SA DE CV     81,500.0   \n\n                                    direccion_del_anuncio   ano  \n377535  HTTPS://COMPRANET.HACIENDA.GOB.MX/ESOP/GUEST/G...  2022  \n376911  HTTPS://COMPRANET.HACIENDA.GOB.MX/ESOP/GUEST/G...  2022  \n455210  HTTPS://COMPRANET.HACIENDA.GOB.MX/ESOP/GUEST/G...  2022  \n455116  HTTPS://COMPRANET.HACIENDA.GOB.MX/ESOP/GUEST/G...  2022  \n393679  HTTPS://COMPRANET.HACIENDA.GOB.MX/ESOP/GUEST/G...  2022  \n410039  HTTPS://COMPRANET.HACIENDA.GOB.MX/ESOP/GUEST/G...  2022  \n440457  HTTPS://COMPRANET.HACIENDA.GOB.MX/ESOP/GUEST/G...  2022  \n439090  HTTPS://COMPRANET.HACIENDA.GOB.MX/ESOP/GUEST/G...  2022  \n378604  HTTPS://COMPRANET.HACIENDA.GOB.MX/ESOP/GUEST/G...  2022  \n454892  HTTPS://COMPRANET.HACIENDA.GOB.MX/ESOP/GUEST/G...  2022  \n378567  HTTPS://COMPRANET.HACIENDA.GOB.MX/ESOP/GUEST/G...  2022  ",
      "text/html": "<div>\n<style scoped>\n    .dataframe tbody tr th:only-of-type {\n        vertical-align: middle;\n    }\n\n    .dataframe tbody tr th {\n        vertical-align: top;\n    }\n\n    .dataframe thead th {\n        text-align: right;\n    }\n</style>\n<table border=\"1\" class=\"dataframe\">\n  <thead>\n    <tr style=\"text-align: right;\">\n      <th></th>\n      <th>tipo_de_procedimiento</th>\n      <th>siglas_de_la_institucion</th>\n      <th>titulo_del_contrato</th>\n      <th>descripcion_del_contrato</th>\n      <th>rfc</th>\n      <th>proveedor_o_contratista</th>\n      <th>importe</th>\n      <th>direccion_del_anuncio</th>\n      <th>ano</th>\n    </tr>\n  </thead>\n  <tbody>\n    <tr>\n      <th>377535</th>\n      <td>ADJUDICACIÓN DIRECTA</td>\n      <td>DICONSA</td>\n      <td>PAQUETE ABARR. NO COMES. Y FARMACIA, PAQUETE A...</td>\n      <td>COMPRA PARA ATENDER REQUERIMIENTO DEL PROGRAMA...</td>\n      <td>TOD220214AR9</td>\n      <td>TODOLOGOS.COM SA DE CV</td>\n      <td>4,244,635.68</td>\n      <td>HTTPS://COMPRANET.HACIENDA.GOB.MX/ESOP/GUEST/G...</td>\n      <td>2022</td>\n    </tr>\n    <tr>\n      <th>376911</th>\n      <td>ADJUDICACIÓN DIRECTA</td>\n      <td>DICONSA</td>\n      <td>PAQUETE ABARR. NO COMES. Y FARMACIA, PAQUETE A...</td>\n      <td>COMPRA PARA ATENDER REQUERIMIENTO DEL PROGRAMA...</td>\n      <td>TOD220214AR9</td>\n      <td>TODOLOGOS.COM SA DE CV</td>\n      <td>2,369,126.55</td>\n      <td>HTTPS://COMPRANET.HACIENDA.GOB.MX/ESOP/GUEST/G...</td>\n      <td>2022</td>\n    </tr>\n    <tr>\n      <th>455210</th>\n      <td>ADJUDICACIÓN DIRECTA</td>\n      <td>DICONSA</td>\n      <td>VARIOS ARTICULOS</td>\n      <td>COMPRA PARA ATENDER REQUERIMIENTOS DEL PROGRAM...</td>\n      <td>TOD220214AR9</td>\n      <td>TODOLOGOS.COM SA DE CV</td>\n      <td>2,152,969.11</td>\n      <td>HTTPS://COMPRANET.HACIENDA.GOB.MX/ESOP/GUEST/G...</td>\n      <td>2022</td>\n    </tr>\n    <tr>\n      <th>455116</th>\n      <td>ADJUDICACIÓN DIRECTA</td>\n      <td>DICONSA</td>\n      <td>PRODUCTOS VARIOS</td>\n      <td>COMPRA PARA ATENDER REQUERIMIENTOS DEL PROGRAM...</td>\n      <td>TOD220214AR9</td>\n      <td>TODOLOGOS.COM SA DE CV</td>\n      <td>1,342,628.11</td>\n      <td>HTTPS://COMPRANET.HACIENDA.GOB.MX/ESOP/GUEST/G...</td>\n      <td>2022</td>\n    </tr>\n    <tr>\n      <th>393679</th>\n      <td>ADJUDICACIÓN DIRECTA</td>\n      <td>DICONSA</td>\n      <td>PAQUETE ABARR. NO COMES. Y FARMACIA, PAQUETE A...</td>\n      <td>COMPRA PARA ATENDER REQUERIMIENTOS DEL PROGRAM...</td>\n      <td>TOD220214AR9</td>\n      <td>TODOLOGOS.COM SA DE CV</td>\n      <td>1,259,004.86</td>\n      <td>HTTPS://COMPRANET.HACIENDA.GOB.MX/ESOP/GUEST/G...</td>\n      <td>2022</td>\n    </tr>\n    <tr>\n      <th>410039</th>\n      <td>ADJUDICACIÓN DIRECTA</td>\n      <td>DICONSA</td>\n      <td>PAQUETE PERECEDEROS</td>\n      <td>COMPRA PARA ATENDER REQUERIMIENTO DEL PROGRAMA...</td>\n      <td>TOD220214AR9</td>\n      <td>TODOLOGOS.COM SA DE CV</td>\n      <td>564,856.0</td>\n      <td>HTTPS://COMPRANET.HACIENDA.GOB.MX/ESOP/GUEST/G...</td>\n      <td>2022</td>\n    </tr>\n    <tr>\n      <th>440457</th>\n      <td>ADJUDICACIÓN DIRECTA</td>\n      <td>DICONSA</td>\n      <td>PAQUETE PERECEDEROS</td>\n      <td>COMPRA PARA ATENDER REQUERIMIENTO DEL PROGRAMA...</td>\n      <td>TOD220214AR9</td>\n      <td>TODOLOGOS.COM SA DE CV</td>\n      <td>558,516.12</td>\n      <td>HTTPS://COMPRANET.HACIENDA.GOB.MX/ESOP/GUEST/G...</td>\n      <td>2022</td>\n    </tr>\n    <tr>\n      <th>439090</th>\n      <td>ADJUDICACIÓN DIRECTA</td>\n      <td>DICONSA</td>\n      <td>PAQUETE PERECEDEROS</td>\n      <td>COMPRA PARA ATENDER REQUERIMIENTO DEL PROGRAMA...</td>\n      <td>TOD220214AR9</td>\n      <td>TODOLOGOS.COM SA DE CV</td>\n      <td>523,245.64</td>\n      <td>HTTPS://COMPRANET.HACIENDA.GOB.MX/ESOP/GUEST/G...</td>\n      <td>2022</td>\n    </tr>\n    <tr>\n      <th>378604</th>\n      <td>ADJUDICACIÓN DIRECTA</td>\n      <td>DICONSA</td>\n      <td>PAQUETE PERECEDEROS</td>\n      <td>COMPRA PARA ATENDER REQUERIMIENTO DEL PROGRAMA...</td>\n      <td>TOD220214AR9</td>\n      <td>TODOLOGOS.COM SA DE CV</td>\n      <td>382,906.88</td>\n      <td>HTTPS://COMPRANET.HACIENDA.GOB.MX/ESOP/GUEST/G...</td>\n      <td>2022</td>\n    </tr>\n    <tr>\n      <th>454892</th>\n      <td>ADJUDICACIÓN DIRECTA</td>\n      <td>DICONSA</td>\n      <td>PAQUETE PERECEDEROS</td>\n      <td>COMPRA PARA ATENDER REQUERIMIENTOS DEL PROGRAM...</td>\n      <td>TOD220214AR9</td>\n      <td>TODOLOGOS.COM SA DE CV</td>\n      <td>173,607.27</td>\n      <td>HTTPS://COMPRANET.HACIENDA.GOB.MX/ESOP/GUEST/G...</td>\n      <td>2022</td>\n    </tr>\n    <tr>\n      <th>378567</th>\n      <td>ADJUDICACIÓN DIRECTA</td>\n      <td>DICONSA</td>\n      <td>PAQUETE ABARROTES CARNES Y DULCES, PAQUETE FER...</td>\n      <td>COMPRA PARA ATENDER REQUERIMIENTO DEL PROGRAMA...</td>\n      <td>TOD220214AR9</td>\n      <td>TODOLOGOS.COM SA DE CV</td>\n      <td>81,500.0</td>\n      <td>HTTPS://COMPRANET.HACIENDA.GOB.MX/ESOP/GUEST/G...</td>\n      <td>2022</td>\n    </tr>\n  </tbody>\n</table>\n</div>"
     },
     "execution_count": 232,
     "metadata": {},
     "output_type": "execute_result"
    }
   ],
   "source": [
    "# Usa la función:\n",
    "buscar = filter_contratos(contratos_df)\n",
    "buscar[['tipo_de_procedimiento', 'siglas_de_la_institucion', 'titulo_del_contrato', 'descripcion_del_contrato','rfc','proveedor_o_contratista', 'importe', 'direccion_del_anuncio', 'ano']]"
   ],
   "metadata": {
    "collapsed": false,
    "ExecuteTime": {
     "end_time": "2023-08-03T15:16:03.574358Z",
     "start_time": "2023-08-03T15:15:44.020499Z"
    }
   }
  },
  {
   "cell_type": "markdown",
   "source": [
    "\n",
    "### Resultados de búsqueda por institución"
   ],
   "metadata": {
    "collapsed": false
   }
  },
  {
   "cell_type": "code",
   "execution_count": 233,
   "outputs": [
    {
     "data": {
      "text/plain": "  siglas_de_la_institucion            institucion proveedor_o_contratista  \\\n0                  DICONSA  DICONSA, S.A. DE C.V.  TODOLOGOS.COM SA DE CV   \n\n               importe  \n0 13,652,996.219999999  ",
      "text/html": "<div>\n<style scoped>\n    .dataframe tbody tr th:only-of-type {\n        vertical-align: middle;\n    }\n\n    .dataframe tbody tr th {\n        vertical-align: top;\n    }\n\n    .dataframe thead th {\n        text-align: right;\n    }\n</style>\n<table border=\"1\" class=\"dataframe\">\n  <thead>\n    <tr style=\"text-align: right;\">\n      <th></th>\n      <th>siglas_de_la_institucion</th>\n      <th>institucion</th>\n      <th>proveedor_o_contratista</th>\n      <th>importe</th>\n    </tr>\n  </thead>\n  <tbody>\n    <tr>\n      <th>0</th>\n      <td>DICONSA</td>\n      <td>DICONSA, S.A. DE C.V.</td>\n      <td>TODOLOGOS.COM SA DE CV</td>\n      <td>13,652,996.219999999</td>\n    </tr>\n  </tbody>\n</table>\n</div>"
     },
     "execution_count": 233,
     "metadata": {},
     "output_type": "execute_result"
    }
   ],
   "source": [
    "pd.options.display.float_format = '{:,}'.format\n",
    "\n",
    "ins_df=buscar.groupby(['siglas_de_la_institucion', 'institucion', 'proveedor_o_contratista']).agg({'importe':'sum'}).reset_index()\n",
    "\n",
    "ins_df.sort_values(by='importe', ascending=False, inplace=True)\n",
    "#institucion.set_index('Institución', inplace=True)\n",
    "\n",
    "proveedor = ins_df['proveedor_o_contratista'].iloc[0]\n",
    "ins_df"
   ],
   "metadata": {
    "collapsed": false,
    "ExecuteTime": {
     "end_time": "2023-08-03T15:22:38.260806Z",
     "start_time": "2023-08-03T15:22:38.205086Z"
    }
   }
  },
  {
   "cell_type": "code",
   "execution_count": 241,
   "outputs": [
    {
     "data": {
      "text/plain": "<Figure size 864x576 with 1 Axes>",
      "image/png": "[encoded data removed]"
     },
     "metadata": {},
     "output_type": "display_data"
    }
   ],
   "source": [
    "import matplotlib.pyplot as plt\n",
    "import matplotlib.ticker as ticker\n",
    "import numpy as np\n",
    "\n",
    "# Asigna los valores\n",
    "instituciones = ins_df['siglas_de_la_institucion'].values\n",
    "importe = ins_df['importe'].values / 1e6  # Convertimos a millones\n",
    "\n",
    "# Ajusta el tamaño de la figura de acuerdo al número de instituciones\n",
    "if len(instituciones) > 10:\n",
    "    fig, ax = plt.subplots(figsize=(0.5*len(instituciones), 8))\n",
    "else:\n",
    "    fig, ax = plt.subplots(figsize=(12, 8))\n",
    "\n",
    "# Genera las barras\n",
    "bars = ax.bar(instituciones, importe, color='#1f77b4')\n",
    "\n",
    "# Asigna los títulos y etiquetas\n",
    "ax.set_title(f\"Monto (en millones de pesos) de contratos otorgados a \\n {proveedor} 2019-2023\", fontsize=16, pad=20, fontweight='bold', color='white')\n",
    "ax.set_xlabel(\"Institución\", fontsize=16, labelpad=15, color='white')\n",
    "ax.set_ylabel(\"Monto\", fontsize=16, labelpad=15, color='white')\n",
    "\n",
    "# Asigna los localizadores de las etiquetas del eje X y rota las etiquetas\n",
    "ax.xaxis.set_major_locator(ticker.FixedLocator(range(len(instituciones))))\n",
    "ax.set_xticklabels(instituciones, fontsize=12, rotation=45, color='white')\n",
    "\n",
    "# Formatea las etiquetas del eje Y\n",
    "ax.yaxis.set_major_formatter(ticker.StrMethodFormatter('{x:,.0f}'))\n",
    "ax.tick_params(axis='y', labelsize=14, colors='white')\n",
    "\n",
    "# Establece un intervalo de líneas horizontales basado en los datos\n",
    "y_interval = max(importe) / 10\n",
    "ax.yaxis.set_major_locator(ticker.MultipleLocator(y_interval))\n",
    "for y in np.arange(0, max(importe)+y_interval, y_interval):\n",
    "    plt.hlines(y, xmin=-1, xmax=len(instituciones), colors='gray', linestyles='dashed', linewidth=0.5)\n",
    "\n",
    "# Cambia el color de fondo de la figura y de los ejes\n",
    "fig.set_facecolor('#2b2b2b')\n",
    "ax.set_facecolor('#2b2b2b')\n",
    "\n",
    "# Elimina el cuadro alrededor de la gráfica excepto la línea del eje x\n",
    "for spine in ['left', 'right', 'top']:\n",
    "    ax.spines[spine].set_visible(False)\n",
    "\n",
    "ax.spines['bottom'].set_linewidth(3)  # Ajusta el número para cambiar el grosor\n",
    "ax.spines['bottom'].set_color('white')\n",
    "\n",
    "# Añade las etiquetas de las cantidades sobre las barras con un tamaño pequeño y sutil\n",
    "for bar in bars:\n",
    "    yval = bar.get_height()\n",
    "    ax.text(bar.get_x() + bar.get_width()/2, yval+1, round(yval, 2), ha='center', va='bottom', fontsize=10, color='white')\n",
    "\n",
    "# Agrega la leyenda\n",
    "plt.figtext(0.5, -0.05, \"FUENTE: ELABORADAR POR @REALARTUROH CON DATOS DE COMPRANET\", ha=\"right\", fontsize=10, color='white')\n",
    "\n",
    "# Ajusta el layout para que los títulos no se corten y muestra la gráfica\n",
    "plt.tight_layout()\n",
    "plt.show()\n"
   ],
   "metadata": {
    "collapsed": false,
    "ExecuteTime": {
     "end_time": "2023-08-03T15:23:54.972774Z",
     "start_time": "2023-08-03T15:23:54.876051Z"
    }
   }
  },
  {
   "cell_type": "markdown",
   "source": [
    "### Resultados de búsqueda por proveedor"
   ],
   "metadata": {
    "collapsed": false
   }
  },
  {
   "cell_type": "code",
   "execution_count": 231,
   "outputs": [
    {
     "data": {
      "text/plain": "                               proveedor_o_contratista            rfc  \\\n135              CRIBAS Y ALMACENES DE MEXICO SA DE CV   CAM190726JU1   \n487                             TODOLOGOS.COM SA DE CV   TOD220214AR9   \n424                  SEGURIDAD PRIVADA BAMSAI SA DE CV   SPB200710K11   \n443  SERVICIOS ADMINISTRATIVOS Y OPERATIVOS BA S DE...   SAO1905165A0   \n439  SERVICIO DE MECANICA DIESEL Y GASOLINA EN GENE...   SMD2005267G6   \n178           EMPRESARIAL DE PRODUCTOS RIVERA SA DE CV   EPR200701TI3   \n331                     MULTISERVICIOS CEGADO SA DE CV   MCE1906141U1   \n280                            LCD INNOVATION SA DE CV   LIN200818HC3   \n84                              CLEANIUM S DE RL DE CV   CLE200430A22   \n245                           HZUM SERVICIOS SAS DE CV   HSE210421EZ9   \n275                                    KOOSEM SA DE CV   KOO2009173A6   \n269                                       JESUS GARCIA  XAXX010101000   \n32                                        AMADEO LOPEZ  XAXX010101000   \n433                                   SEGUVIC SA DE CV   SEG190304BB7   \n223                   GRUPO EMPRESARIAL BENZI SA DE CV   GEB200130N51   \n58                                   BLUDIJAO SA DE CV   BLU2010213M8   \n371                  POTENCIA Y CONFORT VAGAR SA DE CV   PCV1902118TA   \n238                               GRUPO SHIVA SA DE CV   GSH190305GA4   \n242                   HENKI IX DISTRIBUCIONES SA DE CV   HID201126FC8   \n208                     GELMAR GRAND SERVICES SA DE CV   GGS200902FD8   \n292                     LUXIMIA CAPITAL GROUP SA DE CV   LCG2001282C1   \n210                                      GEPS SA DE CV   GEP190321QS3   \n35                                   ARLEY ABOGADOS SC   AAB1909046J6   \n232     GRUPO LEKS CREACIONES DEPORTIVAS S DE RL DE CV   GLC190718454   \n74          CENSUR CONSTRUCCION Y CONSULTORIA SA DE CV   CCC2010099T9   \n105  COMERCIALIZADORA EN ACONDICIONADO DE MONTERREY...   CAM2002067N2   \n107  COMERCIALIZADORA INDUSTRIAL HERMANOS CERVANTES...   CIH200207JP6   \n412              RULITOL COMERCIO Y DESAROLLO SA DE CV   RCD200117BX6   \n246                                    IFASER SA DE CV   IFA200703VA5   \n243                        HEXA AMC DE MEXICO SA DE CV   HAM190128D56   \n497                               TRX RIDE ON SA DE CV   TRO200304613   \n68                   CASHERN COMERCIALIZADORA SA DE CV   CCO200220CN4   \n\n                 importe año_constitucion  \n135         23,605,370.0             2019  \n487 13,652,996.219999999             2022  \n424         6,973,215.38             2020  \n443          5,400,000.0             2019  \n439          3,821,293.0             2020  \n178          3,047,829.4             2020  \n331         1,981,194.45             2019  \n280         1,919,666.49             2020  \n84           1,445,560.0             2020  \n245         1,304,476.95             2021  \n275         1,027,546.65             2020  \n269           891,977.73          unknown  \n32             836,115.0          unknown  \n433            773,200.0             2019  \n223            769,850.0             2020  \n58            573,981.85             2020  \n371            420,000.0             2019  \n238            393,750.0             2019  \n242            371,739.0             2020  \n208            353,220.4             2020  \n292            312,000.0             2020  \n210            303,045.6             2019  \n35             286,995.0             2019  \n232            284,906.0             2019  \n74             200,000.0             2020  \n105            180,000.0             2020  \n107  166,892.97999999998             2020  \n412            140,000.0             2020  \n246            121,206.0             2020  \n243             77,600.0             2019  \n497             74,976.0             2020  \n68              70,848.0             2020  ",
      "text/html": "<div>\n<style scoped>\n    .dataframe tbody tr th:only-of-type {\n        vertical-align: middle;\n    }\n\n    .dataframe tbody tr th {\n        vertical-align: top;\n    }\n\n    .dataframe thead th {\n        text-align: right;\n    }\n</style>\n<table border=\"1\" class=\"dataframe\">\n  <thead>\n    <tr style=\"text-align: right;\">\n      <th></th>\n      <th>proveedor_o_contratista</th>\n      <th>rfc</th>\n      <th>importe</th>\n      <th>año_constitucion</th>\n    </tr>\n  </thead>\n  <tbody>\n    <tr>\n      <th>135</th>\n      <td>CRIBAS Y ALMACENES DE MEXICO SA DE CV</td>\n      <td>CAM190726JU1</td>\n      <td>23,605,370.0</td>\n      <td>2019</td>\n    </tr>\n    <tr>\n      <th>487</th>\n      <td>TODOLOGOS.COM SA DE CV</td>\n      <td>TOD220214AR9</td>\n      <td>13,652,996.219999999</td>\n      <td>2022</td>\n    </tr>\n    <tr>\n      <th>424</th>\n      <td>SEGURIDAD PRIVADA BAMSAI SA DE CV</td>\n      <td>SPB200710K11</td>\n      <td>6,973,215.38</td>\n      <td>2020</td>\n    </tr>\n    <tr>\n      <th>443</th>\n      <td>SERVICIOS ADMINISTRATIVOS Y OPERATIVOS BA S DE...</td>\n      <td>SAO1905165A0</td>\n      <td>5,400,000.0</td>\n      <td>2019</td>\n    </tr>\n    <tr>\n      <th>439</th>\n      <td>SERVICIO DE MECANICA DIESEL Y GASOLINA EN GENE...</td>\n      <td>SMD2005267G6</td>\n      <td>3,821,293.0</td>\n      <td>2020</td>\n    </tr>\n    <tr>\n      <th>178</th>\n      <td>EMPRESARIAL DE PRODUCTOS RIVERA SA DE CV</td>\n      <td>EPR200701TI3</td>\n      <td>3,047,829.4</td>\n      <td>2020</td>\n    </tr>\n    <tr>\n      <th>331</th>\n      <td>MULTISERVICIOS CEGADO SA DE CV</td>\n      <td>MCE1906141U1</td>\n      <td>1,981,194.45</td>\n      <td>2019</td>\n    </tr>\n    <tr>\n      <th>280</th>\n      <td>LCD INNOVATION SA DE CV</td>\n      <td>LIN200818HC3</td>\n      <td>1,919,666.49</td>\n      <td>2020</td>\n    </tr>\n    <tr>\n      <th>84</th>\n      <td>CLEANIUM S DE RL DE CV</td>\n      <td>CLE200430A22</td>\n      <td>1,445,560.0</td>\n      <td>2020</td>\n    </tr>\n    <tr>\n      <th>245</th>\n      <td>HZUM SERVICIOS SAS DE CV</td>\n      <td>HSE210421EZ9</td>\n      <td>1,304,476.95</td>\n      <td>2021</td>\n    </tr>\n    <tr>\n      <th>275</th>\n      <td>KOOSEM SA DE CV</td>\n      <td>KOO2009173A6</td>\n      <td>1,027,546.65</td>\n      <td>2020</td>\n    </tr>\n    <tr>\n      <th>269</th>\n      <td>JESUS GARCIA</td>\n      <td>XAXX010101000</td>\n      <td>891,977.73</td>\n      <td>unknown</td>\n    </tr>\n    <tr>\n      <th>32</th>\n      <td>AMADEO LOPEZ</td>\n      <td>XAXX010101000</td>\n      <td>836,115.0</td>\n      <td>unknown</td>\n    </tr>\n    <tr>\n      <th>433</th>\n      <td>SEGUVIC SA DE CV</td>\n      <td>SEG190304BB7</td>\n      <td>773,200.0</td>\n      <td>2019</td>\n    </tr>\n    <tr>\n      <th>223</th>\n      <td>GRUPO EMPRESARIAL BENZI SA DE CV</td>\n      <td>GEB200130N51</td>\n      <td>769,850.0</td>\n      <td>2020</td>\n    </tr>\n    <tr>\n      <th>58</th>\n      <td>BLUDIJAO SA DE CV</td>\n      <td>BLU2010213M8</td>\n      <td>573,981.85</td>\n      <td>2020</td>\n    </tr>\n    <tr>\n      <th>371</th>\n      <td>POTENCIA Y CONFORT VAGAR SA DE CV</td>\n      <td>PCV1902118TA</td>\n      <td>420,000.0</td>\n      <td>2019</td>\n    </tr>\n    <tr>\n      <th>238</th>\n      <td>GRUPO SHIVA SA DE CV</td>\n      <td>GSH190305GA4</td>\n      <td>393,750.0</td>\n      <td>2019</td>\n    </tr>\n    <tr>\n      <th>242</th>\n      <td>HENKI IX DISTRIBUCIONES SA DE CV</td>\n      <td>HID201126FC8</td>\n      <td>371,739.0</td>\n      <td>2020</td>\n    </tr>\n    <tr>\n      <th>208</th>\n      <td>GELMAR GRAND SERVICES SA DE CV</td>\n      <td>GGS200902FD8</td>\n      <td>353,220.4</td>\n      <td>2020</td>\n    </tr>\n    <tr>\n      <th>292</th>\n      <td>LUXIMIA CAPITAL GROUP SA DE CV</td>\n      <td>LCG2001282C1</td>\n      <td>312,000.0</td>\n      <td>2020</td>\n    </tr>\n    <tr>\n      <th>210</th>\n      <td>GEPS SA DE CV</td>\n      <td>GEP190321QS3</td>\n      <td>303,045.6</td>\n      <td>2019</td>\n    </tr>\n    <tr>\n      <th>35</th>\n      <td>ARLEY ABOGADOS SC</td>\n      <td>AAB1909046J6</td>\n      <td>286,995.0</td>\n      <td>2019</td>\n    </tr>\n    <tr>\n      <th>232</th>\n      <td>GRUPO LEKS CREACIONES DEPORTIVAS S DE RL DE CV</td>\n      <td>GLC190718454</td>\n      <td>284,906.0</td>\n      <td>2019</td>\n    </tr>\n    <tr>\n      <th>74</th>\n      <td>CENSUR CONSTRUCCION Y CONSULTORIA SA DE CV</td>\n      <td>CCC2010099T9</td>\n      <td>200,000.0</td>\n      <td>2020</td>\n    </tr>\n    <tr>\n      <th>105</th>\n      <td>COMERCIALIZADORA EN ACONDICIONADO DE MONTERREY...</td>\n      <td>CAM2002067N2</td>\n      <td>180,000.0</td>\n      <td>2020</td>\n    </tr>\n    <tr>\n      <th>107</th>\n      <td>COMERCIALIZADORA INDUSTRIAL HERMANOS CERVANTES...</td>\n      <td>CIH200207JP6</td>\n      <td>166,892.97999999998</td>\n      <td>2020</td>\n    </tr>\n    <tr>\n      <th>412</th>\n      <td>RULITOL COMERCIO Y DESAROLLO SA DE CV</td>\n      <td>RCD200117BX6</td>\n      <td>140,000.0</td>\n      <td>2020</td>\n    </tr>\n    <tr>\n      <th>246</th>\n      <td>IFASER SA DE CV</td>\n      <td>IFA200703VA5</td>\n      <td>121,206.0</td>\n      <td>2020</td>\n    </tr>\n    <tr>\n      <th>243</th>\n      <td>HEXA AMC DE MEXICO SA DE CV</td>\n      <td>HAM190128D56</td>\n      <td>77,600.0</td>\n      <td>2019</td>\n    </tr>\n    <tr>\n      <th>497</th>\n      <td>TRX RIDE ON SA DE CV</td>\n      <td>TRO200304613</td>\n      <td>74,976.0</td>\n      <td>2020</td>\n    </tr>\n    <tr>\n      <th>68</th>\n      <td>CASHERN COMERCIALIZADORA SA DE CV</td>\n      <td>CCO200220CN4</td>\n      <td>70,848.0</td>\n      <td>2020</td>\n    </tr>\n  </tbody>\n</table>\n</div>"
     },
     "execution_count": 231,
     "metadata": {},
     "output_type": "execute_result"
    }
   ],
   "source": [
    "import pandas as pd\n",
    "\n",
    "pd.options.display.float_format = '{:,}'.format\n",
    "\n",
    "prov_df=buscar.groupby(['proveedor_o_contratista', 'rfc']).agg({'importe':'sum'}).reset_index()\n",
    "\n",
    "prov_df.sort_values(by='importe', ascending=False, inplace=True)\n",
    "\n",
    "def convert_year(two_digit_year):\n",
    "    if two_digit_year.isdigit():\n",
    "        year_int = int(two_digit_year)\n",
    "        if year_int > 23:\n",
    "            return \"19\" + two_digit_year\n",
    "        else:\n",
    "            return \"20\" + two_digit_year\n",
    "    else:\n",
    "        return \"unknown\"  # or some other default value\n",
    "\n",
    "prov_df['año_constitucion'] = prov_df['rfc'].apply(lambda x: convert_year(str(x)[3:5]) if len(str(x)) >= 5 else \"unknown\")\n",
    "\n",
    "prov_df[prov_df['año_constitucion']>='2019']\n"
   ],
   "metadata": {
    "collapsed": false,
    "ExecuteTime": {
     "end_time": "2023-08-03T15:15:22.354704Z",
     "start_time": "2023-08-03T15:15:22.325338Z"
    }
   }
  },
  {
   "cell_type": "code",
   "execution_count": null,
   "outputs": [],
   "source": [],
   "metadata": {
    "collapsed": false
   }
  }
 ],
 "metadata": {
  "kernelspec": {
   "display_name": "Python 3",
   "language": "python",
   "name": "python3"
  },
  "language_info": {
   "codemirror_mode": {
    "name": "ipython",
    "version": 2
   },
   "file_extension": ".py",
   "mimetype": "text/x-python",
   "name": "python",
   "nbconvert_exporter": "python",
   "pygments_lexer": "ipython2",
   "version": "2.7.6"
  }
 },
 "nbformat": 4,
 "nbformat_minor": 0
}
