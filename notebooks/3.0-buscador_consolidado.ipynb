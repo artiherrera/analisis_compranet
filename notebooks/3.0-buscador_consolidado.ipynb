{
 "cells": [
  {
   "cell_type": "code",
   "execution_count": 4,
   "metadata": {
    "collapsed": true,
    "ExecuteTime": {
     "end_time": "2023-08-03T00:16:44.494580Z",
     "start_time": "2023-08-03T00:16:39.312776Z"
    }
   },
   "outputs": [
    {
     "name": "stderr",
     "output_type": "stream",
     "text": [
      "/var/folders/n1/5l3l1c6x5xd7lfxmx1cmr21c0000gn/T/ipykernel_74477/2312118806.py:13: DtypeWarning: Columns (6,7,20,42,43) have mixed types. Specify dtype option on import or set low_memory=False.\n",
      "  dfs[f'df{year}'] = pd.read_csv(file_path)  # lee el archivo CSV y lo almacena en el diccionario\n",
      "/var/folders/n1/5l3l1c6x5xd7lfxmx1cmr21c0000gn/T/ipykernel_74477/2312118806.py:13: DtypeWarning: Columns (6,7,20,42,43) have mixed types. Specify dtype option on import or set low_memory=False.\n",
      "  dfs[f'df{year}'] = pd.read_csv(file_path)  # lee el archivo CSV y lo almacena en el diccionario\n",
      "/var/folders/n1/5l3l1c6x5xd7lfxmx1cmr21c0000gn/T/ipykernel_74477/2312118806.py:13: DtypeWarning: Columns (6,7,20,42,43) have mixed types. Specify dtype option on import or set low_memory=False.\n",
      "  dfs[f'df{year}'] = pd.read_csv(file_path)  # lee el archivo CSV y lo almacena en el diccionario\n",
      "/var/folders/n1/5l3l1c6x5xd7lfxmx1cmr21c0000gn/T/ipykernel_74477/2312118806.py:13: DtypeWarning: Columns (6,20,42,43) have mixed types. Specify dtype option on import or set low_memory=False.\n",
      "  dfs[f'df{year}'] = pd.read_csv(file_path)  # lee el archivo CSV y lo almacena en el diccionario\n"
     ]
    }
   ],
   "source": [
    "import os\n",
    "import pandas as pd\n",
    "import janitor\n",
    "\n",
    "dfs = {}\n",
    "\n",
    "ruta = os.path.join('..', 'data')\n",
    "\n",
    "years = range(2019, 2024)\n",
    "\n",
    "for year in years:\n",
    "    file_path = os.path.join(ruta, f'{year}clean.csv')  # crea la ruta al archivo\n",
    "    dfs[f'df{year}'] = pd.read_csv(file_path)  # lee el archivo CSV y lo almacena en el diccionario\n",
    "\n",
    "df2019 = dfs['df2019']\n",
    "df2020 = dfs['df2020']\n",
    "df2021 = dfs['df2021']\n",
    "df2022 = dfs['df2022']\n",
    "df2023 = dfs['df2023']\n",
    "\n",
    "for name, df in dfs.items():\n",
    "    dfs[name] = df.clean_names()"
   ]
  },
  {
   "cell_type": "code",
   "execution_count": 11,
   "outputs": [],
   "source": [
    "# Crear una lista de dataframes\n",
    "dfs_list = [dfs[name] for name in dfs.keys()]\n",
    "\n",
    "# Concatenar todos los dataframes\n",
    "contratos_df = pd.concat(dfs_list, ignore_index=True)\n"
   ],
   "metadata": {
    "collapsed": false,
    "ExecuteTime": {
     "end_time": "2023-08-03T00:20:10.110851Z",
     "start_time": "2023-08-03T00:20:09.428287Z"
    }
   }
  },
  {
   "cell_type": "code",
   "execution_count": 12,
   "outputs": [
    {
     "name": "stdout",
     "output_type": "stream",
     "text": [
      "1 USD = 17.115130976369297 MXN\n",
      "1 CAD = 13.018183084854396 MXN\n",
      "1 EUR = 18.6863 MXN\n",
      "1 GBP = 21.75912340762477 MXN\n",
      "1 JPY = 0.11946998273767662 MXN\n",
      "Done\n"
     ]
    }
   ],
   "source": [
    "from currency_converter import CurrencyConverter\n",
    "\n",
    "\n",
    "for column in contratos_df.columns:\n",
    "    if contratos_df[column].dtype == 'object':\n",
    "        contratos_df[column] = contratos_df[column].str.upper()\n",
    "\n",
    "\n",
    "for column in contratos_df.columns:\n",
    "    if contratos_df[column].dtype == 'string':\n",
    "        contratos_df[column] = contratos_df[column].str.upper()\n",
    "\n",
    "c = CurrencyConverter()\n",
    "currencies=['USD', 'CAD', 'EUR', 'GBP', 'JPY']\n",
    "\n",
    "# Create a dictionary to store conversion rates\n",
    "conversion_rates = {}\n",
    "\n",
    "for m in currencies:\n",
    "    conversion_rate = c.convert(1, m, 'MXN')\n",
    "    print(1, m, \"=\", conversion_rate, 'MXN')\n",
    "    conversion_rates[m] = conversion_rate\n",
    "\n",
    "# Apply conversion rates\n",
    "contratos_df[\"importe\"] = contratos_df[\"importe_del_contrato\"]\n",
    "\n",
    "for currency, conversion_rate in conversion_rates.items():\n",
    "    contratos_df.loc[contratos_df['moneda_del_contrato'] == currency , 'importe'] = contratos_df.loc[contratos_df['moneda_del_contrato'] == currency , \"importe_del_contrato\"] * conversion_rate\n",
    "\n",
    "print('Done')\n"
   ],
   "metadata": {
    "collapsed": false,
    "ExecuteTime": {
     "end_time": "2023-08-03T00:20:16.623195Z",
     "start_time": "2023-08-03T00:20:12.004952Z"
    }
   }
  },
  {
   "cell_type": "markdown",
   "source": [
    "### Función de búsqueda"
   ],
   "metadata": {
    "collapsed": false
   }
  },
  {
   "cell_type": "code",
   "execution_count": 17,
   "outputs": [],
   "source": [
    "def filter_contratos(contratos_df):\n",
    "    # Solicita al usuario un proveedor o contratista o RFC\n",
    "    search_term = input(\"Por favor, ingresa el nombre del proveedor o contratista o el RFC (déjalo en blanco para mostrar todos): \").lower()\n",
    "\n",
    "    # Solicita al usuario las siglas de la institución o \"todas\" para buscar en todas\n",
    "    institution = input(\"Por favor, ingresa las siglas de la institución (déjalo en blanco para mostrar todas) o 'todas' para buscar en todas: \").upper()\n",
    "\n",
    "    # Solicita al usuario las palabras clave en la descripción del contrato\n",
    "    keywords = input(\"Por favor, ingresa las palabras clave en la descripción del contrato (separa múltiples palabras con comas, déjalo en blanco para buscar todas): \").upper()\n",
    "\n",
    "    # Solicita al usuario las palabras a excluir en la descripción del contrato\n",
    "    exclude_words = input(\"Por favor, ingresa las palabras a excluir en la descripción del contrato (separa múltiples palabras con comas, déjalo en blanco para no excluir ninguna): \").upper()\n",
    "\n",
    "    # Inicialmente asumimos todos los contratos\n",
    "    filtered_df = contratos_df.copy()  # Creamos una copia del DataFrame\n",
    "\n",
    "    filtered_df[['proveedor_o_contratista', 'descripcion_del_contrato']] = filtered_df[['proveedor_o_contratista', 'descripcion_del_contrato']].fillna('')\n",
    "\n",
    "\n",
    "# Convierte las columnas de texto a minúsculas\n",
    "    filtered_df['proveedor_o_contratista'] = filtered_df['proveedor_o_contratista'].str.upper()\n",
    "    filtered_df['siglas_de_la_institucion'] = filtered_df['siglas_de_la_institucion'].str.upper()\n",
    "    filtered_df['descripcion_del_contrato'] = filtered_df['descripcion_del_contrato'].str.upper()\n",
    "\n",
    "    # Filtra por proveedor o contratista o RFC si se proporciona\n",
    "    if search_term:\n",
    "        if len(search_term) == 12 and search_term.isalnum(): # RFC en México tiene 13 caracteres y sólo contiene letras y números\n",
    "            filtered_df = filtered_df.loc[filtered_df['rfc'] == search_term]\n",
    "        else:\n",
    "            filtered_df = filtered_df.loc[filtered_df['proveedor_o_contratista'].str.contains(search_term, case=False)]\n",
    "\n",
    "    # Filtra por institución si se proporciona\n",
    "    if institution != 'todas' and institution:\n",
    "        filtered_df = filtered_df.loc[filtered_df['siglas_de_la_institucion'] == institution]\n",
    "\n",
    "    # Reemplaza los NaN en la descripción del contrato por cadenas vacías\n",
    "    filtered_df['descripcion_del_contrato'] = filtered_df['descripcion_del_contrato'].fillna('')\n",
    "\n",
    "    # Filtra por palabras clave en la descripción del contrato si se proporcionan\n",
    "    if keywords:\n",
    "        for keyword in keywords.split(','):\n",
    "            keyword = keyword.strip()  # Remueve los espacios adicionales al principio y al final de la palabra\n",
    "            filtered_df = filtered_df.loc[filtered_df['descripcion_del_contrato'].str.contains(keyword, case=False)]\n",
    "\n",
    "    # Excluye contratos que contienen ciertas palabras en la descripción del contrato si se proporcionan\n",
    "    if exclude_words:\n",
    "        for word in exclude_words.split(','):\n",
    "            word = word.strip()  # Remueve los espacios adicionales al principio y al final de la palabra\n",
    "            filtered_df = filtered_df.loc[~filtered_df['descripcion_del_contrato'].str.contains(word, case=False)]\n",
    "\n",
    "    # Ordena el DataFrame filtrado por importe en orden descendente\n",
    "    filtered_df = filtered_df.sort_values(by='importe', ascending=False)\n",
    "\n",
    "    # Muestra el DataFrame filtrado\n",
    "    return filtered_df\n",
    "\n",
    "# Usa la función:\n"
   ],
   "metadata": {
    "collapsed": false,
    "ExecuteTime": {
     "end_time": "2023-08-03T00:25:33.008077Z",
     "start_time": "2023-08-03T00:25:32.974061Z"
    }
   }
  },
  {
   "cell_type": "markdown",
   "source": [
    "# Búsqueda"
   ],
   "metadata": {
    "collapsed": false
   }
  },
  {
   "cell_type": "code",
   "execution_count": 27,
   "outputs": [
    {
     "data": {
      "text/plain": "       siglas_de_la_institucion  \\\n58417              API-VERACRUZ   \n311405               API-TUXPAN   \n65308                API-TUXPAN   \n185925          API-SALINA CRUZ   \n211734               API-TUXPAN   \n51826           API-SALINA CRUZ   \n256435             API-VERACRUZ   \n401267         ASIPONA-VERACRUZ   \n\n                                      titulo_del_contrato  \\\n58417   SERVICIO PARA  DICTAMINAR LOS ESTADOS FINANCIE...   \n311405  AUDITORIA EXTERNA PARA DICTAMINAR LOS ESTADOS ...   \n65308   CONTRATO ABIERTO DE PRESTACIÓN DE SERVICIOS PA...   \n185925      AUDITORIA EXTERNA DE ESTADOS FINANCIEROS 2020   \n211734  CONTRATO ABIERTO PARA LA REALIZACIÓN DE DICTAM...   \n51826   SERVICIOS DE AUDITORÍA EXTERNA QUE SE REALIZAR...   \n256435               DICTAMEN DE LOS ESTADOS FINANCIEROS.   \n401267  DICTAMINAR LOS ESTADOS FINANCIEROS DEL EJERCIC...   \n\n                                 descripcion_del_contrato           rfc  \\\n58417   SERVICIO PARA DICTAMINAR LOS ESTADOS FINANCIER...  TGA961209CG6   \n311405  AUDITORIA EXTERNA PARA DICTAMINAR LOS ESTADOS ...  TGA961209CG6   \n65308   CONTRATO ABIERTO DE PRESTACIÓN DE SERVICIOS PA...  TGA961209CG6   \n185925  AUDITORIA EXTERNA DE ESTADOS FINANCIEROS CON C...  TGA961209CG6   \n211734  CONTRATO ABIERTO DE PRESTACIÓN DE SERVICIOS PA...  TGA961209CG6   \n51826   SERVICIOS DE AUDITORÍA EXTERNA QUE SE REALIZAR...  TGA961209CG6   \n256435               DICTAMEN DE LOS ESTADOS FINANCIEROS.  TGA961209CG6   \n401267  DICTAMINAR LOS ESTADOS FINANCIEROS DEL EJERCIC...  TGA961209CG6   \n\n                  proveedor_o_contratista   importe  \\\n58417   TRUEBA GRACIAN, ALTAMIRANO-DFK SC 344,885.0   \n311405  TRUEBA GRACIAN, ALTAMIRANO-DFK SC 311,986.0   \n65308   TRUEBA GRACIAN, ALTAMIRANO-DFK SC 307,432.0   \n185925  TRUEBA GRACIAN, ALTAMIRANO-DFK SC 305,502.0   \n211734  TRUEBA GRACIAN, ALTAMIRANO-DFK SC 305,102.0   \n51826   TRUEBA GRACIAN, ALTAMIRANO-DFK SC 299,034.0   \n256435  TRUEBA GRACIAN, ALTAMIRANO-DFK SC  34,488.5   \n401267  TRUEBA GRACIAN, ALTAMIRANO-DFK SC  34,071.2   \n\n                                    direccion_del_anuncio  \n58417   HTTPS://COMPRANET.HACIENDA.GOB.MX/ESOP/GUEST/G...  \n311405  HTTPS://COMPRANET.HACIENDA.GOB.MX/ESOP/GUEST/G...  \n65308   HTTPS://COMPRANET.HACIENDA.GOB.MX/ESOP/GUEST/G...  \n185925  HTTPS://COMPRANET.HACIENDA.GOB.MX/ESOP/GUEST/G...  \n211734  HTTPS://COMPRANET.HACIENDA.GOB.MX/ESOP/GUEST/G...  \n51826   HTTPS://COMPRANET.HACIENDA.GOB.MX/ESOP/GUEST/G...  \n256435  HTTPS://COMPRANET.HACIENDA.GOB.MX/ESOP/GUEST/G...  \n401267  HTTPS://COMPRANET.HACIENDA.GOB.MX/ESOP/GUEST/G...  ",
      "text/html": "<div>\n<style scoped>\n    .dataframe tbody tr th:only-of-type {\n        vertical-align: middle;\n    }\n\n    .dataframe tbody tr th {\n        vertical-align: top;\n    }\n\n    .dataframe thead th {\n        text-align: right;\n    }\n</style>\n<table border=\"1\" class=\"dataframe\">\n  <thead>\n    <tr style=\"text-align: right;\">\n      <th></th>\n      <th>siglas_de_la_institucion</th>\n      <th>titulo_del_contrato</th>\n      <th>descripcion_del_contrato</th>\n      <th>rfc</th>\n      <th>proveedor_o_contratista</th>\n      <th>importe</th>\n      <th>direccion_del_anuncio</th>\n    </tr>\n  </thead>\n  <tbody>\n    <tr>\n      <th>58417</th>\n      <td>API-VERACRUZ</td>\n      <td>SERVICIO PARA  DICTAMINAR LOS ESTADOS FINANCIE...</td>\n      <td>SERVICIO PARA DICTAMINAR LOS ESTADOS FINANCIER...</td>\n      <td>TGA961209CG6</td>\n      <td>TRUEBA GRACIAN, ALTAMIRANO-DFK SC</td>\n      <td>344,885.0</td>\n      <td>HTTPS://COMPRANET.HACIENDA.GOB.MX/ESOP/GUEST/G...</td>\n    </tr>\n    <tr>\n      <th>311405</th>\n      <td>API-TUXPAN</td>\n      <td>AUDITORIA EXTERNA PARA DICTAMINAR LOS ESTADOS ...</td>\n      <td>AUDITORIA EXTERNA PARA DICTAMINAR LOS ESTADOS ...</td>\n      <td>TGA961209CG6</td>\n      <td>TRUEBA GRACIAN, ALTAMIRANO-DFK SC</td>\n      <td>311,986.0</td>\n      <td>HTTPS://COMPRANET.HACIENDA.GOB.MX/ESOP/GUEST/G...</td>\n    </tr>\n    <tr>\n      <th>65308</th>\n      <td>API-TUXPAN</td>\n      <td>CONTRATO ABIERTO DE PRESTACIÓN DE SERVICIOS PA...</td>\n      <td>CONTRATO ABIERTO DE PRESTACIÓN DE SERVICIOS PA...</td>\n      <td>TGA961209CG6</td>\n      <td>TRUEBA GRACIAN, ALTAMIRANO-DFK SC</td>\n      <td>307,432.0</td>\n      <td>HTTPS://COMPRANET.HACIENDA.GOB.MX/ESOP/GUEST/G...</td>\n    </tr>\n    <tr>\n      <th>185925</th>\n      <td>API-SALINA CRUZ</td>\n      <td>AUDITORIA EXTERNA DE ESTADOS FINANCIEROS 2020</td>\n      <td>AUDITORIA EXTERNA DE ESTADOS FINANCIEROS CON C...</td>\n      <td>TGA961209CG6</td>\n      <td>TRUEBA GRACIAN, ALTAMIRANO-DFK SC</td>\n      <td>305,502.0</td>\n      <td>HTTPS://COMPRANET.HACIENDA.GOB.MX/ESOP/GUEST/G...</td>\n    </tr>\n    <tr>\n      <th>211734</th>\n      <td>API-TUXPAN</td>\n      <td>CONTRATO ABIERTO PARA LA REALIZACIÓN DE DICTAM...</td>\n      <td>CONTRATO ABIERTO DE PRESTACIÓN DE SERVICIOS PA...</td>\n      <td>TGA961209CG6</td>\n      <td>TRUEBA GRACIAN, ALTAMIRANO-DFK SC</td>\n      <td>305,102.0</td>\n      <td>HTTPS://COMPRANET.HACIENDA.GOB.MX/ESOP/GUEST/G...</td>\n    </tr>\n    <tr>\n      <th>51826</th>\n      <td>API-SALINA CRUZ</td>\n      <td>SERVICIOS DE AUDITORÍA EXTERNA QUE SE REALIZAR...</td>\n      <td>SERVICIOS DE AUDITORÍA EXTERNA QUE SE REALIZAR...</td>\n      <td>TGA961209CG6</td>\n      <td>TRUEBA GRACIAN, ALTAMIRANO-DFK SC</td>\n      <td>299,034.0</td>\n      <td>HTTPS://COMPRANET.HACIENDA.GOB.MX/ESOP/GUEST/G...</td>\n    </tr>\n    <tr>\n      <th>256435</th>\n      <td>API-VERACRUZ</td>\n      <td>DICTAMEN DE LOS ESTADOS FINANCIEROS.</td>\n      <td>DICTAMEN DE LOS ESTADOS FINANCIEROS.</td>\n      <td>TGA961209CG6</td>\n      <td>TRUEBA GRACIAN, ALTAMIRANO-DFK SC</td>\n      <td>34,488.5</td>\n      <td>HTTPS://COMPRANET.HACIENDA.GOB.MX/ESOP/GUEST/G...</td>\n    </tr>\n    <tr>\n      <th>401267</th>\n      <td>ASIPONA-VERACRUZ</td>\n      <td>DICTAMINAR LOS ESTADOS FINANCIEROS DEL EJERCIC...</td>\n      <td>DICTAMINAR LOS ESTADOS FINANCIEROS DEL EJERCIC...</td>\n      <td>TGA961209CG6</td>\n      <td>TRUEBA GRACIAN, ALTAMIRANO-DFK SC</td>\n      <td>34,071.2</td>\n      <td>HTTPS://COMPRANET.HACIENDA.GOB.MX/ESOP/GUEST/G...</td>\n    </tr>\n  </tbody>\n</table>\n</div>"
     },
     "execution_count": 27,
     "metadata": {},
     "output_type": "execute_result"
    }
   ],
   "source": [
    "# Usa la función:\n",
    "buscar = filter_contratos(contratos_df)\n",
    "buscar[['siglas_de_la_institucion', 'titulo_del_contrato', 'descripcion_del_contrato','rfc','proveedor_o_contratista', 'importe', 'direccion_del_anuncio' ]]"
   ],
   "metadata": {
    "collapsed": false,
    "ExecuteTime": {
     "end_time": "2023-08-03T00:39:47.593101Z",
     "start_time": "2023-08-03T00:39:33.224039Z"
    }
   }
  },
  {
   "cell_type": "markdown",
   "source": [
    "### Resultados de búsqueda por institución"
   ],
   "metadata": {
    "collapsed": false
   }
  },
  {
   "cell_type": "code",
   "execution_count": 28,
   "outputs": [
    {
     "data": {
      "text/plain": "  siglas_de_la_institucion                                        institucion  \\\n1               API-TUXPAN  ADMINISTRACIÓN PORTUARIA INTEGRAL DE TUXPAN, S...   \n0          API-SALINA CRUZ  ADMINISTRACIÓN PORTUARIA INTEGRAL DE SALINA CR...   \n2             API-VERACRUZ  ADMINISTRACIÓN PORTUARIA INTEGRAL DE VERACRUZ,...   \n3         ASIPONA-VERACRUZ  ADMINISTRACIÓN DEL SISTEMA PORTUARIO NACIONAL ...   \n\n    importe  \n1 924,520.0  \n0 604,536.0  \n2 379,373.5  \n3  34,071.2  ",
      "text/html": "<div>\n<style scoped>\n    .dataframe tbody tr th:only-of-type {\n        vertical-align: middle;\n    }\n\n    .dataframe tbody tr th {\n        vertical-align: top;\n    }\n\n    .dataframe thead th {\n        text-align: right;\n    }\n</style>\n<table border=\"1\" class=\"dataframe\">\n  <thead>\n    <tr style=\"text-align: right;\">\n      <th></th>\n      <th>siglas_de_la_institucion</th>\n      <th>institucion</th>\n      <th>importe</th>\n    </tr>\n  </thead>\n  <tbody>\n    <tr>\n      <th>1</th>\n      <td>API-TUXPAN</td>\n      <td>ADMINISTRACIÓN PORTUARIA INTEGRAL DE TUXPAN, S...</td>\n      <td>924,520.0</td>\n    </tr>\n    <tr>\n      <th>0</th>\n      <td>API-SALINA CRUZ</td>\n      <td>ADMINISTRACIÓN PORTUARIA INTEGRAL DE SALINA CR...</td>\n      <td>604,536.0</td>\n    </tr>\n    <tr>\n      <th>2</th>\n      <td>API-VERACRUZ</td>\n      <td>ADMINISTRACIÓN PORTUARIA INTEGRAL DE VERACRUZ,...</td>\n      <td>379,373.5</td>\n    </tr>\n    <tr>\n      <th>3</th>\n      <td>ASIPONA-VERACRUZ</td>\n      <td>ADMINISTRACIÓN DEL SISTEMA PORTUARIO NACIONAL ...</td>\n      <td>34,071.2</td>\n    </tr>\n  </tbody>\n</table>\n</div>"
     },
     "execution_count": 28,
     "metadata": {},
     "output_type": "execute_result"
    }
   ],
   "source": [
    "pd.options.display.float_format = '{:,}'.format\n",
    "\n",
    "ins_df=buscar.groupby(['siglas_de_la_institucion', 'institucion']).agg({'importe':'sum'}).reset_index()\n",
    "\n",
    "ins_df.sort_values(by='importe', ascending=False, inplace=True)\n",
    "#institucion.set_index('Institución', inplace=True)\n",
    "ins_df"
   ],
   "metadata": {
    "collapsed": false,
    "ExecuteTime": {
     "end_time": "2023-08-03T00:39:52.466011Z",
     "start_time": "2023-08-03T00:39:52.438117Z"
    }
   }
  },
  {
   "cell_type": "markdown",
   "source": [
    "### Resultados de búsqueda por proveedor"
   ],
   "metadata": {
    "collapsed": false
   }
  },
  {
   "cell_type": "code",
   "execution_count": 29,
   "outputs": [
    {
     "data": {
      "text/plain": "             proveedor_o_contratista           rfc     importe  \\\n0  TRUEBA GRACIAN, ALTAMIRANO-DFK SC  TGA961209CG6 1,942,500.7   \n\n  año_constitucion  \n0             1996  ",
      "text/html": "<div>\n<style scoped>\n    .dataframe tbody tr th:only-of-type {\n        vertical-align: middle;\n    }\n\n    .dataframe tbody tr th {\n        vertical-align: top;\n    }\n\n    .dataframe thead th {\n        text-align: right;\n    }\n</style>\n<table border=\"1\" class=\"dataframe\">\n  <thead>\n    <tr style=\"text-align: right;\">\n      <th></th>\n      <th>proveedor_o_contratista</th>\n      <th>rfc</th>\n      <th>importe</th>\n      <th>año_constitucion</th>\n    </tr>\n  </thead>\n  <tbody>\n    <tr>\n      <th>0</th>\n      <td>TRUEBA GRACIAN, ALTAMIRANO-DFK SC</td>\n      <td>TGA961209CG6</td>\n      <td>1,942,500.7</td>\n      <td>1996</td>\n    </tr>\n  </tbody>\n</table>\n</div>"
     },
     "execution_count": 29,
     "metadata": {},
     "output_type": "execute_result"
    }
   ],
   "source": [
    "pd.options.display.float_format = '{:,}'.format\n",
    "\n",
    "prov_df=buscar.groupby(['proveedor_o_contratista', 'rfc']).agg({'importe':'sum'}).reset_index()\n",
    "\n",
    "prov_df.sort_values(by='importe', ascending=False, inplace=True)\n",
    "\n",
    "def convert_year(two_digit_year):\n",
    "    if int(two_digit_year) > 23:\n",
    "        return \"19\" + two_digit_year\n",
    "    else:\n",
    "        return \"20\" + two_digit_year\n",
    "\n",
    "prov_df['año_constitucion'] = prov_df['rfc'].astype(str).str[3:5].apply(lambda x: convert_year(x))\n",
    "\n",
    "#institucion.set_index('Institución', inplace=True)\n",
    "prov_df"
   ],
   "metadata": {
    "collapsed": false,
    "ExecuteTime": {
     "end_time": "2023-08-03T00:39:55.141278Z",
     "start_time": "2023-08-03T00:39:55.113705Z"
    }
   }
  }
 ],
 "metadata": {
  "kernelspec": {
   "display_name": "Python 3",
   "language": "python",
   "name": "python3"
  },
  "language_info": {
   "codemirror_mode": {
    "name": "ipython",
    "version": 2
   },
   "file_extension": ".py",
   "mimetype": "text/x-python",
   "name": "python",
   "nbconvert_exporter": "python",
   "pygments_lexer": "ipython2",
   "version": "2.7.6"
  }
 },
 "nbformat": 4,
 "nbformat_minor": 0
}
